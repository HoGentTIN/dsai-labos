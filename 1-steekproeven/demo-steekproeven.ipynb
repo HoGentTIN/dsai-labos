{
 "cells": [
  {
   "cell_type": "markdown",
   "metadata": {},
   "source": [
    "# Module 1. Steekproeven\n",
    "\n",
    "De meeste Python scripts (of Jupyter Notebooks) voor het analyseren van data maken gebruik van dezelfde programmabibliotheken. De belangrijkste zijn:\n",
    "\n",
    "- `numpy` - multidimensionale arrays, lineaire algebra, enz.\n",
    "- `scipy` - wiskunde, (ingenieurs)wetenschappen, enz.\n",
    "- `pandas` - data-analyse en -manipulatie\n",
    "- `matplotlib`, `seaborn`, `altair` - datavisualisatie.\n",
    "\n",
    "Je kan deze installeren met `pip`:\n",
    "\n",
    "```console\n",
    "> pip install numpy scipy pandas matplotlib seaborn altair statsmodels\n",
    "```\n",
    "\n",
    "Omdat je meestal telkens dezelfde packages nodig hebt, zet je deze dus best bovenaan elk script dat je schrijft. In veel scripts is het de conventie om de packagenamen af te korten, bv. `np` voor `numpy`, `sns` voor `seaborn`, enz."
   ]
  },
  {
   "cell_type": "code",
   "execution_count": null,
   "metadata": {},
   "outputs": [],
   "source": [
    "# Importeren van de nodige packages\n",
    "import numpy as np                                  # \"Scientific computing\"\n",
    "import scipy.stats as stats                         # Statistical tests\n",
    "\n",
    "import pandas as pd                                 # Dataframe\n",
    "from pandas.api.types import CategoricalDtype\n",
    "\n",
    "import matplotlib.pyplot as plt                     # Basis visualisatie\n",
    "from statsmodels.graphics.mosaicplot import mosaic  # Mozaïekdiagram\n",
    "import seaborn as sns                               # Geavanceerde datavisualisatie\n",
    "import altair as alt                                # Een alternatief visualisatiesysteem"
   ]
  },
  {
   "cell_type": "markdown",
   "metadata": {},
   "source": [
    "## Dataset openen, algemene info\n",
    "\n",
    "Je kan een dataset inlezen uit uiteenlopende bronnen (Rajagopalan, 2021, p.158). Je kan een pad opgeven naar een bestandsnaam of zelfs een URL:"
   ]
  },
  {
   "cell_type": "code",
   "execution_count": null,
   "metadata": {},
   "outputs": [],
   "source": [
    "# Titanic dataset importeren. (Rajagopalan, 2021, p. 106)\n",
    "titanic = pd.read_csv('https://raw.githubusercontent.com/DataRepo2019/Data-files/master/titanic.csv')\n",
    "# Toon de eerste regels van de dataset\n",
    "titanic.head()"
   ]
  },
  {
   "cell_type": "code",
   "execution_count": null,
   "metadata": {},
   "outputs": [],
   "source": [
    "# Hoeveel rijen heeft de dataset?\n",
    "len(titanic)\n",
    "# Hoveel kolommen?\n",
    "len(titanic.columns)\n",
    "# Hoeveel rijen en kolommen?\n",
    "titanic.shape\n",
    "# Algemene info over de dataset:\n",
    "titanic.info()\n",
    "\n",
    "# Van welk datatype is elke variabele?\n",
    "titanic.dtypes\n",
    "\n",
    "# Hoeveel kolommen van elk type zijn er?\n",
    "#   Let op! In het boek staat get_dtype_counts(), maar deze functie bestaat\n",
    "#   niet meer.\n",
    "titanic.dtypes.value_counts()"
   ]
  },
  {
   "cell_type": "markdown",
   "metadata": {},
   "source": [
    "## Indexen\n",
    "\n",
    "De kolom \"PassengerId\" is eigenlijk geen variabele, maar een getal dat de observatie identificeert. Je kan deze kolom als een index markeren:"
   ]
  },
  {
   "cell_type": "code",
   "execution_count": null,
   "metadata": {},
   "outputs": [],
   "source": [
    "titanic.set_index(['PassengerId'])"
   ]
  },
  {
   "cell_type": "markdown",
   "metadata": {},
   "source": [
    "## Kwalitatieve variabelen\n",
    "\n",
    "Sommige van de variabelen, zoals Survived en Pclass, worden ten onrechte beschouwd als kwantitatief. Dit kan je rechtzetten door ze expliciet om te zetten naar een **kwalitatieve** (categorische) variabele:"
   ]
  },
  {
   "cell_type": "code",
   "execution_count": null,
   "metadata": {},
   "outputs": [],
   "source": [
    "# Beschrijf de variabele Survived -> wordt nu als kwantitatief beschouwd\n",
    "print(titanic.Survived.describe())\n",
    "# Zet om naar een categorische variabele\n",
    "titanic.Survived = titanic.Survived.astype('category')\n",
    "# Vraag opnieuw de beschrijving op -> nu is het een kwalitatieve variabele\n",
    "print(titanic.Survived.describe())"
   ]
  },
  {
   "cell_type": "markdown",
   "metadata": {},
   "source": [
    "Je kan variabelen ook als **ordinale** markeren, dus met een ordening. We zullen dit als voorbeeld doen met de variabele \"Embarked\" en de havens ordenen in de volgorde van vertrek. De Titanic vertrok in SouthHampton, en nam vervolgens nog passagiers op eerst in Cherbourg en vervolgens in Queenstown.\n",
    "\n",
    "Voor dit soort gevallen definieer je zelf een datatype waarin je de volgorde specifieert:"
   ]
  },
  {
   "cell_type": "code",
   "execution_count": null,
   "metadata": {},
   "outputs": [],
   "source": [
    "print(titanic.Embarked.unique())\n",
    "\n",
    "embarked_type = CategoricalDtype(categories=['S', 'C', 'Q'], ordered=True)\n",
    "titanic.Embarked = titanic.Embarked.astype(embarked_type)\n",
    "titanic.Embarked.describe()"
   ]
  },
  {
   "cell_type": "markdown",
   "metadata": {},
   "source": [
    "Deze volgorde zal dan altijd gerespecteerd worden, bv. in grafieken:"
   ]
  },
  {
   "cell_type": "code",
   "execution_count": null,
   "metadata": {},
   "outputs": [],
   "source": [
    "sns.countplot(data=titanic, x='Embarked');"
   ]
  },
  {
   "cell_type": "markdown",
   "metadata": {},
   "source": [
    "## Data selecteren"
   ]
  },
  {
   "cell_type": "code",
   "execution_count": null,
   "metadata": {},
   "outputs": [],
   "source": [
    "# Alle observaties voor één variabele selecteren (kolom van de dataset)\n",
    "titanic.Age\n",
    "# Dit werkt ook (en is misschien beter want het zal ook werken\n",
    "# als de kolomnaam een spatie bevat)\n",
    "# titanic['Age']\n",
    "# Dit werkt ook maar is niet zeer elegant\n",
    "# titanic.loc[:, 'Age']"
   ]
  },
  {
   "cell_type": "code",
   "execution_count": null,
   "metadata": {},
   "outputs": [],
   "source": [
    "# Selecteer aangrenzende kolommen:\n",
    "titanic.iloc[:, 2:4]"
   ]
  },
  {
   "cell_type": "markdown",
   "metadata": {},
   "source": [
    "Je kan ook meerdere kolommen selecteren op basis van hun naam.\n",
    "Dat is vaak duidelijker dan op basis van positie én de kolommen moeten \n",
    "niet aangrenzend zijn."
   ]
  },
  {
   "cell_type": "code",
   "execution_count": null,
   "metadata": {},
   "outputs": [],
   "source": [
    "titanic[['Name', 'Age', 'Cabin']] # Merk op: twee paar haakjes!"
   ]
  },
  {
   "cell_type": "code",
   "execution_count": null,
   "metadata": {},
   "outputs": [],
   "source": [
    "# Observatie met rijnummer 5 (tellend vanaf 0)\n",
    "print(titanic.iloc[5])\n",
    "\n",
    "# De eerste vier observaties\n",
    "titanic.iloc[0:4]"
   ]
  },
  {
   "cell_type": "code",
   "execution_count": null,
   "metadata": {
    "scrolled": true
   },
   "outputs": [],
   "source": [
    "# Enkel de observaties waar de waarde voor variabele Age kleiner is dan 18\n",
    "titanic[titanic.Age < 18]\n",
    "\n",
    "# Idem, maar hou enkel de variabele \"Embarked\" over\n",
    "titanic[titanic.Age < 18].Embarked\n",
    "\n",
    "# Idem, maar hou kolommen 'Age' en 'Embarked' over\n",
    "titanic[titanic['Age'] < 18][['Age', 'Embarked']]"
   ]
  },
  {
   "cell_type": "code",
   "execution_count": null,
   "metadata": {},
   "outputs": [],
   "source": [
    "# Alle jongens jonger dan 10 jaar oud\n",
    "titanic.query(\"(Sex=='male') and (Age < 18)\")"
   ]
  }
 ],
 "metadata": {
  "interpreter": {
   "hash": "767d51c1340bd893661ea55ea3124f6de3c7a262a8b4abca0554b478b1e2ff90"
  },
  "kernelspec": {
   "display_name": "Python 3",
   "language": "python",
   "name": "python3"
  },
  "language_info": {
   "codemirror_mode": {
    "name": "ipython",
    "version": 3
   },
   "file_extension": ".py",
   "mimetype": "text/x-python",
   "name": "python",
   "nbconvert_exporter": "python",
   "pygments_lexer": "ipython3",
   "version": "3.8.8"
  }
 },
 "nbformat": 4,
 "nbformat_minor": 2
}
