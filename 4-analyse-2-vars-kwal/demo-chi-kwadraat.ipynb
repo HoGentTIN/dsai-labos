{
 "cells": [
  {
   "cell_type": "markdown",
   "metadata": {},
   "source": [
    "# Module 4: Het verband tussen 2 kwalitatieve variabelen\n",
    "\n",
    "Als casus lezen we de dataset `rlanders.csv` in (die synthetische data bevat, zie [de beschrijving](../data/rlanders.md))."
   ]
  },
  {
   "cell_type": "code",
   "execution_count": null,
   "metadata": {},
   "outputs": [],
   "source": [
    "# Importeren van de nodige packages\n",
    "import numpy as np                                  # \"Scientific computing\"\n",
    "import scipy.stats as stats                         # Statistical tests\n",
    "import statsmodels.api as sm\n",
    "\n",
    "import pandas as pd                                 # Dataframe\n",
    "from pandas.api.types import CategoricalDtype       # Voor ordinale variabelen\n",
    "import matplotlib.pyplot as plt                     # Basis visualisatie\n",
    "from statsmodels.graphics.mosaicplot import mosaic  # Mozaïekdiagram\n",
    "import seaborn as sns                               # Geavanceerde datavisualisatie\n",
    "import altair as alt                                # Een alternatief visualisatiesysteem"
   ]
  },
  {
   "cell_type": "code",
   "execution_count": null,
   "metadata": {},
   "outputs": [],
   "source": [
    "# Inlezen dataset + data preparation\n",
    "rlanders = pd.read_csv('../data/rlanders.csv')\n",
    "rlanders.set_index(['ID'])\n",
    "rlanders.Gender = rlanders.Gender.astype('category')\n",
    "likert_scale = CategoricalDtype(categories=[1,2,3,4,5], ordered=True)\n",
    "rlanders.Survey = rlanders.Survey.astype(likert_scale)\n",
    "# rlanders.info()\n",
    "# rlanders.Survey.dtype"
   ]
  },
  {
   "cell_type": "markdown",
   "metadata": {},
   "source": [
    "## Kruistabellen en visualisatietechnieken\n",
    "\n",
    "Stel dat we willen weten of in de steekproef vrouwen en mannen (`Gender`) verschillend antwoordden op een enquêtevraag met een Likert-schaal (`Survey`). Als de verhoudingen tussen de antwoorden (1 t/m 5) voor vrouwen en mannen ongeveer gelijk zijn, dan zeggen we dat er geen verband is tussen beide variabelen. Als er wél een aanzienlijk verschil is, dan is er wel een verband. Nu is uiteraard de vraag vanaf wanneer we spreken van een *aanzienlijk* verschil...\n",
    "\n",
    "Een eerste stap is het berekenen van een kruistabel. We voegen hier ook meteen de marginale totalen toe:"
   ]
  },
  {
   "cell_type": "code",
   "execution_count": null,
   "metadata": {},
   "outputs": [],
   "source": [
    "pd.crosstab(rlanders.Survey, rlanders.Gender, margins=True)"
   ]
  },
  {
   "cell_type": "markdown",
   "metadata": {},
   "source": [
    "Zo'n tabel zegt natuurlijk niet veel. Misschien moeten we de data eens visualiseren."
   ]
  },
  {
   "cell_type": "code",
   "execution_count": null,
   "metadata": {},
   "outputs": [],
   "source": [
    "sns.catplot(data=rlanders, x='Survey', hue='Gender', kind='count')"
   ]
  },
  {
   "cell_type": "markdown",
   "metadata": {},
   "source": [
    "Wat opvalt is dat de vrouwen alvast niet de extreme antwoorden gaven. Er zijn wel beduidend minder vrouwen in de steekproef, dus misschien moeten we eerder naar de percentages kijken.\n",
    "\n",
    "Een mozaïekdiagram is een grafische voorstelling van de kruistabel waar elke cel voorgesteld wordt door een tegel waarvan de oppervlakte proportioneel is met de frequentie van die cel t.o.v. het totaal aantal observaties.\n",
    "\n",
    "Je kan dit een beetje vergelijken met hoe [WinDirStat](https://windirstat.net/) de grootte van bestanden op je harde schijf visualiseert.\n",
    "\n",
    "Voor deze casus:"
   ]
  },
  {
   "cell_type": "code",
   "execution_count": null,
   "metadata": {},
   "outputs": [],
   "source": [
    "from matplotlib import cm\n",
    "\n",
    "# By default, mosaic() will color all columns the same. Here,\n",
    "# we're going to give a separate color to each response (1-5).\n",
    "# The response is kept in the label of each cell, a tuple of\n",
    "# the two values that are represented in that cell (e.g. \n",
    "# ('Female', '2')). We will be using the \"plasma\" color map\n",
    "# in this example.\n",
    "plasma_colors = cm.get_cmap('plasma')\n",
    "# Create a function that maps the cell key to the color we\n",
    "# want to give it. We use the colormap function created above\n",
    "# and give it a number between 0 and 1. We convert the second\n",
    "# part of the key (values '1' to '5') to a number and divide\n",
    "# by 5.\n",
    "props = lambda key: {'color': plasma_colors(int(key[1])/5)}\n",
    "\n",
    "mosaic(data=rlanders, index=['Gender', 'Survey'],\n",
    "       gap=0.05, properties=props)"
   ]
  },
  {
   "cell_type": "markdown",
   "metadata": {},
   "source": [
    "We zien hier duidelijk dat de mannen meer vertegenwoordigd zijn in de steekproef (bredere tegels).\n",
    "\n",
    "Je kan ook de verdelingen van de gegeven antwoorden op de enquêtevraag vergelijken. Op het feit na dat de vrouwen geen extreme antwoorden gegeven hebben (1 en 5), lijken de verdelingen op het eerste zicht nog vrij goed overeen te komen."
   ]
  },
  {
   "cell_type": "markdown",
   "metadata": {},
   "source": [
    "## Chi-kwadraat en Cramér's V\n",
    "\n",
    "Chi-kwadraat en Cramér's V zijn statistieken waarmee we kunnen bepalen of er een verband bestaat tussen twee kwalitatieve (categorische) variabelen.\n",
    "\n",
    "De redenering gaat als volgt: als er geen verband is tussen de `Survey` en `Gender`, dan verwachten we dat de verhoudingen tussen de waarden van `Survey` gelijk zijn voor alle waarden van `Gender`. M.a.w. bij zowel de vrouwen als de mannen geeft hetzelfde percentage respondenten hetzelfde antwoord op de vraag."
   ]
  },
  {
   "cell_type": "code",
   "execution_count": null,
   "metadata": {},
   "outputs": [],
   "source": [
    "observed = pd.crosstab(rlanders.Survey, rlanders.Gender)\n",
    "row_sums = observed.sum(axis=1)\n",
    "col_sums = observed.sum()\n",
    "n = row_sums.sum()\n",
    "\n",
    "print(row_sums)\n",
    "print(col_sums)\n",
    "print(f'Aantal observaties: {n}')"
   ]
  },
  {
   "cell_type": "markdown",
   "metadata": {},
   "source": [
    "Nu kunnen we berekenen hoe vaak we kunnen verwachten dat elke combinatie van `Gender` en `Survey` voorkomt in de steekproef. Bijvoorbeeld 114 van de 250 respondenten heeft \"3\" geantwoord, m.a.w. 114/250 = 0,456 (of 46,6%). Dan weten we dat zowel 46,6% van de vrouwen als 46,6% van de mannen \"3\" moet geantwoord hebben. Aangezien er 52 vrouwelijke respondenten waren, verwachten we dus dat er 52 x 0,456 = 23,712 \"3\" geantwoord hebben. In werkelijkheid waren het er ook 23. Bij de mannen verwachten we 198 x 0,456 = 90,288 (tegenover 91 in werkelijkheid).\n",
    "\n",
    "Dit principe kunnen we veralgemenen naar elke cel in de tabel: $\\frac{rijtotaal \\times kolomtotaal}{n}$ (met $n$ het totaal aantal observaties).\n",
    "\n",
    "De verwachte waarden kunnen we dan berekenen met de `outer()` functie:"
   ]
  },
  {
   "cell_type": "code",
   "execution_count": null,
   "metadata": {},
   "outputs": [],
   "source": [
    "expected = np.outer(row_sums, col_sums) / n\n",
    "expected"
   ]
  },
  {
   "cell_type": "markdown",
   "metadata": {},
   "source": [
    "Kloppen de rij- en kolomsommen nog?"
   ]
  },
  {
   "cell_type": "code",
   "execution_count": null,
   "metadata": {},
   "outputs": [],
   "source": [
    "exp_row_sums = np.sum(expected, axis=1)\n",
    "exp_col_sums = np.sum(expected, axis=0)\n",
    "\n",
    "print(f'Rijsommen  : {exp_row_sums}')\n",
    "print(f'Kolomsommen: {exp_col_sums}')\n",
    "print(f'Observaties: {exp_col_sums.sum()}')"
   ]
  },
  {
   "cell_type": "markdown",
   "metadata": {},
   "source": [
    "Inderdaad, alles klopt. Wat is nu het verschil tussen de verwachte en geobserveerde waarden?"
   ]
  },
  {
   "cell_type": "code",
   "execution_count": null,
   "metadata": {},
   "outputs": [],
   "source": [
    "expected - observed"
   ]
  },
  {
   "cell_type": "markdown",
   "metadata": {},
   "source": [
    "Sommige geobserveerde waarden lijken dicht bij de verwachte te liggen (bv. voor \"3\"), andere liggen verderaf (bv. \"2\"). We moeten de verschillen echter ook in verhouding zien.\n",
    "\n",
    "Een maat om de totale afwijking in een frequentietabel te bepalen, bestaat er uit om de verschillen tussen verwachte en geobserveerde waarden te kwadrateren (net zoals men bij variantie/standaardafwijking doet) en te delen door de verwachte waarde:"
   ]
  },
  {
   "cell_type": "code",
   "execution_count": null,
   "metadata": {},
   "outputs": [],
   "source": [
    "diffs = (expected - observed)**2 / expected\n",
    "print(diffs)"
   ]
  },
  {
   "cell_type": "markdown",
   "metadata": {},
   "source": [
    "De som van al deze waarden wordt $\\chi^2$ (\"chi-kwadraat\") genoemd:\n",
    "\n",
    "$\\chi^2 = \\sum_i \\frac{(o_i - e_i)^2}{e_i}$\n",
    "\n",
    "met $o_i$ het aantal observaties in de $i$-de cel van de kruistabel en $e_i$ de verwachte frequentie. Vergelijk de formule met de code hierboven!"
   ]
  },
  {
   "cell_type": "code",
   "execution_count": null,
   "metadata": {},
   "outputs": [],
   "source": [
    "chi_squared = diffs.values.sum()\n",
    "print('χ² ≈ %.3f' %chi_squared)"
   ]
  },
  {
   "cell_type": "markdown",
   "metadata": {},
   "source": [
    "Nu zegt deze waarde op zich nog steeds niet zo veel. Onder welke voorwaarden zeggen we dat er al dan niet een verband is tussen beide variabelen? Dat zal ook afhangen van de grootte van de tabel en het totaal aantal observaties. In een kruistabel met meer rijen/kolommen, zal je een grotere $\\chi^2$ moeten hebben om te besluiten dat er een verband is.\n",
    "\n",
    "[Cramér's V](https://en.wikipedia.org/wiki/Cram%C3%A9r%27s_V) is een formule waarmee de $\\chi^2$ kan genormaliseerd worden tot een waarde tussen 0 en 1 die onafhankelijk is van de tabelgrootte.\n",
    "\n",
    "$V = \\sqrt{\\frac{\\chi^2}{n(k-1)}}$"
   ]
  },
  {
   "cell_type": "code",
   "execution_count": null,
   "metadata": {},
   "outputs": [],
   "source": [
    "dof = min(observed.shape) - 1\n",
    "cramers_v = np.sqrt(chi_squared / (dof * n))\n",
    "print(cramers_v)"
   ]
  },
  {
   "cell_type": "markdown",
   "metadata": {},
   "source": [
    "Om een besluit te trekken uit dit getal, vergelijk je het met de waarden in onderstaande tabel:\n",
    "\n",
    "| Cramér's V | Besluit            |\n",
    "| :---:      | :---               |\n",
    "| 0          | Geen verband       |\n",
    "| 0.1        | Zwak verband       |\n",
    "| 0.25       | Matig verband      |\n",
    "| 0.50       | Sterk verband      |\n",
    "| 0.75       | Zeer sterk verband |\n",
    "| 1          | Volledig verband   |\n",
    "\n",
    "Onze uitkomst voor Cramér's V wijst dus op een vrij zwak verband. Merk op dat Cramér's V erom gekend staat om in bepaalde gevallen te optimistisch te zijn over het verband tussen twee variabelen. Er bestaat een aangepaste formule om deze 'bias' weg te werken, maar die valt buiten het bereik van deze cursus.\n",
    "\n",
    "Er bestaat echter nog een andere manier om te bepalen of de chi-kwadraat voldoende groot is om te besluiten dat er een verband is, nl. aan de hand van een statistische toets.\n",
    "\n",
    "## De chi-kwadraat onafhankelijkheidstoets\n",
    "\n",
    "Om een antwoord te vinden op de vraag vanaf wanneer de waarde van chi-kwadraat voldoende groot is om te veronderstellen dat er een verband is tussen twee variabelen, kunnen we gebruik maken van de *chi-kwadraat onafhankelijkheidstoets*.\n",
    "\n",
    "### De chi-kwadraatverdeling\n",
    "\n",
    "De waarde van $\\chi^2$ volgt een specifieke stochastische verdeling die dan ook de $\\chi^2$-verdeling genoemd wordt. Net zoals bij Student-t hangt de vorm van de dichtheidsfunctie af van het aantal vrijheidsgraden, wat in deze context $df = (r-1)\\times(k-1)$ is (met $r$ het aantal rijen in de kruistabel en $k$ het aantal kolommen).\n",
    "\n",
    "Hieronder vind je de code om de dichtheidsfunctie van de $\\chi^2$-verdeling te plotten voor een aantal vrijheidsgraden:"
   ]
  },
  {
   "cell_type": "code",
   "execution_count": null,
   "metadata": {},
   "outputs": [],
   "source": [
    "# Plot van de chi-kwadraatverdeling voor verschillende vrijheidsgraden\n",
    "x = np.linspace(0, 10, num=100)\n",
    "fig, tplot = plt.subplots(1, 1)\n",
    "tplot.set_ylim([0, 0.8])\n",
    "tplot.plot(x, stats.chi2.pdf(x, 1), label=\"df=1\") \n",
    "tplot.plot(x, stats.chi2.pdf(x, 2), label=\"df=2\") \n",
    "tplot.plot(x, stats.chi2.pdf(x, 3), label=\"df=3\")\n",
    "tplot.plot(x, stats.chi2.pdf(x, 8), label=\"df=5\")\n",
    "tplot.plot(x, stats.chi2.pdf(x, 30), label=\"df=10\")\n",
    "tplot.legend(loc='best')"
   ]
  },
  {
   "cell_type": "markdown",
   "metadata": {},
   "source": [
    "Aan de hand van deze figuur, kan je een gelijkaardige redenering volgen als bij een rechtszijdige z-toets. Je kan een kritieke grenswaarde $g$ berekenen waarvoor geldt dat de oppervlakte onder de curve rechts van $g$ gelijk is aan ons gekozen significantieniveau $\\alpha$. Als de teststatistiek $\\chi^2$ groter is dan $g$, zeggen we dat de afwijkingen t.o.v. de verwachte waarden in de kruistabel té groot zijn om nog op toeval te berusten en dat we dus reden hebben om aan te nemen dat er een verband is tussen beide variabelen.\n",
    "\n",
    "Je kan ook de overschrijdingskans $p$ berekenen, d.w.z. de kans dat je de afwijkingen die je in de steekproef ziet te wijten kunnen zijn aan toevallige steekproeffouten. Daarvoor bereken je de oppervlakte onder de dichtheidscurve rechts van de $\\chi^2$. Als deze oppervlakte kleiner is dan $\\alpha$, zeggen we eveneens dat de afwijkingen te groot zijn om veroorzaakt te worden door toevallige steekproeffouten en dat er dus een verband is tussen de variabelen.\n",
    "\n",
    "In Python gebruiken we daarvoor volgende Scipy-functies:\n",
    "\n",
    "- `stats.chi2.sf(x)` - de rechterstaartkans van `x` (of \"survival function\")\n",
    "- `stats.chi2.isf(q)` - de inverse functie van `sf(x)`, m.a.w. een getal `x` berekenen waarvoor geldt dat de rechterstaartkans precies `q` is.\n",
    "\n",
    "Een plot voor het geval dat $\\alpha = 0.05$ (een vaak gekozen waarde voor het significantieniveau) en 4 vrijheidsgraden:"
   ]
  },
  {
   "cell_type": "code",
   "execution_count": null,
   "metadata": {},
   "outputs": [],
   "source": [
    "# Rechterstaartkans in de chi-kwadraatverdeling\n",
    "\n",
    "# x-waarden:\n",
    "x = np.linspace(0, 15, num=100)\n",
    "# kansdichtheid van de chi-kwadraatverdeling met 4 vrijheidsgraden:\n",
    "y = stats.chi2.pdf(x, df=4)\n",
    "# het getal q waarvoor geldt dat de rechterstaartkans precies 5% is:\n",
    "q = stats.chi2.isf(.05, df=4)\n",
    "\n",
    "fig, tplot = plt.subplots(1, 1)\n",
    "tplot.plot(x, y)                      # kansdichtheid\n",
    "tplot.fill_between(x, y, where=x>=q,  # kritieke gebied\n",
    "    color='lightblue')\n",
    "tplot.axvline(q)                      # kritieke grenswaarde"
   ]
  },
  {
   "cell_type": "markdown",
   "metadata": {},
   "source": [
    "### Toetsingsprocedure\n",
    "\n",
    "Formeel verloopt de procedure van de $\\chi^2$ onafhankelijkheidstoets als volgt:\n",
    "\n",
    "1. Formuleer de hypotheses:\n",
    "   - $H_0$: Er is geen verband tussen de variabelen (de verschillen tussen geobserveerde en verwachte waarden zijn klein)\n",
    "   - $H_1$: Er is een verband tussen de variabelen (de verschillen zijn groot)\n",
    "2. Bepaal het significantieniveau $\\alpha$\n",
    "3. Bereken de waarde van de teststatistiek (of toetsingsgrootheid) in de steekproef (hier: $\\chi^2$).\n",
    "4. Gebruik een van de volgende methoden (op basis van het aantal vrijheidsgraden $df = (r-1) \\times (k-1)$):\n",
    "   1. Bepaal de kritieke grenswaarde $g$ zodat $P(\\chi^2 > g) = \\alpha$\n",
    "   2. Bereken de overschrijdingskans $p$\n",
    "5. Trek een besluit op basis van de uitkomst:\n",
    "   1. $\\chi^2 < g$: $H_0$ niet verwerpen; $\\chi^2 > g$: $H_0$ verwerpen\n",
    "   2. $p > \\alpha$: $H_0$ niet verwerpen; $p < \\alpha$: $H_0$ verwerpen\n",
    "\n",
    "In Python kunnen we dit als volgt berekenen:"
   ]
  },
  {
   "cell_type": "code",
   "execution_count": null,
   "metadata": {},
   "outputs": [],
   "source": [
    "alpha = .05\n",
    "dimensions = observed.shape\n",
    "dof = (dimensions[0]-1) * (dimensions[1]-1)\n",
    "\n",
    "print(\"Chi-kwadraat         : %.4f\" % chi_squared)\n",
    "print(\"Vrijheidsgraden      : %d\" % dof)\n",
    "\n",
    "# Berekenen kritieke grenswaarde\n",
    "g = stats.chi2.isf(alpha, df = dof)\n",
    "print(\"Kritieke grenswaarde : %.4f\" % g)\n",
    "\n",
    "# Berekenen overschrijdingskans\n",
    "p = stats.chi2.sf(chi_squared, df=dof)\n",
    "print(\"Overschrijdingskans  : %.4f\" % p)"
   ]
  },
  {
   "cell_type": "markdown",
   "metadata": {},
   "source": [
    "Eigenlijk hoeven we deze rekenregels om chi-kwadraat, de kritieke grenswaarde en de overschrijdingskans te bepalen niet te onthouden. In SciPy zit al een functie waarmee we op basis van een kruistabel rechtstreeks de chi-kwadraat en de p-waarde kunnen berekenen:"
   ]
  },
  {
   "cell_type": "code",
   "execution_count": null,
   "metadata": {},
   "outputs": [],
   "source": [
    "# Chi-kwadraat onanfhankelijkheidstoets op basis van een kruistabel\n",
    "observed = pd.crosstab(rlanders.Survey, rlanders.Gender)\n",
    "chi2, p, df, expected = stats.chi2_contingency(observed)\n",
    "\n",
    "print(\"Chi-kwadraat   : %.4f\" % chi2)\n",
    "print(\"Vrijheidsgraden: %d\" % df)\n",
    "print(\"P-waarde       : %.4f\" % p)"
   ]
  },
  {
   "cell_type": "markdown",
   "metadata": {},
   "source": [
    "Zoals je ziet is de uitkomst voor de $p$-waarde dezelfde als in onze uitgewerkte berekeningen!\n",
    "\n",
    "Een grafische voorstelling van onze casus:"
   ]
  },
  {
   "cell_type": "code",
   "execution_count": null,
   "metadata": {},
   "outputs": [],
   "source": [
    "# Is er een verband tussen Gender en Survey?\n",
    "\n",
    "# x-waarden:\n",
    "x = np.linspace(0, 15, num=100)\n",
    "# kansdichtheid van de chi-kwadraatverdeling met 4 vrijheidsgraden:\n",
    "y = stats.chi2.pdf(x, df=dof)\n",
    "# het getal q waarvoor geldt dat de rechterstaartkans precies 5% is:\n",
    "\n",
    "fig, tplot = plt.subplots(1, 1)\n",
    "tplot.plot(x, y)                     # kansdichtheid\n",
    "tplot.fill_between(x, y, where=x>=q, # kritieke gebied\n",
    "    color='lightblue')\n",
    "tplot.axvline(q)                     # kritieke grenswaarde\n",
    "tplot.axvline(chi2, color='orange')  # chi-kwadraat"
   ]
  },
  {
   "cell_type": "markdown",
   "metadata": {},
   "source": [
    "We zien dat $\\chi^2$ ruim binnen het aanvaardingsgebied ligt. De $p$-waarde is ook groter dan $\\alpha$. We kunnen dus de nulhypothese niet verwerpen en besluiten dat er op basis van deze steekproef geen reden is om aan te nemen dat er een significant verschil is tussen de antwoorden van vrouwen en mannen op de enquêtevraag.\n",
    "\n",
    "## Aanpassingstoets (goodness-of-fit test)\n",
    "\n",
    "Stel dat we in een steekproef van superhelden bijhouden van welk type ze zijn en dat we ook weten hoe vaak elk type in de gehele populatie voorkomt (als percentage). Hieronder zijn de absolute frequenties in de steekproef $o_i$ en de verwachte relatieve frequenties $\\pi_i$ in de populatie gegeven:"
   ]
  },
  {
   "cell_type": "code",
   "execution_count": null,
   "metadata": {},
   "outputs": [],
   "source": [
    "types =               ['mutant', 'human', 'alien', 'god', 'demon']\n",
    "observed =   np.array([   127,      75,      98,     27,     73])\n",
    "expected_p = np.array([   .35,     .17,     .23,    .08,    .17])"
   ]
  },
  {
   "cell_type": "markdown",
   "metadata": {},
   "source": [
    "De vraag is nu: is deze steekproef representatief voor de populatie? Komt elk type in de steekproef voor in verhouding tot het verwachge percentage in de populatie als geheel?\n",
    "\n",
    "### Testprocedure\n",
    "\n",
    "Om dit soort vragen te beantwoorden is een aanpassingstoets (goodness-of-fit test) geschikt. De procedure verloopt als volgt:\n",
    "\n",
    "1. Formuleer de hypotheses:\n",
    "   - $H_0$: De steekproef is representatief voor de populatie, d.w.z. de frequentie van elke klasse binnen de steekproef komt goed overeen met die in de populatie.\n",
    "   - $H_1$: De steekproef is *niet* representatief voor de populatie, d.w.z. de verschillen met de verwachte frequenties is te groot.\n",
    "2. Bepaal het significantieniveau $\\alpha$\n",
    "3. Bereken de waarde van de teststatistiek (of toetsingsgrootheid) in de steekproef (hier: $\\chi^2$).\n",
    "4. Gebruik een van de volgende methoden (op basis van het aantal vrijheidsgraden $df = (k-1)$ met $k$ het aantal klassen in de steekproef):\n",
    "   1. Bepaal de kritieke grenswaarde $g$ zodat $P(\\chi^2 > g) = \\alpha$\n",
    "   2. Bereken de overschrijdingskans $p$\n",
    "5. Trek een besluit op basis van de uitkomst:\n",
    "   1. $\\chi^2 < g$: $H_0$ niet verwerpen; $\\chi^2 > g$: $H_0$ verwerpen\n",
    "   2. $p > \\alpha$: $H_0$ niet verwerpen; $p < \\alpha$: $H_0$ verwerpen\n",
    "\n",
    "Een plot van deze casus, met berekining van $p$ en $g$:"
   ]
  },
  {
   "cell_type": "code",
   "execution_count": null,
   "metadata": {},
   "outputs": [],
   "source": [
    "alpha = 0.05               # Significantieniveau\n",
    "n = sum(observed)          # Steekproefgrootte\n",
    "k = len(observed)          # Aantal categorieën\n",
    "dof = k - 1                # Aantal vrijheidsgraden\n",
    "expected = expected_p * n  # Verwachte absolute frequenties in de steekproef\n",
    "g = stats.chi2.isf(alpha, df=dof)  # Kritieke grenswaarde\n",
    "\n",
    "# Goodness-of-fit-test in Python:\n",
    "chi2, p = stats.chisquare(f_obs=observed, f_exp=expected)\n",
    "\n",
    "print(\"Significantieniveau  ⍺ = %.2f\" % alpha)\n",
    "print(\"Steekproefgrootte    n = %d\" % n)\n",
    "print(\"k = %d; df = %d\" % (k, dof))\n",
    "print(\"Chi-kwadraat        χ² = %.4f\" % chi2)\n",
    "print(\"Kritieke grenswaarde g = %.4f\" % g)\n",
    "print(\"Overschrijdingskans  p = %.4f\" % p)"
   ]
  },
  {
   "cell_type": "code",
   "execution_count": null,
   "metadata": {},
   "outputs": [],
   "source": [
    "# Plot van de casus:\n",
    "# x-waarden:\n",
    "x = np.linspace(0, 15, num=100)\n",
    "# kansdichtheid van de chi-kwadraatverdeling met 4 vrijheidsgraden:\n",
    "y = stats.chi2.pdf(x, df=dof)\n",
    "# het getal q waarvoor geldt dat de rechterstaartkans precies 5% is:\n",
    "\n",
    "fig, tplot = plt.subplots(1, 1)\n",
    "tplot.plot(x, y)                     # kansdichtheid\n",
    "tplot.fill_between(x, y, where=x>=q, # kritieke gebied\n",
    "    color='lightblue')\n",
    "tplot.axvline(q)                     # kritieke grenswaarde\n",
    "tplot.axvline(chi2, color='orange')  # chi-kwadraat"
   ]
  },
  {
   "cell_type": "markdown",
   "metadata": {},
   "source": [
    "We zien dat de $\\chi^2$ in de steekproef links van de kritieke grenswaarde ligt, dus in het aanvaardingsgebied. We kunnen de nulhypothese dus niet verwerpen en besluiten dat de steekproef representatief is voor de populatie.\n",
    "\n",
    "## Gestandaardiseerde residuën\n",
    "\n",
    "Na het uitvoeren van een chi-kwadraattoets is het vaak ook interessant om te weten in welke categorieën de grootste afwijkingen voorkomen. Je zou voor elke cel in de kruistabel (of vector) kunnen kijken naar de waarde $\\frac{(o-e)^2}{e}$ (wat in de berekening van $\\chi^2$ gebruikt wordt). Daaruit kan je echter niet opmaken in hoeverre de afwijkingen echt als \"extreem\" beschouwd kunnen worden. Hiervoor gebruiken we zgn. *gestandaardiseerde residuën*.\n",
    "\n",
    "We introduceren dit begrip a.h.v. een voorbeeld:\n",
    "\n",
    "Stel dat in een bepaald onderzoek gekeken wordt naar gezinnen met 5 kinderen. Er is een steekproef genomen van 1022 gezinnen, en deze worden in categorieën verdeeld naargelang het aantal jongens in het gezin. De frequenties worden hieronder gegeven in een Pandas DataFrame die we zelf aanmaken en stelselmatig zullen uitbreiden."
   ]
  },
  {
   "cell_type": "code",
   "execution_count": null,
   "metadata": {},
   "outputs": [],
   "source": [
    "# Dataframe met 2 kolommen:\n",
    "#  - het aantal jongens in het gezin (index)\n",
    "#  - aantal families in de steekproef met dat aantal jongens\n",
    "families = pd.DataFrame(\n",
    "    np.array(\n",
    "        [[0,  58],\n",
    "         [1, 149],\n",
    "         [2, 305],\n",
    "         [3, 303],\n",
    "         [4, 162],\n",
    "         [5,  45]]),\n",
    "    columns=[ 'num_boys', \"observed\"])\n",
    "families.set_index(['num_boys'])\n",
    "n = families.observed.sum() # Steekproefgrootte"
   ]
  },
  {
   "cell_type": "markdown",
   "metadata": {},
   "source": [
    "Wat is nu het verwachte aantal gezinnen met het gegeven aantal jongens? Laten we veronderstellen dat er evenveel kans is om een jongen of meisje te verwekken. Dan kan je de verwachte relatieve frequenties als volgt berekenen:\n",
    "\n",
    "$\\pi_i = (0.5)^i (1-0.5)^{5-i} \\binom{5}{i}$\n",
    "\n",
    "Waarom dat zo is, is niet relevant voor het onderwerp waar we nu mee bezig zijn...\n",
    "\n",
    "De verwachte absolute frequenties in de steekproef kan je dan berekenen als $e_i = n \\pi_i$.\n",
    "\n",
    "We passen dit toe op onze casus:"
   ]
  },
  {
   "cell_type": "code",
   "execution_count": null,
   "metadata": {},
   "outputs": [],
   "source": [
    "from scipy.special import binom # binomiaal-functie\n",
    "\n",
    "# de kans op een jongen\n",
    "prob_boy = .5\n",
    "# Nieuwe kolom aan het DataFrame toevoegen voor de verwachte percentages,\n",
    "# op basis van de formule\n",
    "families['expected_p'] = binom(5, families.num_boys) * prob_boy**families.num_boys * prob_boy**(5-families.num_boys)\n",
    "# Verwachte absolute frequenties in de steekproef\n",
    "families['expected'] = expected_p * n\n",
    "families"
   ]
  },
  {
   "cell_type": "markdown",
   "metadata": {},
   "source": [
    "We voeren nu de chi-kwadraat aanpassingstoets uit. Hier is als significantieniveau $\\alpha = 0.01$ gekozen."
   ]
  },
  {
   "cell_type": "code",
   "execution_count": null,
   "metadata": {},
   "outputs": [],
   "source": [
    "alpha=0.01                         # significantieniveau\n",
    "dof=len(families)-1                # aantal vrijheidsgraden\n",
    "g = stats.chi2.isf(alpha, df=dof)  # Kritieke grenswaarde\n",
    "# Chi-kwadraattoets uitvoeren, χ² en p berekenen\n",
    "chi2, p = stats.chisquare(f_obs=families.observed, f_exp=families.expected)\n",
    "\n",
    "print(\"Chi-kwadraat        χ² = %.4f\" % chi2)\n",
    "print(\"Kritieke grenswaarde g = %.4f\" % g)\n",
    "print(\"Overschrijdingskans  p = %f\"   % p)"
   ]
  },
  {
   "cell_type": "markdown",
   "metadata": {},
   "source": [
    "Dit is een erg kleine overschrijdingskans. De chi-kwadraat ligt ook rechts van de kritieke grenswaarde. Dat betekent dat we de nulhypothese kunnen verwerpen. Grafisch:"
   ]
  },
  {
   "cell_type": "code",
   "execution_count": null,
   "metadata": {},
   "outputs": [],
   "source": [
    "# Plot van de casus:\n",
    "# x-waarden:\n",
    "x = np.linspace(0, 30, num=200)\n",
    "# kansdichtheid van de chi-kwadraatverdeling met 4 vrijheidsgraden:\n",
    "y = stats.chi2.pdf(x, df=dof)\n",
    "# het getal q waarvoor geldt dat de rechterstaartkans precies 5% is:\n",
    "\n",
    "fig, tplot = plt.subplots(1, 1)\n",
    "tplot.plot(x, y)                     # kansdichtheid\n",
    "tplot.fill_between(x, y, where=x>=q, # kritieke gebied\n",
    "    color='lightblue')\n",
    "tplot.axvline(q)                     # kritieke grenswaarde\n",
    "tplot.axvline(chi2, color='orange')  # chi-kwadraat"
   ]
  },
  {
   "cell_type": "markdown",
   "metadata": {},
   "source": [
    "Ons besluit is dus dat deze steekproef niet representatief is voor de populatie!\n",
    "\n",
    "De formule voor het berekenen van de gestandaardiseerde residuën is:\n",
    "\n",
    "$r_i = \\frac{o_i-e_i}{\\sqrt{e_i (1-\\pi_i)}}$\n",
    "\n",
    "We voegen een kolom toe aan onze tabel (probeer de code te vergelijken met de formule!):"
   ]
  },
  {
   "cell_type": "code",
   "execution_count": null,
   "metadata": {},
   "outputs": [],
   "source": [
    "families['stdres'] = (families.observed - families.expected) / np.sqrt(families.expected * (1 - families.expected_p))\n",
    "families"
   ]
  },
  {
   "cell_type": "markdown",
   "metadata": {},
   "source": [
    "Gestandaardiseerde residuën zijn een maat om aan te geven in hoeverre een bepaalde categorie over- of ondervertegenwoordigd is in de steekproef. Een waarde van 0 krijg je als de geobserveerde frequentie gelijk is aan de verwachte. Een negatieve waarde krijg je als er minder observaties zijn dan verwacht en een positieve als er meer zijn. Zolang $r_i \\in [-2, 2]$, beschouwen we de verschillen als toevallige steekproeffouten. Een waarde $r_i < -2$ duidt op ondervertegenwoordiging van deze categorie, $r_i > 2$ op oververtegenwoordiging.\n",
    "\n",
    "In de steekproef zijn dus de gezinnen met enkel meisjes en enkel jongens oververtegenwoordigd. In de praktijk zouden onderzoekers er voor kunnen kiezen om aselect een aantal observaties in deze categorieën te schrappen uit het onderzoek, zodat de steekproef representatief wordt voor de populatie.\n",
    "\n",
    "## De regel van Cochran\n",
    "\n",
    "Een chi-kwadraattoets kan enkel goede resultaten opleveren als je voldoende observaties hebt in elke categorie. De statisticus Cochran (1954) formuleerde een vuistregel om te bepalen wat exact *genoeg* is op kruistabellen die groter zijn dan 2x2:\n",
    "\n",
    "- Alle verwachte waarden moeten minstens 1 zijn\n",
    "- Hoogstens 20% van de verwachte waarden mag kleiner dan 5 zijn\n",
    "\n"
   ]
  },
  {
   "cell_type": "markdown",
   "metadata": {},
   "source": [
    "## TODO\n",
    "\n",
    "- functie voor toepassen regel Cochran?\n",
    "- toepassen regel Cochran op de casussen?\n",
    "- residuën in een kruistabel, ahv statsmodels\n",
    "   - <https://www.statsmodels.org/stable/contingency_tables.html?highlight=residuals>\n",
    "   - <https://stackoverflow.com/questions/20453729/what-is-the-equivalent-of-r-data-chisqresiduals-in-python>\n"
   ]
  }
 ],
 "metadata": {
  "interpreter": {
   "hash": "e7370f93d1d0cde622a1f8e1c04877d8463912d04d973331ad4851f04de6915a"
  },
  "kernelspec": {
   "display_name": "Python 3.10.0 64-bit",
   "language": "python",
   "name": "python3"
  },
  "language_info": {
   "codemirror_mode": {
    "name": "ipython",
    "version": 3
   },
   "file_extension": ".py",
   "mimetype": "text/x-python",
   "name": "python",
   "nbconvert_exporter": "python",
   "pygments_lexer": "ipython3",
   "version": "3.10.2"
  },
  "orig_nbformat": 4
 },
 "nbformat": 4,
 "nbformat_minor": 2
}
