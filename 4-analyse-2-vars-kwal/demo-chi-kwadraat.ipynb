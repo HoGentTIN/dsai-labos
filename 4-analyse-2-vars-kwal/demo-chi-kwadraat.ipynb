{
 "cells": [
  {
   "cell_type": "markdown",
   "metadata": {},
   "source": [
    "# Module 4: Het verband tussen 2 kwalitatieve variabelen\n",
    "\n",
    "Als casus lezen we de dataset `rlanders.csv` in (die synthetische data bevat, zie [de beschrijving](../data/rlanders.md))."
   ]
  },
  {
   "cell_type": "code",
   "execution_count": 60,
   "metadata": {},
   "outputs": [],
   "source": [
    "# Importeren van de nodige packages\n",
    "import numpy as np                                  # \"Scientific computing\"\n",
    "import scipy.stats as stats                         # Statistical tests\n",
    "\n",
    "import pandas as pd                                 # Dataframe\n",
    "from pandas.api.types import CategoricalDtype       # Voor ordinale variabelen\n",
    "import matplotlib.pyplot as plt                     # Basis visualisatie\n",
    "from statsmodels.graphics.mosaicplot import mosaic  # Mozaïekdiagram\n",
    "import seaborn as sns                               # Geavanceerde datavisualisatie\n",
    "import altair as alt                                # Een alternatief visualisatiesysteem"
   ]
  },
  {
   "cell_type": "code",
   "execution_count": 61,
   "metadata": {},
   "outputs": [],
   "source": [
    "# Inlezen dataset + data preparation\n",
    "rlanders = pd.read_csv('../data/rlanders.csv')\n",
    "rlanders.set_index(['ID'])\n",
    "rlanders.Gender = rlanders.Gender.astype('category')\n",
    "likert_scale = CategoricalDtype(categories=[1,2,3,4,5], ordered=True)\n",
    "rlanders.Survey = rlanders.Survey.astype(likert_scale)\n",
    "# rlanders.info()\n",
    "# rlanders.Survey.dtype"
   ]
  },
  {
   "cell_type": "markdown",
   "metadata": {},
   "source": [
    "## Kruistabellen en visualisatietechnieken\n",
    "\n",
    "Stel dat we willen weten of in de steekproef vrouwen en mannen (`Gender`) verschillend antwoordden op een enquêtevraag met een Likert-schaal (`Survey`). Als de verhoudingen tussen de antwoorden (1 t/m 5) voor vrouwen en mannen ongeveer gelijk zijn, dan zeggen we dat er geen verband is tussen beide variabelen. Als er wél een aanzienlijk verschil is, dan is er wel een verband. Nu is uiteraard de vraag vanaf wanneer we spreken van een *aanzienlijk* verschil...\n",
    "\n",
    "Een eerste stap is het berekenen van een kruistabel. We voegen hier ook meteen de marginale totalen toe:"
   ]
  },
  {
   "cell_type": "code",
   "execution_count": 62,
   "metadata": {},
   "outputs": [
    {
     "data": {
      "text/html": [
       "<div>\n",
       "<style scoped>\n",
       "    .dataframe tbody tr th:only-of-type {\n",
       "        vertical-align: middle;\n",
       "    }\n",
       "\n",
       "    .dataframe tbody tr th {\n",
       "        vertical-align: top;\n",
       "    }\n",
       "\n",
       "    .dataframe thead th {\n",
       "        text-align: right;\n",
       "    }\n",
       "</style>\n",
       "<table border=\"1\" class=\"dataframe\">\n",
       "  <thead>\n",
       "    <tr style=\"text-align: right;\">\n",
       "      <th>Gender</th>\n",
       "      <th>Female</th>\n",
       "      <th>Male</th>\n",
       "      <th>All</th>\n",
       "    </tr>\n",
       "    <tr>\n",
       "      <th>Survey</th>\n",
       "      <th></th>\n",
       "      <th></th>\n",
       "      <th></th>\n",
       "    </tr>\n",
       "  </thead>\n",
       "  <tbody>\n",
       "    <tr>\n",
       "      <th>1</th>\n",
       "      <td>0</td>\n",
       "      <td>4</td>\n",
       "      <td>4</td>\n",
       "    </tr>\n",
       "    <tr>\n",
       "      <th>2</th>\n",
       "      <td>17</td>\n",
       "      <td>45</td>\n",
       "      <td>62</td>\n",
       "    </tr>\n",
       "    <tr>\n",
       "      <th>3</th>\n",
       "      <td>23</td>\n",
       "      <td>91</td>\n",
       "      <td>114</td>\n",
       "    </tr>\n",
       "    <tr>\n",
       "      <th>4</th>\n",
       "      <td>12</td>\n",
       "      <td>53</td>\n",
       "      <td>65</td>\n",
       "    </tr>\n",
       "    <tr>\n",
       "      <th>5</th>\n",
       "      <td>0</td>\n",
       "      <td>5</td>\n",
       "      <td>5</td>\n",
       "    </tr>\n",
       "    <tr>\n",
       "      <th>All</th>\n",
       "      <td>52</td>\n",
       "      <td>198</td>\n",
       "      <td>250</td>\n",
       "    </tr>\n",
       "  </tbody>\n",
       "</table>\n",
       "</div>"
      ],
      "text/plain": [
       "Gender  Female  Male  All\n",
       "Survey                   \n",
       "1            0     4    4\n",
       "2           17    45   62\n",
       "3           23    91  114\n",
       "4           12    53   65\n",
       "5            0     5    5\n",
       "All         52   198  250"
      ]
     },
     "execution_count": 62,
     "metadata": {},
     "output_type": "execute_result"
    }
   ],
   "source": [
    "pd.crosstab(rlanders.Survey, rlanders.Gender, margins=True)"
   ]
  },
  {
   "cell_type": "markdown",
   "metadata": {},
   "source": [
    "Zo'n tabel zegt natuurlijk niet veel. Misschien moeten we de data eens visualiseren."
   ]
  },
  {
   "cell_type": "code",
   "execution_count": 63,
   "metadata": {},
   "outputs": [
    {
     "data": {
      "text/plain": [
       "<seaborn.axisgrid.FacetGrid at 0x7f72ff3a9e10>"
      ]
     },
     "execution_count": 63,
     "metadata": {},
     "output_type": "execute_result"
    },
    {
     "data": {
      "image/png": "[encoded data removed]",
      "text/plain": [
       "<Figure size 432.125x360 with 1 Axes>"
      ]
     },
     "metadata": {
      "needs_background": "light"
     },
     "output_type": "display_data"
    }
   ],
   "source": [
    "sns.catplot(data=rlanders, x='Survey', hue='Gender', kind='count')"
   ]
  },
  {
   "cell_type": "markdown",
   "metadata": {},
   "source": [
    "Wat opvalt is dat de vrouwen alvast niet de extreme antwoorden gaven. Er zijn wel beduidend minder vrouwen in de steekproef, dus misschien moeten we eerder naar de percentages kijken.\n",
    "\n",
    "Een mozaïekdiagram is een grafische voorstelling van de kruistabel waar elke cel voorgesteld wordt door een tegel waarvan de oppervlakte proportioneel is met de frequentie van die cel t.o.v. het totaal aantal observaties.\n",
    "\n",
    "Je kan dit een beetje vergelijken met hoe [WinDirStat](https://windirstat.net/) de grootte van bestanden op je harde schijf visualiseert.\n",
    "\n",
    "Voor deze casus:"
   ]
  },
  {
   "cell_type": "code",
   "execution_count": 64,
   "metadata": {},
   "outputs": [
    {
     "data": {
      "text/plain": [
       "(<Figure size 432x288 with 3 Axes>,\n",
       " {('Female', '1'): (0.0, 0.0, 0.19809523809523807, 0.0),\n",
       "  ('Female', '2'): (0.0,\n",
       "   0.029411764705882353,\n",
       "   0.19809523809523807,\n",
       "   0.2884615384615385),\n",
       "  ('Female', '3'): (0.0,\n",
       "   0.34728506787330315,\n",
       "   0.19809523809523807,\n",
       "   0.39027149321266974),\n",
       "  ('Female', '4'): (0.0,\n",
       "   0.7669683257918553,\n",
       "   0.19809523809523807,\n",
       "   0.20361990950226241),\n",
       "  ('Female', '5'): (0.0, 1.0, 0.19809523809523807, 0.0),\n",
       "  ('Male', '1'): (0.24571428571428572,\n",
       "   0.0,\n",
       "   0.7542857142857143,\n",
       "   0.017825311942959002),\n",
       "  ('Male', '2'): (0.24571428571428572,\n",
       "   0.04723707664884135,\n",
       "   0.7542857142857143,\n",
       "   0.2005347593582888),\n",
       "  ('Male', '3'): (0.24571428571428572,\n",
       "   0.2771836007130125,\n",
       "   0.7542857142857143,\n",
       "   0.4055258467023173),\n",
       "  ('Male', '4'): (0.24571428571428572,\n",
       "   0.7121212121212122,\n",
       "   0.7542857142857143,\n",
       "   0.23618538324420674),\n",
       "  ('Male', '5'): (0.24571428571428572,\n",
       "   0.9777183600713012,\n",
       "   0.7542857142857143,\n",
       "   0.022281639928698797)})"
      ]
     },
     "execution_count": 64,
     "metadata": {},
     "output_type": "execute_result"
    },
    {
     "data": {
      "image/png": "[encoded data removed]",
      "text/plain": [
       "<Figure size 432x288 with 3 Axes>"
      ]
     },
     "metadata": {
      "needs_background": "light"
     },
     "output_type": "display_data"
    }
   ],
   "source": [
    "from matplotlib import cm\n",
    "\n",
    "# By default, mosaic() will color all columns the same. Here,\n",
    "# we're going to give a separate color to each response (1-5).\n",
    "# The response is kept in the label of each cell, a tuple of\n",
    "# the two values that are represented in that cell (e.g. \n",
    "# ('Female', '2')). We will be using the \"plasma\" color map\n",
    "# in this example.\n",
    "plasma_colors = cm.get_cmap('plasma')\n",
    "# Create a function that maps the cell key to the color we\n",
    "# want to give it. We use the colormap function created above\n",
    "# and give it a number between 0 and 1. We convert the second\n",
    "# part of the key (values '1' to '5') to a number and divide\n",
    "# by 5.\n",
    "props = lambda key: {'color': plasma_colors(int(key[1])/5)}\n",
    "\n",
    "mosaic(data=rlanders, index=['Gender', 'Survey'],\n",
    "       gap=0.05, properties=props)"
   ]
  },
  {
   "cell_type": "markdown",
   "metadata": {},
   "source": [
    "We zien hier duidelijk dat de mannen meer vertegenwoordigd zijn in de steekproef (bredere tegels).\n",
    "\n",
    "Je kan ook de verdelingen van de gegeven antwoorden op de enquêtevraag vergelijken. Op het feit na dat de vrouwen geen extreme antwoorden gegeven hebben (1 en 5), lijken de verdelingen op het eerste zicht nog vrij goed overeen te komen."
   ]
  },
  {
   "cell_type": "markdown",
   "metadata": {},
   "source": [
    "## Chi-kwadraat en Cramér's V\n",
    "\n",
    "Chi-kwadraat en Cramér's V zijn statistieken waarmee we kunnen bepalen of er een verband bestaat tussen twee kwalitatieve (categorische) variabelen.\n",
    "\n",
    "De redenering gaat als volgt: als er geen verband is tussen de `Survey` en `Gender`, dan verwachten we dat de verhoudingen tussen de waarden van `Survey` gelijk zijn voor alle waarden van `Gender`. M.a.w. bij zowel de vrouwen als de mannen geeft hetzelfde percentage respondenten hetzelfde antwoord op de vraag."
   ]
  },
  {
   "cell_type": "code",
   "execution_count": 65,
   "metadata": {},
   "outputs": [
    {
     "name": "stdout",
     "output_type": "stream",
     "text": [
      "Survey\n",
      "1      4\n",
      "2     62\n",
      "3    114\n",
      "4     65\n",
      "5      5\n",
      "dtype: int64\n",
      "Gender\n",
      "Female     52\n",
      "Male      198\n",
      "dtype: int64\n",
      "Aantal observaties: 250\n"
     ]
    }
   ],
   "source": [
    "observed = pd.crosstab(rlanders.Survey, rlanders.Gender)\n",
    "row_sums = observed.sum(axis=1)\n",
    "col_sums = observed.sum()\n",
    "n = row_sums.sum()\n",
    "\n",
    "print(row_sums)\n",
    "print(col_sums)\n",
    "print(f'Aantal observaties: {n}')"
   ]
  },
  {
   "cell_type": "markdown",
   "metadata": {},
   "source": [
    "Nu kunnen we berekenen hoe vaak we kunnen verwachten dat elke combinatie van `Gender` en `Survey` voorkomt in de steekproef. Bijvoorbeeld 114 van de 250 respondenten heeft \"3\" geantwoord, m.a.w. 114/250 = 0,456 (of 46,6%). Dan weten we dat zowel 46,6% van de vrouwen als 46,6% van de mannen \"3\" moet geantwoord hebben. Aangezien er 52 vrouwelijke respondenten waren, verwachten we dus dat er 52 x 0,456 = 23,712 \"3\" geantwoord hebben. In werkelijkheid waren het er ook 23. Bij de mannen verwachten we 198 x 0,456 = 90,288 (tegenover 91 in werkelijkheid).\n",
    "\n",
    "Dit principe kunnen we veralgemenen naar elke cel in de tabel: $\\frac{rijtotaal \\times kolomtotaal}{n}$ (met $n$ het totaal aantal observaties).\n",
    "\n",
    "De verwachte waarden kunnen we dan berekenen met de `outer()` functie:"
   ]
  },
  {
   "cell_type": "code",
   "execution_count": 66,
   "metadata": {},
   "outputs": [
    {
     "data": {
      "text/plain": [
       "array([[ 0.832,  3.168],\n",
       "       [12.896, 49.104],\n",
       "       [23.712, 90.288],\n",
       "       [13.52 , 51.48 ],\n",
       "       [ 1.04 ,  3.96 ]])"
      ]
     },
     "execution_count": 66,
     "metadata": {},
     "output_type": "execute_result"
    }
   ],
   "source": [
    "expected = np.outer(row_sums, col_sums) / n\n",
    "expected"
   ]
  },
  {
   "cell_type": "markdown",
   "metadata": {},
   "source": [
    "Kloppen de rij- en kolomsommen nog?"
   ]
  },
  {
   "cell_type": "code",
   "execution_count": 67,
   "metadata": {},
   "outputs": [
    {
     "name": "stdout",
     "output_type": "stream",
     "text": [
      "Rijsommen  : [  4.  62. 114.  65.   5.]\n",
      "Kolomsommen: [ 52. 198.]\n",
      "Observaties: 250.0\n"
     ]
    }
   ],
   "source": [
    "exp_row_sums = np.sum(expected, axis=1)\n",
    "exp_col_sums = np.sum(expected, axis=0)\n",
    "\n",
    "print(f'Rijsommen  : {exp_row_sums}')\n",
    "print(f'Kolomsommen: {exp_col_sums}')\n",
    "print(f'Observaties: {exp_col_sums.sum()}')"
   ]
  },
  {
   "cell_type": "markdown",
   "metadata": {},
   "source": [
    "Inderdaad, alles klopt. Wat is nu het verschil tussen de verwachte en geobserveerde waarden?"
   ]
  },
  {
   "cell_type": "code",
   "execution_count": 68,
   "metadata": {},
   "outputs": [
    {
     "data": {
      "text/html": [
       "<div>\n",
       "<style scoped>\n",
       "    .dataframe tbody tr th:only-of-type {\n",
       "        vertical-align: middle;\n",
       "    }\n",
       "\n",
       "    .dataframe tbody tr th {\n",
       "        vertical-align: top;\n",
       "    }\n",
       "\n",
       "    .dataframe thead th {\n",
       "        text-align: right;\n",
       "    }\n",
       "</style>\n",
       "<table border=\"1\" class=\"dataframe\">\n",
       "  <thead>\n",
       "    <tr style=\"text-align: right;\">\n",
       "      <th>Gender</th>\n",
       "      <th>Female</th>\n",
       "      <th>Male</th>\n",
       "    </tr>\n",
       "    <tr>\n",
       "      <th>Survey</th>\n",
       "      <th></th>\n",
       "      <th></th>\n",
       "    </tr>\n",
       "  </thead>\n",
       "  <tbody>\n",
       "    <tr>\n",
       "      <th>1</th>\n",
       "      <td>0.832</td>\n",
       "      <td>-0.832</td>\n",
       "    </tr>\n",
       "    <tr>\n",
       "      <th>2</th>\n",
       "      <td>-4.104</td>\n",
       "      <td>4.104</td>\n",
       "    </tr>\n",
       "    <tr>\n",
       "      <th>3</th>\n",
       "      <td>0.712</td>\n",
       "      <td>-0.712</td>\n",
       "    </tr>\n",
       "    <tr>\n",
       "      <th>4</th>\n",
       "      <td>1.520</td>\n",
       "      <td>-1.520</td>\n",
       "    </tr>\n",
       "    <tr>\n",
       "      <th>5</th>\n",
       "      <td>1.040</td>\n",
       "      <td>-1.040</td>\n",
       "    </tr>\n",
       "  </tbody>\n",
       "</table>\n",
       "</div>"
      ],
      "text/plain": [
       "Gender  Female   Male\n",
       "Survey               \n",
       "1        0.832 -0.832\n",
       "2       -4.104  4.104\n",
       "3        0.712 -0.712\n",
       "4        1.520 -1.520\n",
       "5        1.040 -1.040"
      ]
     },
     "execution_count": 68,
     "metadata": {},
     "output_type": "execute_result"
    }
   ],
   "source": [
    "expected - observed"
   ]
  },
  {
   "cell_type": "markdown",
   "metadata": {},
   "source": [
    "Sommige geobserveerde waarden lijken dicht bij de verwachte te liggen (bv. voor \"3\"), andere liggen verderaf (bv. \"2\"). We moeten de verschillen echter ook in verhouding zien.\n",
    "\n",
    "Een maat om de totale afwijking in een frequentietabel te bepalen, bestaat er uit om de verschillen tussen verwachte en geobserveerde waarden te kwadrateren (net zoals men bij variantie/standaardafwijking doet) en te delen door de verwachte waarde:"
   ]
  },
  {
   "cell_type": "code",
   "execution_count": 69,
   "metadata": {},
   "outputs": [
    {
     "name": "stdout",
     "output_type": "stream",
     "text": [
      "Gender    Female      Male\n",
      "Survey                    \n",
      "1       0.832000  0.218505\n",
      "2       1.306050  0.343003\n",
      "3       0.021379  0.005615\n",
      "4       0.170888  0.044880\n",
      "5       1.040000  0.273131\n"
     ]
    }
   ],
   "source": [
    "diffs = (expected - observed)**2 / expected\n",
    "print(diffs)"
   ]
  },
  {
   "cell_type": "markdown",
   "metadata": {},
   "source": [
    "De som van al deze waarden wordt $\\chi^2$ (\"chi-kwadraat\") genoemd."
   ]
  },
  {
   "cell_type": "code",
   "execution_count": 70,
   "metadata": {},
   "outputs": [
    {
     "name": "stdout",
     "output_type": "stream",
     "text": [
      "χ² ≈ 4.255\n"
     ]
    }
   ],
   "source": [
    "chi_squared = diffs.sum().sum()\n",
    "print('χ² ≈ %.3f' %chi_squared)"
   ]
  },
  {
   "cell_type": "markdown",
   "metadata": {},
   "source": [
    "Nu zegt deze waarde op zich nog steeds niet zo veel. Onder welke voorwaarden zeggen we dat er al dan niet een verband is tussen beide variabelen? Dat zal ook afhangen van de grootte van de tabel en het totaal aantal observaties. In een kruistabel met meer rijen/kolommen, zal je een grotere $\\chi^2$ moeten hebben om te besluiten dat er een verband is.\n",
    "\n",
    "[Cramér's V](https://en.wikipedia.org/wiki/Cram%C3%A9r%27s_V) is een formule waarmee de $\\chi^2$ kan genormaliseerd worden tot een waarde tussen 0 en 1 die onafhankelijk is van de tabelgrootte."
   ]
  },
  {
   "cell_type": "code",
   "execution_count": 71,
   "metadata": {},
   "outputs": [
    {
     "name": "stdout",
     "output_type": "stream",
     "text": [
      "0.13046762087242633\n"
     ]
    }
   ],
   "source": [
    "dof = min(observed.shape) - 1\n",
    "cramers_v = np.sqrt(chi_squared / (dof * n))\n",
    "print(cramers_v)"
   ]
  },
  {
   "cell_type": "markdown",
   "metadata": {},
   "source": [
    "Om een besluit te trekken uit dit getal, vergelijk je het met de waarden in onderstaande tabel:\n",
    "\n",
    "| Cramér's V | Besluit            |\n",
    "| :---:      | :---               |\n",
    "| 0          | Geen verband       |\n",
    "| 0.1        | Zwak verband       |\n",
    "| 0.25       | Matig verband      |\n",
    "| 0.50       | Sterk verband      |\n",
    "| 0.75       | Zeer sterk verband |\n",
    "| 1          | Volledig verband   |\n",
    "\n",
    "Onze uitkomst voor Cramér's V wijst dus op een vrij zwak verband. Merk op dat Cramér's V erom gekend staat om in bepaalde gevallen te optimistisch te zijn over het verband tussen twee variabelen. Er bestaat een aangepaste formule om deze 'bias' weg te werken, maar die valt buiten het bereik van deze cursus.\n",
    "\n",
    "Er bestaat echter nog een andere manier om te bepalen of de chi-kwadraat voldoende groot is om te besluiten dat er een verband is, nl. aan de hand van een statistische toets.\n",
    "\n",
    "## De chi-kwadraat onafhankelijkheidstoets\n",
    "\n",
    "Om een antwoord te vinden op de vraag vanaf wanneer de waarde van chi-kwadraat voldoende groot is om te veronderstellen dat er een verband is tussen twee variabelen, kunnen we gebruik maken van de *chi-kwadraat onafhankelijkheidstoets*.\n",
    "\n",
    "### De chi-kwadraatverdeling\n",
    "\n",
    "De waarde van $\\chi^2$ volgt een specifieke stochastische verdeling die dan ook de $\\chi^2$-verdeling genoemd wordt. Net zoals bij Student-t hangt de vorm van de dichtheidsfunctie af van het aantal vrijheidsgraden, wat in deze context $dof = (r-1)\\times(k-1)$ is (met $r$ het aantal rijen in de kruistabel en $k$ het aantal kolommen).\n",
    "\n",
    "Hieronder vind je de code om de dichtheidsfunctie van de $\\chi^2$-verdeling te plotten voor een aantal vrijheidsgraden:"
   ]
  },
  {
   "cell_type": "code",
   "execution_count": 72,
   "metadata": {},
   "outputs": [
    {
     "data": {
      "text/plain": [
       "<matplotlib.legend.Legend at 0x7f72ff147e80>"
      ]
     },
     "execution_count": 72,
     "metadata": {},
     "output_type": "execute_result"
    },
    {
     "data": {
      "image/png": "[encoded data removed]",
      "text/plain": [
       "<Figure size 432x288 with 1 Axes>"
      ]
     },
     "metadata": {
      "needs_background": "light"
     },
     "output_type": "display_data"
    }
   ],
   "source": [
    "# Plot van de chi-kwadraatverdeling voor verschillende vrijheidsgraden\n",
    "x = np.linspace(0, 10, num=100)\n",
    "fig, tplot = plt.subplots(1, 1)\n",
    "tplot.set_ylim([0, 0.8])\n",
    "tplot.plot(x, stats.chi2.pdf(x, 1), label=\"dof=1\") \n",
    "tplot.plot(x, stats.chi2.pdf(x, 2), label=\"dof=2\") \n",
    "tplot.plot(x, stats.chi2.pdf(x, 3), label=\"dof=3\")\n",
    "tplot.plot(x, stats.chi2.pdf(x, 8), label=\"dof=5\")\n",
    "tplot.plot(x, stats.chi2.pdf(x, 30), label=\"dof=10\")\n",
    "tplot.legend(loc='best')"
   ]
  },
  {
   "cell_type": "markdown",
   "metadata": {},
   "source": [
    "Aan de hand van deze figuur, kan je een gelijkaardige redenering volgen als bij een rechtszijdige z-toets. Je kan een kritieke grenswaarde $g$ berekenen waarvoor geldt dat de oppervlakte onder de curve rechts van $g$ gelijk is aan ons gekozen significantieniveau $\\alpha$. Als de teststatistiek $\\chi^2$ groter is dan $g$, zeggen we dat de afwijkingen t.o.v. de verwachte waarden in de kruistabel té groot zijn om nog op toeval te berusten en dat we dus reden hebben om aan te nemen dat er een verband is tussen beide variabelen.\n",
    "\n",
    "Je kan ook de overschrijdingskans $p$ berekenen, d.w.z. de kans dat je de afwijkingen die je in de steekproef ziet te wijten kunnen zijn aan toevallige steekproeffouten. Daarvoor bereken je de oppervlakte onder de dichtheidscurve rechts van de $\\chi^2$. Als deze oppervlakte kleiner is dan $\\alpha$, zeggen we eveneens dat de afwijkingen te groot zijn om veroorzaakt te worden door toevallige steekproeffouten en dat er dus een verband is tussen de variabelen.\n",
    "\n",
    "In Python gebruiken we daarvoor volgende Scipy-functies:\n",
    "\n",
    "- `stats.chi2.sf(x)` - de rechterstaartkans van `x` (of \"survival function\")\n",
    "- `stats.chi2.isf(q)` - de inverse functie van `sf(x)`, m.a.w. een getal `x` berekenen waarvoor geldt dat de rechterstaartkans precies `q` is.\n",
    "\n",
    "Een plot voor het geval dat $\\alpha = 0.05$ (een vaak gekozen waarde voor het significantieniveau) en 4 vrijheidsgraden:"
   ]
  },
  {
   "cell_type": "code",
   "execution_count": 73,
   "metadata": {},
   "outputs": [
    {
     "data": {
      "text/plain": [
       "<matplotlib.lines.Line2D at 0x7f72feff0730>"
      ]
     },
     "execution_count": 73,
     "metadata": {},
     "output_type": "execute_result"
    },
    {
     "data": {
      "image/png": "[encoded data removed]",
      "text/plain": [
       "<Figure size 432x288 with 1 Axes>"
      ]
     },
     "metadata": {
      "needs_background": "light"
     },
     "output_type": "display_data"
    }
   ],
   "source": [
    "# Rechterstaartkans in de chi-kwadraatverdeling\n",
    "\n",
    "# x-waarden:\n",
    "x = np.linspace(0, 15, num=100)\n",
    "# kansdichtheid van de chi-kwadraatverdeling met 4 vrijheidsgraden:\n",
    "y = stats.chi2.pdf(x, df=4)\n",
    "# het getal q waarvoor geldt dat de rechterstaartkans precies 5% is:\n",
    "q = stats.chi2.isf(.05, df=4)\n",
    "\n",
    "fig, tplot = plt.subplots(1, 1)\n",
    "tplot.plot(x, y, label=\"dof=4\")       # kansdichtheid\n",
    "tplot.fill_between(x, y, where=x>=q,  # kritieke gebied\n",
    "    color='lightblue')\n",
    "tplot.axvline(q)                      # kritieke grenswaarde"
   ]
  },
  {
   "cell_type": "markdown",
   "metadata": {},
   "source": [
    "### Toetsingsprocedure\n",
    "\n",
    "Formeel verloopt de procedure van de $\\chi^2$ onafhankelijkheidstoets als volgt:\n",
    "\n",
    "1. Formuleer de hypotheses:\n",
    "   - $H_0$: Er is geen verband tussen de variabelen (de verschillen tussen geobserveerde en verwachte waarden zijn klein)\n",
    "   - $H_1$: Er is een verband tussen de variabelen (de verschillen zijn groot)\n",
    "2. Bepaal het significantieniveau $\\alpha$\n",
    "3. Bereken de waarde van de teststatistiek (of toetsingsgrootheid) in de steekproef (hier: $\\chi^2$).\n",
    "4. Gebruik een van de volgende methoden (op basis van het aantal vrijheidsgraden $df = (r-1) \\times (k-1)$):\n",
    "   1. Bepaal de kritieke grenswaarde $g$ zodat $P(\\chi^2 > g) = \\alpha$\n",
    "   2. Bereken de overschrijdingskans $p$\n",
    "5. Trek een besluit op basis van de uitkomst:\n",
    "   1. $\\chi^2 < g$: $H_0$ niet verwerpen; $\\chi^2 > g$: $H_0$ verwerpen\n",
    "   2. $p > \\alpha$: $H_0$ niet verwerpen; $p < \\alpha$: $H_0$ verwerpen\n",
    "\n",
    "In Python kunnen we dit als volgt berekenen:"
   ]
  },
  {
   "cell_type": "code",
   "execution_count": 74,
   "metadata": {},
   "outputs": [
    {
     "name": "stdout",
     "output_type": "stream",
     "text": [
      "Chi-kwadraat         : 4.2555\n",
      "Vrijheidsgraden      : 4\n",
      "Kritieke grenswaarde : 9.4877\n",
      "Overschrijdingskans  : 0.3725\n"
     ]
    }
   ],
   "source": [
    "alpha = .05\n",
    "dimensions = observed.shape\n",
    "dof = (dimensions[0]-1) * (dimensions[1]-1)\n",
    "\n",
    "print(\"Chi-kwadraat         : %.4f\" % chi_squared)\n",
    "print(\"Vrijheidsgraden      : %d\" % dof)\n",
    "\n",
    "# Berekenen kritieke grenswaarde\n",
    "g = stats.chi2.isf(alpha, df = dof)\n",
    "print(\"Kritieke grenswaarde : %.4f\" % g)\n",
    "\n",
    "# Berekenen overschrijdingskans\n",
    "p = stats.chi2.sf(chi_squared, df=dof)\n",
    "print(\"Overschrijdingskans  : %.4f\" % p)"
   ]
  },
  {
   "cell_type": "markdown",
   "metadata": {},
   "source": [
    "Eigenlijk hoeven we deze rekenregels om chi-kwadraat, de kritieke grenswaarde en de overschrijdingskans te bepalen niet te onthouden. In SciPy zit al een functie waarmee we op basis van een kruistabel rechtstreeks de chi-kwadraat en de p-waarde kunnen berekenen:"
   ]
  },
  {
   "cell_type": "code",
   "execution_count": 77,
   "metadata": {},
   "outputs": [
    {
     "name": "stdout",
     "output_type": "stream",
     "text": [
      "Chi-kwadraat   : 4.2555\n",
      "Vrijheidsgraden: 4\n",
      "P-waarde       : 0.3725\n"
     ]
    }
   ],
   "source": [
    "# Chi-kwadraat onanfhankelijkheidstoets op basis van een kruistabel\n",
    "observed = pd.crosstab(rlanders.Survey, rlanders.Gender)\n",
    "chi2, p, df, expected = stats.chi2_contingency(observed)\n",
    "\n",
    "print(\"Chi-kwadraat   : %.4f\" % chi2)\n",
    "print(\"Vrijheidsgraden: %d\" % df)\n",
    "print(\"P-waarde       : %.4f\" % p)"
   ]
  },
  {
   "cell_type": "markdown",
   "metadata": {},
   "source": [
    "Zoals je ziet is de uitkomst voor de $p$-waarde dezelfde als in onze uitgewerkte berekeningen!\n",
    "\n",
    "Een grafische voorstelling van onze casus:"
   ]
  },
  {
   "cell_type": "code",
   "execution_count": 76,
   "metadata": {},
   "outputs": [
    {
     "data": {
      "text/plain": [
       "<matplotlib.lines.Line2D at 0x7f72ff04cfa0>"
      ]
     },
     "execution_count": 76,
     "metadata": {},
     "output_type": "execute_result"
    },
    {
     "data": {
      "image/png": "[encoded data removed]",
      "text/plain": [
       "<Figure size 432x288 with 1 Axes>"
      ]
     },
     "metadata": {
      "needs_background": "light"
     },
     "output_type": "display_data"
    }
   ],
   "source": [
    "# Is er een verband tussen Gender en Survey?\n",
    "\n",
    "# x-waarden:\n",
    "x = np.linspace(0, 15, num=100)\n",
    "# kansdichtheid van de chi-kwadraatverdeling met 4 vrijheidsgraden:\n",
    "y = stats.chi2.pdf(x, df=dof)\n",
    "# het getal q waarvoor geldt dat de rechterstaartkans precies 5% is:\n",
    "\n",
    "fig, tplot = plt.subplots(1, 1)\n",
    "tplot.plot(x, y)                     # kansdichtheid\n",
    "tplot.fill_between(x, y, where=x>=q, # kritieke gebied\n",
    "    color='lightblue')\n",
    "tplot.axvline(q)                     # kritieke grenswaarde\n",
    "tplot.axvline(chi2, color='orange')  # chi-kwadraat"
   ]
  },
  {
   "cell_type": "markdown",
   "metadata": {},
   "source": [
    "We zien dat $\\chi^2$ ruim binnen het aanvaardingsgebied ligt. De $p$-waarde is ook groter dan $\\alpha$. We kunnen dus de nulhypothese niet verwerpen en besluiten dat er op basis van deze steekproef geen reden is om aan te nemen dat er een significant verschil is tussen de antwoorden van vrouwen en mannen op de enquêtevraag.\n",
    "\n",
    "### Gestandaardiseerde residuën\n",
    "\n",
    "TODO"
   ]
  }
 ],
 "metadata": {
  "interpreter": {
   "hash": "e7370f93d1d0cde622a1f8e1c04877d8463912d04d973331ad4851f04de6915a"
  },
  "kernelspec": {
   "display_name": "Python 3.10.0 64-bit",
   "language": "python",
   "name": "python3"
  },
  "language_info": {
   "codemirror_mode": {
    "name": "ipython",
    "version": 3
   },
   "file_extension": ".py",
   "mimetype": "text/x-python",
   "name": "python",
   "nbconvert_exporter": "python",
   "pygments_lexer": "ipython3",
   "version": "3.10.0"
  },
  "orig_nbformat": 4
 },
 "nbformat": 4,
 "nbformat_minor": 2
}
