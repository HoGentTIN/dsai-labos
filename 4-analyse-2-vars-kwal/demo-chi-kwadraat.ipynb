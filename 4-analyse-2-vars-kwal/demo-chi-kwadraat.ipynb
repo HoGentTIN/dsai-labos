{
 "cells": [
  {
   "cell_type": "markdown",
   "metadata": {},
   "source": [
    "# Module 4: Het verband tussen 2 kwalitatieve variabelen\n",
    "\n",
    "Als casus lezen we de dataset `rlanders.csv` in (die synthetische data bevat, zie [de beschrijving](../data/rlanders.md))."
   ]
  },
  {
   "cell_type": "code",
   "execution_count": 1,
   "metadata": {},
   "outputs": [],
   "source": [
    "# Importeren van de nodige packages\n",
    "import numpy as np                                  # \"Scientific computing\"\n",
    "import scipy.stats as stats                         # Statistical tests\n",
    "\n",
    "import pandas as pd                                 # Dataframe\n",
    "from pandas.api.types import CategoricalDtype       # Voor ordinale variabelen\n",
    "import matplotlib.pyplot as plt                     # Basis visualisatie\n",
    "from statsmodels.graphics.mosaicplot import mosaic  # Mozaïekdiagram\n",
    "import seaborn as sns                               # Geavanceerde datavisualisatie\n",
    "import altair as alt                                # Een alternatief visualisatiesysteem"
   ]
  },
  {
   "cell_type": "code",
   "execution_count": 2,
   "metadata": {},
   "outputs": [],
   "source": [
    "rlanders = pd.read_csv('../data/rlanders.csv')\n",
    "rlanders.set_index(['ID'])\n",
    "rlanders.Gender = rlanders.Gender.astype('category')\n",
    "likert_scale = CategoricalDtype(categories=[1,2,3,4,5], ordered=True)\n",
    "rlanders.Survey = rlanders.Survey.astype(likert_scale)\n",
    "# rlanders.info()\n",
    "# rlanders.Survey.dtype"
   ]
  },
  {
   "cell_type": "markdown",
   "metadata": {},
   "source": [
    "## Kruistabellen en visualisatietechnieken\n",
    "\n",
    "Stel dat we willen weten of in de steekproef vrouwen en mannen (`Gender`) verschillend antwoordden op een enquêtevraag met een Likert-schaal (`Survey`). Als de verhoudingen tussen de antwoorden (1 t/m 5) voor vrouwen en mannen ongeveer gelijk zijn, dan zeggen we dat er geen verband is tussen beide variabelen. Als er wél een aanzienlijk verschil is, dan is er wel een verband. Nu is uiteraard de vraag vanaf wanneer we spreken van een *aanzienlijk* verschil...\n",
    "\n",
    "Een eerste stap is het berekenen van een kruistabel. We voegen hier ook meteen de marginale totalen toe:"
   ]
  },
  {
   "cell_type": "code",
   "execution_count": 3,
   "metadata": {},
   "outputs": [
    {
     "data": {
      "text/html": [
       "<div>\n",
       "<style scoped>\n",
       "    .dataframe tbody tr th:only-of-type {\n",
       "        vertical-align: middle;\n",
       "    }\n",
       "\n",
       "    .dataframe tbody tr th {\n",
       "        vertical-align: top;\n",
       "    }\n",
       "\n",
       "    .dataframe thead th {\n",
       "        text-align: right;\n",
       "    }\n",
       "</style>\n",
       "<table border=\"1\" class=\"dataframe\">\n",
       "  <thead>\n",
       "    <tr style=\"text-align: right;\">\n",
       "      <th>Gender</th>\n",
       "      <th>Female</th>\n",
       "      <th>Male</th>\n",
       "      <th>All</th>\n",
       "    </tr>\n",
       "    <tr>\n",
       "      <th>Survey</th>\n",
       "      <th></th>\n",
       "      <th></th>\n",
       "      <th></th>\n",
       "    </tr>\n",
       "  </thead>\n",
       "  <tbody>\n",
       "    <tr>\n",
       "      <th>1</th>\n",
       "      <td>0</td>\n",
       "      <td>4</td>\n",
       "      <td>4</td>\n",
       "    </tr>\n",
       "    <tr>\n",
       "      <th>2</th>\n",
       "      <td>17</td>\n",
       "      <td>45</td>\n",
       "      <td>62</td>\n",
       "    </tr>\n",
       "    <tr>\n",
       "      <th>3</th>\n",
       "      <td>23</td>\n",
       "      <td>91</td>\n",
       "      <td>114</td>\n",
       "    </tr>\n",
       "    <tr>\n",
       "      <th>4</th>\n",
       "      <td>12</td>\n",
       "      <td>53</td>\n",
       "      <td>65</td>\n",
       "    </tr>\n",
       "    <tr>\n",
       "      <th>5</th>\n",
       "      <td>0</td>\n",
       "      <td>5</td>\n",
       "      <td>5</td>\n",
       "    </tr>\n",
       "    <tr>\n",
       "      <th>All</th>\n",
       "      <td>52</td>\n",
       "      <td>198</td>\n",
       "      <td>250</td>\n",
       "    </tr>\n",
       "  </tbody>\n",
       "</table>\n",
       "</div>"
      ],
      "text/plain": [
       "Gender  Female  Male  All\n",
       "Survey                   \n",
       "1            0     4    4\n",
       "2           17    45   62\n",
       "3           23    91  114\n",
       "4           12    53   65\n",
       "5            0     5    5\n",
       "All         52   198  250"
      ]
     },
     "execution_count": 3,
     "metadata": {},
     "output_type": "execute_result"
    }
   ],
   "source": [
    "pd.crosstab(rlanders.Survey, rlanders.Gender, margins=True)"
   ]
  },
  {
   "cell_type": "markdown",
   "metadata": {},
   "source": [
    "Zo'n tabel zegt natuurlijk niet veel. Misschien moeten we de data eens visualiseren."
   ]
  },
  {
   "cell_type": "code",
   "execution_count": 4,
   "metadata": {},
   "outputs": [
    {
     "data": {
      "text/plain": [
       "<seaborn.axisgrid.FacetGrid at 0x7f138b0fcc10>"
      ]
     },
     "execution_count": 4,
     "metadata": {},
     "output_type": "execute_result"
    },
    {
     "data": {
      "image/png": "[encoded data removed]",
      "text/plain": [
       "<Figure size 432.125x360 with 1 Axes>"
      ]
     },
     "metadata": {
      "needs_background": "light"
     },
     "output_type": "display_data"
    }
   ],
   "source": [
    "sns.catplot(data=rlanders, x='Survey', hue='Gender', kind='count')"
   ]
  },
  {
   "cell_type": "markdown",
   "metadata": {},
   "source": [
    "Wat opvalt is dat de vrouwen alvast niet de extreme antwoorden gaven. Er zijn wel beduidend minder vrouwen in de steekproef, dus misschien moeten we eerder naar de percentages kijken.\n",
    "\n",
    "Een mozaïekdiagram is een grafische voorstelling van de kruistabel waar elke cel voorgesteld wordt door een tegel waarvan de oppervlakte proportioneel is met de frequentie van die cel t.o.v. het totaal aantal observaties.\n",
    "\n",
    "Je kan dit een beetje vergelijken met hoe [WinDirStat](https://windirstat.net/) de grootte van bestanden op je harde schijf visualiseert.\n",
    "\n",
    "Voor deze casus:"
   ]
  },
  {
   "cell_type": "code",
   "execution_count": 5,
   "metadata": {},
   "outputs": [
    {
     "data": {
      "text/plain": [
       "(<Figure size 432x288 with 3 Axes>,\n",
       " {('Female', '1'): (0.0, 0.0, 0.19809523809523807, 0.0),\n",
       "  ('Female', '2'): (0.0,\n",
       "   0.029411764705882353,\n",
       "   0.19809523809523807,\n",
       "   0.2884615384615385),\n",
       "  ('Female', '3'): (0.0,\n",
       "   0.34728506787330315,\n",
       "   0.19809523809523807,\n",
       "   0.39027149321266974),\n",
       "  ('Female', '4'): (0.0,\n",
       "   0.7669683257918553,\n",
       "   0.19809523809523807,\n",
       "   0.20361990950226241),\n",
       "  ('Female', '5'): (0.0, 1.0, 0.19809523809523807, 0.0),\n",
       "  ('Male', '1'): (0.24571428571428572,\n",
       "   0.0,\n",
       "   0.7542857142857143,\n",
       "   0.017825311942959002),\n",
       "  ('Male', '2'): (0.24571428571428572,\n",
       "   0.04723707664884135,\n",
       "   0.7542857142857143,\n",
       "   0.2005347593582888),\n",
       "  ('Male', '3'): (0.24571428571428572,\n",
       "   0.2771836007130125,\n",
       "   0.7542857142857143,\n",
       "   0.4055258467023173),\n",
       "  ('Male', '4'): (0.24571428571428572,\n",
       "   0.7121212121212122,\n",
       "   0.7542857142857143,\n",
       "   0.23618538324420674),\n",
       "  ('Male', '5'): (0.24571428571428572,\n",
       "   0.9777183600713012,\n",
       "   0.7542857142857143,\n",
       "   0.022281639928698797)})"
      ]
     },
     "execution_count": 5,
     "metadata": {},
     "output_type": "execute_result"
    },
    {
     "data": {
      "image/png": "[encoded data removed]",
      "text/plain": [
       "<Figure size 432x288 with 3 Axes>"
      ]
     },
     "metadata": {
      "needs_background": "light"
     },
     "output_type": "display_data"
    }
   ],
   "source": [
    "from matplotlib import cm\n",
    "\n",
    "# By default, mosaic() will color all columns the same. Here,\n",
    "# we're going to give a separate color to each response (1-5).\n",
    "# The response is kept in the label of each cell, a tuple of\n",
    "# the two values that are represented in that cell (e.g. \n",
    "# ('Female', '2')). We will be using the \"plasma\" color map\n",
    "# in this example.\n",
    "plasma_colors = cm.get_cmap('plasma')\n",
    "# Create a function that maps the cell key to the color we\n",
    "# want to give it. We use the colormap function created above\n",
    "# and give it a number between 0 and 1. We convert the second\n",
    "# part of the key (values '1' to '5') to a number and divide\n",
    "# by 5.\n",
    "props = lambda key: {'color': plasma_colors(int(key[1])/5)}\n",
    "\n",
    "mosaic(data=rlanders, index=['Gender', 'Survey'],\n",
    "       gap=0.05, properties=props)"
   ]
  },
  {
   "cell_type": "markdown",
   "metadata": {},
   "source": [
    "We zien hier duidelijk dat de mannen meer vertegenwoordigd zijn in de steekproef (bredere tegels). Je kan ook de verdelingen van de gegeven antwoorden op de enquêtevraag vergelijken."
   ]
  },
  {
   "cell_type": "markdown",
   "metadata": {},
   "source": [
    "## Chi-kwadraat en Cramér's V\n",
    "\n",
    "Chi-kwadraat en Cramér's V zijn maten om te numeriek bepalen of er een verband bestaat tussen twee kwalitatieve (categorische) variabelen.\n",
    "\n",
    "De redenering gaat als volgt: als er geen verband is tussen de `Survey` en `Gender`, dan verwachten we dat de verhoudingen tussen de waarden van `Survey` gelijk zijn voor alle waarden van `Gender`. M.a.w. Bij de vrouwen en mannen geeft hetzelfde percentage hetzelfde antwoord op de vraag."
   ]
  },
  {
   "cell_type": "code",
   "execution_count": 30,
   "metadata": {},
   "outputs": [
    {
     "name": "stdout",
     "output_type": "stream",
     "text": [
      "Survey\n",
      "1      4\n",
      "2     62\n",
      "3    114\n",
      "4     65\n",
      "5      5\n",
      "dtype: int64\n",
      "Gender\n",
      "Female     52\n",
      "Male      198\n",
      "dtype: int64\n",
      "Aantal observaties: 250\n"
     ]
    }
   ],
   "source": [
    "observed = pd.crosstab(rlanders.Survey, rlanders.Gender)\n",
    "row_sums = observed.sum(axis=1)\n",
    "col_sums = observed.sum()\n",
    "n = row_sums.sum()\n",
    "\n",
    "print(row_sums)\n",
    "print(col_sums)\n",
    "print(f'Aantal observaties: {n}')"
   ]
  },
  {
   "cell_type": "markdown",
   "metadata": {},
   "source": [
    "Nu kunnen we berekenen hoe vaak we kunnen verwachten dat elke combinatie van `Gender` en `Survey` voorkomt in de steekproef. Bijvoorbeeld 114 van de 250 respondenten heeft \"3\" geantwoord, m.a.w. 114/250 = 0,456 (of 46,6%). Dan weten we dat zowel 46,6% van de vrouwen als 46,6% van de mannen \"3\" moet geantwoord hebben. Aangezien er 52 vrouwelijke respondenten waren, verwachten we dus dat er 52 x 0,456 = 23,712 \"3\" geantwoord hebben. In werkelijkheid waren het er ook 23. Bij de mannen verwachten we 198 x 0,456 = 90,288 (tegenover 91 in werkelijkheid).\n",
    "\n",
    "Dit principe kunnen we veralgemenen naar elke cel in de tabel: $\\frac{rijtotaal \\times kolomtotaal}{n}$ (met $n$ het totaal aantal observaties).\n",
    "\n",
    "De verwachte waarden kunnen we dan berekenen met de `outer()` functie:"
   ]
  },
  {
   "cell_type": "code",
   "execution_count": 35,
   "metadata": {},
   "outputs": [
    {
     "data": {
      "text/plain": [
       "array([[ 0.832,  3.168],\n",
       "       [12.896, 49.104],\n",
       "       [23.712, 90.288],\n",
       "       [13.52 , 51.48 ],\n",
       "       [ 1.04 ,  3.96 ]])"
      ]
     },
     "execution_count": 35,
     "metadata": {},
     "output_type": "execute_result"
    }
   ],
   "source": [
    "expected = np.outer(row_sums, col_sums) / n\n",
    "expected"
   ]
  },
  {
   "cell_type": "markdown",
   "metadata": {},
   "source": [
    "Kloppen de rij- en kolomsommen nog?"
   ]
  },
  {
   "cell_type": "code",
   "execution_count": 54,
   "metadata": {},
   "outputs": [
    {
     "name": "stdout",
     "output_type": "stream",
     "text": [
      "Rijsommen [  4.  62. 114.  65.   5.]\n",
      "[ 52. 198.]\n",
      "250.0\n"
     ]
    }
   ],
   "source": [
    "exp_row_sums = np.sum(expected, axis=1)\n",
    "exp_col_sums = np.sum(expected, axis=0)\n",
    "\n",
    "print(f'Rijsommen  : {exp_row_sums}')\n",
    "print(f'Kolomsommen: {exp_col_sums}')\n",
    "print(f'Observaties: {exp_col_sums.sum()}')"
   ]
  },
  {
   "cell_type": "markdown",
   "metadata": {},
   "source": [
    "Inderdaad, alles klopt. Wat is nu het verschil tussen de verwachte en geobserveerde waarden?"
   ]
  },
  {
   "cell_type": "code",
   "execution_count": 55,
   "metadata": {},
   "outputs": [
    {
     "data": {
      "text/html": [
       "<div>\n",
       "<style scoped>\n",
       "    .dataframe tbody tr th:only-of-type {\n",
       "        vertical-align: middle;\n",
       "    }\n",
       "\n",
       "    .dataframe tbody tr th {\n",
       "        vertical-align: top;\n",
       "    }\n",
       "\n",
       "    .dataframe thead th {\n",
       "        text-align: right;\n",
       "    }\n",
       "</style>\n",
       "<table border=\"1\" class=\"dataframe\">\n",
       "  <thead>\n",
       "    <tr style=\"text-align: right;\">\n",
       "      <th>Gender</th>\n",
       "      <th>Female</th>\n",
       "      <th>Male</th>\n",
       "    </tr>\n",
       "    <tr>\n",
       "      <th>Survey</th>\n",
       "      <th></th>\n",
       "      <th></th>\n",
       "    </tr>\n",
       "  </thead>\n",
       "  <tbody>\n",
       "    <tr>\n",
       "      <th>1</th>\n",
       "      <td>0.832</td>\n",
       "      <td>-0.832</td>\n",
       "    </tr>\n",
       "    <tr>\n",
       "      <th>2</th>\n",
       "      <td>-4.104</td>\n",
       "      <td>4.104</td>\n",
       "    </tr>\n",
       "    <tr>\n",
       "      <th>3</th>\n",
       "      <td>0.712</td>\n",
       "      <td>-0.712</td>\n",
       "    </tr>\n",
       "    <tr>\n",
       "      <th>4</th>\n",
       "      <td>1.520</td>\n",
       "      <td>-1.520</td>\n",
       "    </tr>\n",
       "    <tr>\n",
       "      <th>5</th>\n",
       "      <td>1.040</td>\n",
       "      <td>-1.040</td>\n",
       "    </tr>\n",
       "  </tbody>\n",
       "</table>\n",
       "</div>"
      ],
      "text/plain": [
       "Gender  Female   Male\n",
       "Survey               \n",
       "1        0.832 -0.832\n",
       "2       -4.104  4.104\n",
       "3        0.712 -0.712\n",
       "4        1.520 -1.520\n",
       "5        1.040 -1.040"
      ]
     },
     "execution_count": 55,
     "metadata": {},
     "output_type": "execute_result"
    }
   ],
   "source": [
    "expected - observed"
   ]
  },
  {
   "cell_type": "markdown",
   "metadata": {},
   "source": [
    "Sommige geobserveerde waarden lijken dicht bij de verwachte te liggen (bv. voor \"3\"), andere liggen verderaf (bv. \"2\"). We moeten de verschillen echter ook in verhouding zien.\n",
    "\n",
    "Een maat om de totale afwijking in een frequentietabel te bepalen, bestaat er uit om de verschillen tussen verwachte en geobserveerde waarden te kwadrateren (net zoals men bij variantie/standaardafwijking doet) en te delen door de verwachte waarde:"
   ]
  },
  {
   "cell_type": "code",
   "execution_count": 65,
   "metadata": {},
   "outputs": [
    {
     "name": "stdout",
     "output_type": "stream",
     "text": [
      "Gender    Female      Male\n",
      "Survey                    \n",
      "1       0.832000  0.218505\n",
      "2       1.306050  0.343003\n",
      "3       0.021379  0.005615\n",
      "4       0.170888  0.044880\n",
      "5       1.040000  0.273131\n"
     ]
    }
   ],
   "source": [
    "diffs = (expected - observed)**2 / expected\n",
    "print(diffs)"
   ]
  },
  {
   "cell_type": "markdown",
   "metadata": {},
   "source": [
    "De som van al deze waarden wordt $\\chi^2$ (\"chi-kwadraat\") genoemd."
   ]
  },
  {
   "cell_type": "code",
   "execution_count": 69,
   "metadata": {},
   "outputs": [
    {
     "name": "stdout",
     "output_type": "stream",
     "text": [
      "χ² ≈ 4.255\n"
     ]
    }
   ],
   "source": [
    "chi_squared = diffs.sum().sum()\n",
    "print('χ² ≈ %.3f' %chi_squared)"
   ]
  },
  {
   "cell_type": "markdown",
   "metadata": {},
   "source": [
    "Nu zegt deze waarde op zich nog steeds niet zo veel. Onder welke voorwaarden zeggen we dat er al dan niet een verband is tussen beide variabelen? Dat zal ook afhangen van de grootte van de tabel en het totaal aantal observaties. In een kruistabel met meer rijen/kolommen, zal je een grotere $\\chi^2$ moeten hebben om te besluiten dat er een verband is.\n",
    "\n",
    "[Cramér's V](https://en.wikipedia.org/wiki/Cram%C3%A9r%27s_V) is een formule waarmee de $\\chi^2$ kan genormaliseerd worden tot een waarde tussen 0 en 1 die onafhankelijk is van de tabelgrootte."
   ]
  },
  {
   "cell_type": "code",
   "execution_count": 75,
   "metadata": {},
   "outputs": [
    {
     "name": "stdout",
     "output_type": "stream",
     "text": [
      "0.13046762087242633\n"
     ]
    }
   ],
   "source": [
    "dof = min(observed.shape) - 1\n",
    "cramers_v = np.sqrt(chi_squared / (dof * n))\n",
    "print(cramers_v)"
   ]
  },
  {
   "cell_type": "markdown",
   "metadata": {},
   "source": [
    "Om een besluit te trekken uit dit getal, vergelijk je het met de waarden in onderstaande tabel:\n",
    "\n",
    "| Cramér's V | Besluit            |\n",
    "| :---:      | :---               |\n",
    "| 0          | Geen verband       |\n",
    "| 0.1        | Zwak verband       |\n",
    "| 0.25       | Matig verband      |\n",
    "| 0.50       | Sterk verband      |\n",
    "| 0.75       | Zeer sterk verband |\n",
    "| 1          | Volledig verband   |\n",
    "\n",
    "Onze uitkomst voor Cramér's V wijst dus op een vrij zwak verband.\n",
    "\n",
    "## De chi-kwadraat onafhankelijkheidstoets"
   ]
  },
  {
   "cell_type": "code",
   "execution_count": 64,
   "metadata": {},
   "outputs": [
    {
     "name": "stdout",
     "output_type": "stream",
     "text": [
      "Chi-kwadraat   : 4.255\n",
      "P-waarde       : 0.373\n",
      "Vrijheidsgraden: 4\n"
     ]
    }
   ],
   "source": [
    "\n",
    "chi2, p, df, expected = stats.chi2_contingency(observed)\n",
    "\n",
    "print(\"Chi-kwadraat   : %.3f\" % chi2)\n",
    "print(\"P-waarde       : %.3f\" % p)\n",
    "print(\"Vrijheidsgraden: %d\" % df)"
   ]
  }
 ],
 "metadata": {
  "interpreter": {
   "hash": "e7370f93d1d0cde622a1f8e1c04877d8463912d04d973331ad4851f04de6915a"
  },
  "kernelspec": {
   "display_name": "Python 3.10.0 64-bit",
   "language": "python",
   "name": "python3"
  },
  "language_info": {
   "codemirror_mode": {
    "name": "ipython",
    "version": 3
   },
   "file_extension": ".py",
   "mimetype": "text/x-python",
   "name": "python",
   "nbconvert_exporter": "python",
   "pygments_lexer": "ipython3",
   "version": "3.10.0"
  },
  "orig_nbformat": 4
 },
 "nbformat": 4,
 "nbformat_minor": 2
}
