{
 "cells": [
  {
   "cell_type": "markdown",
   "metadata": {},
   "source": [
    "# Module 6. Het verband tussen 2 kwantitatieve variabelen (regressie)\n",
    "\n",
    "Als casus lezen we de [Palmer Penguins](https://allisonhorst.github.io/palmerpenguins/) dataset in. Meer info over de dataset vind je op de website, of in de [beschrijving](../data/penguins.md)."
   ]
  },
  {
   "cell_type": "code",
   "execution_count": null,
   "metadata": {},
   "outputs": [],
   "source": [
    "# Importeren van de nodige packages\n",
    "import numpy as np                                  # \"Scientific computing\"\n",
    "import scipy.stats as stats                         # Statistical tests\n",
    "\n",
    "import pandas as pd                                 # Dataframe\n",
    "import matplotlib.pyplot as plt                     # Basis visualisatie\n",
    "from statsmodels.graphics.mosaicplot import mosaic  # Mozaïekdiagram\n",
    "import seaborn as sns                               # Geavanceerde datavisualisatie\n",
    "import altair as alt                                # Een alternatief visualisatiesysteem"
   ]
  },
  {
   "cell_type": "code",
   "execution_count": null,
   "metadata": {},
   "outputs": [],
   "source": [
    "# CSV-bestand penguins_size.csv laden\n",
    "penguins = pd.read_csv('../data/penguins_size.csv')\n",
    "# penguins.head()\n",
    "# Categorische variabelen aanduiden\n",
    "penguins.species = penguins.species.astype('category')\n",
    "penguins.sex = penguins.sex.astype('category')\n",
    "penguins.island = penguins.island.astype('category')\n",
    "# penguins.info()"
   ]
  }
 ],
 "metadata": {
  "language_info": {
   "name": "python"
  },
  "orig_nbformat": 4
 },
 "nbformat": 4,
 "nbformat_minor": 2
}
