{
 "cells": [
  {
   "cell_type": "markdown",
   "metadata": {},
   "source": [
    "# Module 6. Het verband tussen 2 kwantitatieve variabelen (regressie)"
   ]
  },
  {
   "cell_type": "code",
   "execution_count": 1,
   "metadata": {},
   "outputs": [],
   "source": [
    "# Importeren van de nodige packages\n",
    "import numpy as np                                  # \"Scientific computing\"\n",
    "import scipy.stats as stats                         # Statistical tests\n",
    "\n",
    "import pandas as pd                                 # Dataframe\n",
    "import matplotlib.pyplot as plt                     # Basis visualisatie\n",
    "from statsmodels.graphics.mosaicplot import mosaic  # Mozaïekdiagram\n",
    "import seaborn as sns                               # Geavanceerde datavisualisatie\n",
    "import altair as alt                                # Een alternatief visualisatiesysteem"
   ]
  },
  {
   "cell_type": "markdown",
   "metadata": {},
   "source": [
    "## De kleinste kwadratenmethode: uitgewerkte berekening\n",
    "\n",
    "Voor de introductie van lineaire regressie en de kleinste kwadratenmethode nemen we als voorbeeld de data die we ook in de slides gebruiken:"
   ]
  },
  {
   "cell_type": "code",
   "execution_count": 24,
   "metadata": {},
   "outputs": [
    {
     "data": {
      "text/html": [
       "<div>\n",
       "<style scoped>\n",
       "    .dataframe tbody tr th:only-of-type {\n",
       "        vertical-align: middle;\n",
       "    }\n",
       "\n",
       "    .dataframe tbody tr th {\n",
       "        vertical-align: top;\n",
       "    }\n",
       "\n",
       "    .dataframe thead th {\n",
       "        text-align: right;\n",
       "    }\n",
       "</style>\n",
       "<table border=\"1\" class=\"dataframe\">\n",
       "  <thead>\n",
       "    <tr style=\"text-align: right;\">\n",
       "      <th></th>\n",
       "      <th>x</th>\n",
       "      <th>y</th>\n",
       "    </tr>\n",
       "  </thead>\n",
       "  <tbody>\n",
       "    <tr>\n",
       "      <th>0</th>\n",
       "      <td>0</td>\n",
       "      <td>177</td>\n",
       "    </tr>\n",
       "    <tr>\n",
       "      <th>1</th>\n",
       "      <td>10</td>\n",
       "      <td>231</td>\n",
       "    </tr>\n",
       "    <tr>\n",
       "      <th>2</th>\n",
       "      <td>20</td>\n",
       "      <td>249</td>\n",
       "    </tr>\n",
       "    <tr>\n",
       "      <th>3</th>\n",
       "      <td>30</td>\n",
       "      <td>348</td>\n",
       "    </tr>\n",
       "    <tr>\n",
       "      <th>4</th>\n",
       "      <td>40</td>\n",
       "      <td>361</td>\n",
       "    </tr>\n",
       "    <tr>\n",
       "      <th>5</th>\n",
       "      <td>50</td>\n",
       "      <td>384</td>\n",
       "    </tr>\n",
       "    <tr>\n",
       "      <th>6</th>\n",
       "      <td>60</td>\n",
       "      <td>404</td>\n",
       "    </tr>\n",
       "  </tbody>\n",
       "</table>\n",
       "</div>"
      ],
      "text/plain": [
       "    x    y\n",
       "0   0  177\n",
       "1  10  231\n",
       "2  20  249\n",
       "3  30  348\n",
       "4  40  361\n",
       "5  50  384\n",
       "6  60  404"
      ]
     },
     "execution_count": 24,
     "metadata": {},
     "output_type": "execute_result"
    }
   ],
   "source": [
    "# Dataset met voorbeeldwaarden:\n",
    "weight_gain = pd.DataFrame(\n",
    "    np.array(\n",
    "        [[0, 177],\n",
    "         [10, 231],\n",
    "         [20, 249],\n",
    "         [30, 348],\n",
    "         [40, 361],\n",
    "         [50, 384],\n",
    "         [60, 404]]),\n",
    "    columns=['x', 'y'])\n",
    "weight_gain\n"
   ]
  },
  {
   "cell_type": "markdown",
   "metadata": {},
   "source": [
    "Een plot van deze casus:"
   ]
  },
  {
   "cell_type": "code",
   "execution_count": 22,
   "metadata": {},
   "outputs": [
    {
     "data": {
      "text/plain": [
       "<AxesSubplot:xlabel='x', ylabel='y'>"
      ]
     },
     "execution_count": 22,
     "metadata": {},
     "output_type": "execute_result"
    },
    {
     "data": {
      "image/png": "[encoded data removed]",
      "text/plain": [
       "<Figure size 432x288 with 1 Axes>"
      ]
     },
     "metadata": {
      "needs_background": "light"
     },
     "output_type": "display_data"
    }
   ],
   "source": [
    "weight_gain.plot(kind='scatter', x='x', y='y')"
   ]
  },
  {
   "cell_type": "markdown",
   "metadata": {},
   "source": [
    "We proberen deze verzameling van punten $(x_i, y_i)$ (voor $i: 1, \\ldots, n$) zo goed mogelijk te benaderen met een rechte $\\hat{y} = \\beta_0 + \\beta_1 x$. Het symbool $\\hat{y}$ betekent \"een schatting voor $y$\". De parameters $\\beta_0$ en $\\beta_1$ worden als volgt berekend:\n",
    "\n",
    "$\\beta_1 = \\frac{\\sum_{i=1}^{n}(x_i - \\overline{x})(y_i - \\overline{y})}{\\sum_{i=1}^{n}(x_i - x)^2}$\n",
    "\n",
    "$\\beta_0 = \\overline{y} - \\beta_1 \\overline{x}$\n",
    "\n",
    "In Python kan je dat als volgt uitrekenen: "
   ]
  },
  {
   "cell_type": "code",
   "execution_count": 25,
   "metadata": {},
   "outputs": [
    {
     "name": "stdout",
     "output_type": "stream",
     "text": [
      "x̅ = 30.0000\n",
      "y̅ = 307.7143\n"
     ]
    },
    {
     "data": {
      "text/html": [
       "<div>\n",
       "<style scoped>\n",
       "    .dataframe tbody tr th:only-of-type {\n",
       "        vertical-align: middle;\n",
       "    }\n",
       "\n",
       "    .dataframe tbody tr th {\n",
       "        vertical-align: top;\n",
       "    }\n",
       "\n",
       "    .dataframe thead th {\n",
       "        text-align: right;\n",
       "    }\n",
       "</style>\n",
       "<table border=\"1\" class=\"dataframe\">\n",
       "  <thead>\n",
       "    <tr style=\"text-align: right;\">\n",
       "      <th></th>\n",
       "      <th>x</th>\n",
       "      <th>y</th>\n",
       "      <th>xx</th>\n",
       "      <th>yy</th>\n",
       "    </tr>\n",
       "  </thead>\n",
       "  <tbody>\n",
       "    <tr>\n",
       "      <th>0</th>\n",
       "      <td>0</td>\n",
       "      <td>177</td>\n",
       "      <td>-30.0</td>\n",
       "      <td>-130.714286</td>\n",
       "    </tr>\n",
       "    <tr>\n",
       "      <th>1</th>\n",
       "      <td>10</td>\n",
       "      <td>231</td>\n",
       "      <td>-20.0</td>\n",
       "      <td>-76.714286</td>\n",
       "    </tr>\n",
       "    <tr>\n",
       "      <th>2</th>\n",
       "      <td>20</td>\n",
       "      <td>249</td>\n",
       "      <td>-10.0</td>\n",
       "      <td>-58.714286</td>\n",
       "    </tr>\n",
       "    <tr>\n",
       "      <th>3</th>\n",
       "      <td>30</td>\n",
       "      <td>348</td>\n",
       "      <td>0.0</td>\n",
       "      <td>40.285714</td>\n",
       "    </tr>\n",
       "    <tr>\n",
       "      <th>4</th>\n",
       "      <td>40</td>\n",
       "      <td>361</td>\n",
       "      <td>10.0</td>\n",
       "      <td>53.285714</td>\n",
       "    </tr>\n",
       "    <tr>\n",
       "      <th>5</th>\n",
       "      <td>50</td>\n",
       "      <td>384</td>\n",
       "      <td>20.0</td>\n",
       "      <td>76.285714</td>\n",
       "    </tr>\n",
       "    <tr>\n",
       "      <th>6</th>\n",
       "      <td>60</td>\n",
       "      <td>404</td>\n",
       "      <td>30.0</td>\n",
       "      <td>96.285714</td>\n",
       "    </tr>\n",
       "  </tbody>\n",
       "</table>\n",
       "</div>"
      ],
      "text/plain": [
       "    x    y    xx          yy\n",
       "0   0  177 -30.0 -130.714286\n",
       "1  10  231 -20.0  -76.714286\n",
       "2  20  249 -10.0  -58.714286\n",
       "3  30  348   0.0   40.285714\n",
       "4  40  361  10.0   53.285714\n",
       "5  50  384  20.0   76.285714\n",
       "6  60  404  30.0   96.285714"
      ]
     },
     "execution_count": 25,
     "metadata": {},
     "output_type": "execute_result"
    }
   ],
   "source": [
    "mx = weight_gain.x.mean()\n",
    "my = weight_gain.y.mean()\n",
    "\n",
    "print(\"x̅ = %.4f\" % mx)\n",
    "print(\"y̅ = %.4f\" % my)\n",
    "\n",
    "weight_gain['xx'] = weight_gain.x - mx\n",
    "weight_gain['yy'] = weight_gain.y - my\n",
    "\n",
    "weight_gain"
   ]
  },
  {
   "cell_type": "code",
   "execution_count": 29,
   "metadata": {},
   "outputs": [
    {
     "name": "stdout",
     "output_type": "stream",
     "text": [
      "Functievoorschrift regressierechte: y = 189.9643 + 3.9250 x\n"
     ]
    }
   ],
   "source": [
    "beta_1 = (weight_gain.xx * weight_gain.yy).sum() / (weight_gain.xx**2).sum()\n",
    "beta_0 = my - beta_1 * mx\n",
    "\n",
    "print(\"Functievoorschrift regressierechte: y = %.4f + %.4f x\" %\n",
    "    (beta_0, beta_1))"
   ]
  },
  {
   "cell_type": "code",
   "execution_count": 42,
   "metadata": {},
   "outputs": [
    {
     "data": {
      "text/plain": [
       "[<matplotlib.lines.Line2D at 0x7f152d1eaad0>]"
      ]
     },
     "execution_count": 42,
     "metadata": {},
     "output_type": "execute_result"
    },
    {
     "data": {
      "image/png": "[encoded data removed]",
      "text/plain": [
       "<Figure size 432x288 with 1 Axes>"
      ]
     },
     "metadata": {
      "needs_background": "light"
     },
     "output_type": "display_data"
    }
   ],
   "source": [
    "fig, tplot = plt.subplots(1, 1)\n",
    "tplot.scatter(weight_gain.x, weight_gain.y)\n",
    "\n",
    "# (x,y) coördinaten om de regressierechte te tekenen\n",
    "# (je hebt er maar 2 nodig)\n",
    "xvals = np.linspace(0, 60, num=2)\n",
    "yvals = beta_0 + xvals * beta_1\n",
    "\n",
    "tplot.plot(xvals, yvals, color='orange')"
   ]
  },
  {
   "cell_type": "markdown",
   "metadata": {},
   "source": [
    "## Regressie-analyse in Python\n",
    "\n",
    "Uiteraard bestaan er ook hiervoor al functies in Python, wij hoeven de parameters voor de regressierechte niet telkens via de formule uit te rekenen.\n",
    "\n",
    "Als casus lezen we de [Palmer Penguins](https://allisonhorst.github.io/palmerpenguins/) dataset in. Meer info over de dataset vind je op de [website](https://allisonhorst.github.io/palmerpenguins/), of in de [beschrijving](../data/penguins.md)."
   ]
  },
  {
   "cell_type": "code",
   "execution_count": 55,
   "metadata": {},
   "outputs": [
    {
     "data": {
      "text/html": [
       "<div>\n",
       "<style scoped>\n",
       "    .dataframe tbody tr th:only-of-type {\n",
       "        vertical-align: middle;\n",
       "    }\n",
       "\n",
       "    .dataframe tbody tr th {\n",
       "        vertical-align: top;\n",
       "    }\n",
       "\n",
       "    .dataframe thead th {\n",
       "        text-align: right;\n",
       "    }\n",
       "</style>\n",
       "<table border=\"1\" class=\"dataframe\">\n",
       "  <thead>\n",
       "    <tr style=\"text-align: right;\">\n",
       "      <th></th>\n",
       "      <th>species</th>\n",
       "      <th>island</th>\n",
       "      <th>culmen_length_mm</th>\n",
       "      <th>culmen_depth_mm</th>\n",
       "      <th>flipper_length_mm</th>\n",
       "      <th>body_mass_g</th>\n",
       "      <th>sex</th>\n",
       "    </tr>\n",
       "  </thead>\n",
       "  <tbody>\n",
       "    <tr>\n",
       "      <th>0</th>\n",
       "      <td>Adelie</td>\n",
       "      <td>Torgersen</td>\n",
       "      <td>39.1</td>\n",
       "      <td>18.7</td>\n",
       "      <td>181.0</td>\n",
       "      <td>3750.0</td>\n",
       "      <td>MALE</td>\n",
       "    </tr>\n",
       "    <tr>\n",
       "      <th>1</th>\n",
       "      <td>Adelie</td>\n",
       "      <td>Torgersen</td>\n",
       "      <td>39.5</td>\n",
       "      <td>17.4</td>\n",
       "      <td>186.0</td>\n",
       "      <td>3800.0</td>\n",
       "      <td>FEMALE</td>\n",
       "    </tr>\n",
       "    <tr>\n",
       "      <th>2</th>\n",
       "      <td>Adelie</td>\n",
       "      <td>Torgersen</td>\n",
       "      <td>40.3</td>\n",
       "      <td>18.0</td>\n",
       "      <td>195.0</td>\n",
       "      <td>3250.0</td>\n",
       "      <td>FEMALE</td>\n",
       "    </tr>\n",
       "    <tr>\n",
       "      <th>4</th>\n",
       "      <td>Adelie</td>\n",
       "      <td>Torgersen</td>\n",
       "      <td>36.7</td>\n",
       "      <td>19.3</td>\n",
       "      <td>193.0</td>\n",
       "      <td>3450.0</td>\n",
       "      <td>FEMALE</td>\n",
       "    </tr>\n",
       "    <tr>\n",
       "      <th>5</th>\n",
       "      <td>Adelie</td>\n",
       "      <td>Torgersen</td>\n",
       "      <td>39.3</td>\n",
       "      <td>20.6</td>\n",
       "      <td>190.0</td>\n",
       "      <td>3650.0</td>\n",
       "      <td>MALE</td>\n",
       "    </tr>\n",
       "  </tbody>\n",
       "</table>\n",
       "</div>"
      ],
      "text/plain": [
       "  species     island  culmen_length_mm  culmen_depth_mm  flipper_length_mm  \\\n",
       "0  Adelie  Torgersen              39.1             18.7              181.0   \n",
       "1  Adelie  Torgersen              39.5             17.4              186.0   \n",
       "2  Adelie  Torgersen              40.3             18.0              195.0   \n",
       "4  Adelie  Torgersen              36.7             19.3              193.0   \n",
       "5  Adelie  Torgersen              39.3             20.6              190.0   \n",
       "\n",
       "   body_mass_g     sex  \n",
       "0       3750.0    MALE  \n",
       "1       3800.0  FEMALE  \n",
       "2       3250.0  FEMALE  \n",
       "4       3450.0  FEMALE  \n",
       "5       3650.0    MALE  "
      ]
     },
     "execution_count": 55,
     "metadata": {},
     "output_type": "execute_result"
    }
   ],
   "source": [
    "# CSV-bestand penguins_size.csv laden\n",
    "penguins = pd.read_csv('../data/penguins_size.csv')\n",
    "# penguins.head()\n",
    "# Categorische variabelen aanduiden\n",
    "penguins.species = penguins.species.astype('category')\n",
    "penguins.sex = penguins.sex.astype('category')\n",
    "penguins.island = penguins.island.astype('category')\n",
    "penguins.dropna(inplace=True)\n",
    "penguins.head()"
   ]
  },
  {
   "cell_type": "code",
   "execution_count": 56,
   "metadata": {},
   "outputs": [
    {
     "data": {
      "text/plain": [
       "<seaborn.axisgrid.FacetGrid at 0x7f152cd48910>"
      ]
     },
     "execution_count": 56,
     "metadata": {},
     "output_type": "execute_result"
    },
    {
     "data": {
      "image/png": "[encoded data removed]",
      "text/plain": [
       "<Figure size 360x360 with 1 Axes>"
      ]
     },
     "metadata": {
      "needs_background": "light"
     },
     "output_type": "display_data"
    }
   ],
   "source": [
    "sns.lmplot(data=penguins, x='body_mass_g', y='flipper_length_mm')"
   ]
  },
  {
   "cell_type": "code",
   "execution_count": 57,
   "metadata": {},
   "outputs": [
    {
     "data": {
      "text/plain": [
       "0      3750.0\n",
       "1      3800.0\n",
       "2      3250.0\n",
       "4      3450.0\n",
       "5      3650.0\n",
       "        ...  \n",
       "338    4925.0\n",
       "340    4850.0\n",
       "341    5750.0\n",
       "342    5200.0\n",
       "343    5400.0\n",
       "Name: body_mass_g, Length: 334, dtype: float64"
      ]
     },
     "execution_count": 57,
     "metadata": {},
     "output_type": "execute_result"
    }
   ],
   "source": [
    "penguins.body_mass_g"
   ]
  },
  {
   "cell_type": "code",
   "execution_count": 62,
   "metadata": {},
   "outputs": [
    {
     "name": "stdout",
     "output_type": "stream",
     "text": [
      "LinregressResult(slope=0.015213428794921394, intercept=136.98078282748392, rvalue=0.8732109665376445, pvalue=1.1494028649077907e-105, stderr=0.0004659862203516556, intercept_stderr=1.996792096596842)\n",
      "----------\n",
      "Regression line: flipper_length = 136.9808 + 0.0152 x body_mass\n",
      "Correlation coefficient: 0.8732\n",
      "Determination coefficient: 0.7625\n"
     ]
    }
   ],
   "source": [
    "mass_flipper = stats.linregress(x=penguins.body_mass_g, y=penguins.flipper_length_mm)\n",
    "\n",
    "print(mass_flipper)\n",
    "print('----------')\n",
    "print(\"Regression line: flipper_length = %.4f + %.4f x body_mass\" %\n",
    "    (mass_flipper.intercept, mass_flipper.slope))\n",
    "print(\"Correlation coefficient: %.4f\" % mass_flipper.rvalue)\n",
    "print(\"Determination coefficient: %.4f\" % mass_flipper.rvalue**2)"
   ]
  },
  {
   "cell_type": "code",
   "execution_count": 47,
   "metadata": {},
   "outputs": [
    {
     "data": {
      "text/plain": [
       "<seaborn.axisgrid.FacetGrid at 0x7f152ccee560>"
      ]
     },
     "execution_count": 47,
     "metadata": {},
     "output_type": "execute_result"
    },
    {
     "data": {
      "image/png": "[encoded data removed]",
      "text/plain": [
       "<Figure size 444.125x360 with 1 Axes>"
      ]
     },
     "metadata": {
      "needs_background": "light"
     },
     "output_type": "display_data"
    }
   ],
   "source": [
    "# Opgesplitste per soort:\n",
    "sns.lmplot(data=penguins, hue='species', x='body_mass_g', y='flipper_length_mm')"
   ]
  }
 ],
 "metadata": {
  "interpreter": {
   "hash": "e7370f93d1d0cde622a1f8e1c04877d8463912d04d973331ad4851f04de6915a"
  },
  "kernelspec": {
   "display_name": "Python 3.10.0 64-bit",
   "language": "python",
   "name": "python3"
  },
  "language_info": {
   "codemirror_mode": {
    "name": "ipython",
    "version": 3
   },
   "file_extension": ".py",
   "mimetype": "text/x-python",
   "name": "python",
   "nbconvert_exporter": "python",
   "pygments_lexer": "ipython3",
   "version": "3.10.0"
  },
  "orig_nbformat": 4
 },
 "nbformat": 4,
 "nbformat_minor": 2
}
