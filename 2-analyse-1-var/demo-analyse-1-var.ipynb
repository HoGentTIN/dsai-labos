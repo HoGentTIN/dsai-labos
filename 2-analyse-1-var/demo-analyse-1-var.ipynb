{
 "cells": [
  {
   "cell_type": "markdown",
   "metadata": {},
   "source": [
    "# Analyse van 1 variabele"
   ]
  },
  {
   "cell_type": "code",
   "execution_count": 31,
   "metadata": {},
   "outputs": [],
   "source": [
    "# Importeren van de nodige packages\n",
    "import numpy as np                                  # \"Scientific computing\"\n",
    "import scipy.stats as stats                         # Statistical tests\n",
    "\n",
    "import pandas as pd                                 # Dataframe\n",
    "import matplotlib.pyplot as plt                     # Basis visualisatie\n",
    "from statsmodels.graphics.mosaicplot import mosaic  # Mozaïekdiagram\n",
    "import seaborn as sns                               # Geavanceerde datavisualisatie\n",
    "import altair as alt                                # Een alternatief visualisatiesysteem"
   ]
  },
  {
   "cell_type": "markdown",
   "metadata": {},
   "source": [
    "In Seaborn zitten enkele datasets die we hier zullen gebruiken als voorbeelden."
   ]
  },
  {
   "cell_type": "code",
   "execution_count": 32,
   "metadata": {},
   "outputs": [],
   "source": [
    "# Voorbeeld-datasets, meegeleverd met Seaborn\n",
    "mpg = sns.load_dataset(\"mpg\")      # Eigenschappen van auto's\n",
    "tips = sns.load_dataset(\"tips\")    # Info over fooien bij restaurantbezoek"
   ]
  },
  {
   "cell_type": "markdown",
   "metadata": {},
   "source": [
    "We tonen hier de eerste rijen van deze datasets om een idee te krijgen van de inhoud:"
   ]
  },
  {
   "cell_type": "code",
   "execution_count": 33,
   "metadata": {},
   "outputs": [
    {
     "data": {
      "text/html": [
       "<div>\n",
       "<style scoped>\n",
       "    .dataframe tbody tr th:only-of-type {\n",
       "        vertical-align: middle;\n",
       "    }\n",
       "\n",
       "    .dataframe tbody tr th {\n",
       "        vertical-align: top;\n",
       "    }\n",
       "\n",
       "    .dataframe thead th {\n",
       "        text-align: right;\n",
       "    }\n",
       "</style>\n",
       "<table border=\"1\" class=\"dataframe\">\n",
       "  <thead>\n",
       "    <tr style=\"text-align: right;\">\n",
       "      <th></th>\n",
       "      <th>mpg</th>\n",
       "      <th>cylinders</th>\n",
       "      <th>displacement</th>\n",
       "      <th>horsepower</th>\n",
       "      <th>weight</th>\n",
       "      <th>acceleration</th>\n",
       "      <th>model_year</th>\n",
       "      <th>origin</th>\n",
       "      <th>name</th>\n",
       "    </tr>\n",
       "  </thead>\n",
       "  <tbody>\n",
       "    <tr>\n",
       "      <th>0</th>\n",
       "      <td>18.0</td>\n",
       "      <td>8</td>\n",
       "      <td>307.0</td>\n",
       "      <td>130.0</td>\n",
       "      <td>3504</td>\n",
       "      <td>12.0</td>\n",
       "      <td>70</td>\n",
       "      <td>usa</td>\n",
       "      <td>chevrolet chevelle malibu</td>\n",
       "    </tr>\n",
       "    <tr>\n",
       "      <th>1</th>\n",
       "      <td>15.0</td>\n",
       "      <td>8</td>\n",
       "      <td>350.0</td>\n",
       "      <td>165.0</td>\n",
       "      <td>3693</td>\n",
       "      <td>11.5</td>\n",
       "      <td>70</td>\n",
       "      <td>usa</td>\n",
       "      <td>buick skylark 320</td>\n",
       "    </tr>\n",
       "    <tr>\n",
       "      <th>2</th>\n",
       "      <td>18.0</td>\n",
       "      <td>8</td>\n",
       "      <td>318.0</td>\n",
       "      <td>150.0</td>\n",
       "      <td>3436</td>\n",
       "      <td>11.0</td>\n",
       "      <td>70</td>\n",
       "      <td>usa</td>\n",
       "      <td>plymouth satellite</td>\n",
       "    </tr>\n",
       "    <tr>\n",
       "      <th>3</th>\n",
       "      <td>16.0</td>\n",
       "      <td>8</td>\n",
       "      <td>304.0</td>\n",
       "      <td>150.0</td>\n",
       "      <td>3433</td>\n",
       "      <td>12.0</td>\n",
       "      <td>70</td>\n",
       "      <td>usa</td>\n",
       "      <td>amc rebel sst</td>\n",
       "    </tr>\n",
       "    <tr>\n",
       "      <th>4</th>\n",
       "      <td>17.0</td>\n",
       "      <td>8</td>\n",
       "      <td>302.0</td>\n",
       "      <td>140.0</td>\n",
       "      <td>3449</td>\n",
       "      <td>10.5</td>\n",
       "      <td>70</td>\n",
       "      <td>usa</td>\n",
       "      <td>ford torino</td>\n",
       "    </tr>\n",
       "  </tbody>\n",
       "</table>\n",
       "</div>"
      ],
      "text/plain": [
       "    mpg  cylinders  displacement  horsepower  weight  acceleration  \\\n",
       "0  18.0          8         307.0       130.0    3504          12.0   \n",
       "1  15.0          8         350.0       165.0    3693          11.5   \n",
       "2  18.0          8         318.0       150.0    3436          11.0   \n",
       "3  16.0          8         304.0       150.0    3433          12.0   \n",
       "4  17.0          8         302.0       140.0    3449          10.5   \n",
       "\n",
       "   model_year origin                       name  \n",
       "0          70    usa  chevrolet chevelle malibu  \n",
       "1          70    usa          buick skylark 320  \n",
       "2          70    usa         plymouth satellite  \n",
       "3          70    usa              amc rebel sst  \n",
       "4          70    usa                ford torino  "
      ]
     },
     "execution_count": 33,
     "metadata": {},
     "output_type": "execute_result"
    }
   ],
   "source": [
    "mpg.head()"
   ]
  },
  {
   "cell_type": "code",
   "execution_count": 34,
   "metadata": {},
   "outputs": [
    {
     "data": {
      "text/html": [
       "<div>\n",
       "<style scoped>\n",
       "    .dataframe tbody tr th:only-of-type {\n",
       "        vertical-align: middle;\n",
       "    }\n",
       "\n",
       "    .dataframe tbody tr th {\n",
       "        vertical-align: top;\n",
       "    }\n",
       "\n",
       "    .dataframe thead th {\n",
       "        text-align: right;\n",
       "    }\n",
       "</style>\n",
       "<table border=\"1\" class=\"dataframe\">\n",
       "  <thead>\n",
       "    <tr style=\"text-align: right;\">\n",
       "      <th></th>\n",
       "      <th>total_bill</th>\n",
       "      <th>tip</th>\n",
       "      <th>sex</th>\n",
       "      <th>smoker</th>\n",
       "      <th>day</th>\n",
       "      <th>time</th>\n",
       "      <th>size</th>\n",
       "    </tr>\n",
       "  </thead>\n",
       "  <tbody>\n",
       "    <tr>\n",
       "      <th>0</th>\n",
       "      <td>16.99</td>\n",
       "      <td>1.01</td>\n",
       "      <td>Female</td>\n",
       "      <td>No</td>\n",
       "      <td>Sun</td>\n",
       "      <td>Dinner</td>\n",
       "      <td>2</td>\n",
       "    </tr>\n",
       "    <tr>\n",
       "      <th>1</th>\n",
       "      <td>10.34</td>\n",
       "      <td>1.66</td>\n",
       "      <td>Male</td>\n",
       "      <td>No</td>\n",
       "      <td>Sun</td>\n",
       "      <td>Dinner</td>\n",
       "      <td>3</td>\n",
       "    </tr>\n",
       "    <tr>\n",
       "      <th>2</th>\n",
       "      <td>21.01</td>\n",
       "      <td>3.50</td>\n",
       "      <td>Male</td>\n",
       "      <td>No</td>\n",
       "      <td>Sun</td>\n",
       "      <td>Dinner</td>\n",
       "      <td>3</td>\n",
       "    </tr>\n",
       "    <tr>\n",
       "      <th>3</th>\n",
       "      <td>23.68</td>\n",
       "      <td>3.31</td>\n",
       "      <td>Male</td>\n",
       "      <td>No</td>\n",
       "      <td>Sun</td>\n",
       "      <td>Dinner</td>\n",
       "      <td>2</td>\n",
       "    </tr>\n",
       "    <tr>\n",
       "      <th>4</th>\n",
       "      <td>24.59</td>\n",
       "      <td>3.61</td>\n",
       "      <td>Female</td>\n",
       "      <td>No</td>\n",
       "      <td>Sun</td>\n",
       "      <td>Dinner</td>\n",
       "      <td>4</td>\n",
       "    </tr>\n",
       "  </tbody>\n",
       "</table>\n",
       "</div>"
      ],
      "text/plain": [
       "   total_bill   tip     sex smoker  day    time  size\n",
       "0       16.99  1.01  Female     No  Sun  Dinner     2\n",
       "1       10.34  1.66    Male     No  Sun  Dinner     3\n",
       "2       21.01  3.50    Male     No  Sun  Dinner     3\n",
       "3       23.68  3.31    Male     No  Sun  Dinner     2\n",
       "4       24.59  3.61  Female     No  Sun  Dinner     4"
      ]
     },
     "execution_count": 34,
     "metadata": {},
     "output_type": "execute_result"
    }
   ],
   "source": [
    "tips.head()"
   ]
  },
  {
   "cell_type": "markdown",
   "metadata": {},
   "source": [
    "## Kwalitatieve variabelen\n",
    "\n",
    "### Visualisatie met staafgrafiek\n",
    "\n",
    "Er bestaan verschillende Python-libraries om data te visualiseren. We tonen hier hoe je een staafgrafiek kan opstellen enerzijds in Seaborn, en anderzijds in Altair."
   ]
  },
  {
   "cell_type": "code",
   "execution_count": 35,
   "metadata": {},
   "outputs": [
    {
     "data": {
      "text/plain": [
       "<seaborn.axisgrid.FacetGrid at 0x7fce4dd9fd90>"
      ]
     },
     "execution_count": 35,
     "metadata": {},
     "output_type": "execute_result"
    },
    {
     "data": {
      "image/png": "[encoded data removed]",
      "text/plain": [
       "<Figure size 360x360 with 1 Axes>"
      ]
     },
     "metadata": {
      "needs_background": "light"
     },
     "output_type": "display_data"
    }
   ],
   "source": [
    "# Staafgrafiek in Seaborn: catplot()\n",
    "sns.catplot(data = tips, kind = \"count\", y = \"day\")"
   ]
  },
  {
   "cell_type": "code",
   "execution_count": 36,
   "metadata": {},
   "outputs": [
    {
     "data": {
      "text/html": [
       "\n",
       "<div id=\"altair-viz-644569c626344ef282ec83911922cef1\"></div>\n",
       "<script type=\"text/javascript\">\n",
       "  (function(spec, embedOpt){\n",
       "    let outputDiv = document.currentScript.previousElementSibling;\n",
       "    if (outputDiv.id !== \"altair-viz-644569c626344ef282ec83911922cef1\") {\n",
       "      outputDiv = document.getElementById(\"altair-viz-644569c626344ef282ec83911922cef1\");\n",
       "    }\n",
       "    const paths = {\n",
       "      \"vega\": \"https://cdn.jsdelivr.net/npm//vega@5?noext\",\n",
       "      \"vega-lib\": \"https://cdn.jsdelivr.net/npm//vega-lib?noext\",\n",
       "      \"vega-lite\": \"https://cdn.jsdelivr.net/npm//vega-lite@4.8.1?noext\",\n",
       "      \"vega-embed\": \"https://cdn.jsdelivr.net/npm//vega-embed@6?noext\",\n",
       "    };\n",
       "\n",
       "    function loadScript(lib) {\n",
       "      return new Promise(function(resolve, reject) {\n",
       "        var s = document.createElement('script');\n",
       "        s.src = paths[lib];\n",
       "        s.async = true;\n",
       "        s.onload = () => resolve(paths[lib]);\n",
       "        s.onerror = () => reject(`Error loading script: ${paths[lib]}`);\n",
       "        document.getElementsByTagName(\"head\")[0].appendChild(s);\n",
       "      });\n",
       "    }\n",
       "\n",
       "    function showError(err) {\n",
       "      outputDiv.innerHTML = `<div class=\"error\" style=\"color:red;\">${err}</div>`;\n",
       "      throw err;\n",
       "    }\n",
       "\n",
       "    function displayChart(vegaEmbed) {\n",
       "      vegaEmbed(outputDiv, spec, embedOpt)\n",
       "        .catch(err => showError(`Javascript Error: ${err.message}<br>This usually means there's a typo in your chart specification. See the javascript console for the full traceback.`));\n",
       "    }\n",
       "\n",
       "    if(typeof define === \"function\" && define.amd) {\n",
       "      requirejs.config({paths});\n",
       "      require([\"vega-embed\"], displayChart, err => showError(`Error loading script: ${err.message}`));\n",
       "    } else if (typeof vegaEmbed === \"function\") {\n",
       "      displayChart(vegaEmbed);\n",
       "    } else {\n",
       "      loadScript(\"vega\")\n",
       "        .then(() => loadScript(\"vega-lite\"))\n",
       "        .then(() => loadScript(\"vega-embed\"))\n",
       "        .catch(showError)\n",
       "        .then(() => displayChart(vegaEmbed));\n",
       "    }\n",
       "  })({\"config\": {\"view\": {\"continuousWidth\": 400, \"continuousHeight\": 300}}, \"data\": {\"name\": \"data-362d1a3aede62850ce7cd49b1d5f5d1d\"}, \"mark\": \"bar\", \"encoding\": {\"color\": {\"type\": \"nominal\", \"field\": \"day\"}, \"x\": {\"type\": \"quantitative\", \"aggregate\": \"count\", \"axis\": {\"title\": \"Amount\"}}, \"y\": {\"type\": \"ordinal\", \"axis\": {\"title\": \"Weekday\"}, \"field\": \"day\"}}, \"$schema\": \"https://vega.github.io/schema/vega-lite/v4.8.1.json\", \"datasets\": {\"data-362d1a3aede62850ce7cd49b1d5f5d1d\": [{\"total_bill\": 16.99, \"tip\": 1.01, \"sex\": \"Female\", \"smoker\": \"No\", \"day\": \"Sun\", \"time\": \"Dinner\", \"size\": 2}, {\"total_bill\": 10.34, \"tip\": 1.66, \"sex\": \"Male\", \"smoker\": \"No\", \"day\": \"Sun\", \"time\": \"Dinner\", \"size\": 3}, {\"total_bill\": 21.01, \"tip\": 3.5, \"sex\": \"Male\", \"smoker\": \"No\", \"day\": \"Sun\", \"time\": \"Dinner\", \"size\": 3}, {\"total_bill\": 23.68, \"tip\": 3.31, \"sex\": \"Male\", \"smoker\": \"No\", \"day\": \"Sun\", \"time\": \"Dinner\", \"size\": 2}, {\"total_bill\": 24.59, \"tip\": 3.61, \"sex\": \"Female\", \"smoker\": \"No\", \"day\": \"Sun\", \"time\": \"Dinner\", \"size\": 4}, {\"total_bill\": 25.29, \"tip\": 4.71, \"sex\": \"Male\", \"smoker\": \"No\", \"day\": \"Sun\", \"time\": \"Dinner\", \"size\": 4}, {\"total_bill\": 8.77, \"tip\": 2.0, \"sex\": \"Male\", \"smoker\": \"No\", \"day\": \"Sun\", \"time\": \"Dinner\", \"size\": 2}, {\"total_bill\": 26.88, \"tip\": 3.12, \"sex\": \"Male\", \"smoker\": \"No\", \"day\": \"Sun\", \"time\": \"Dinner\", \"size\": 4}, {\"total_bill\": 15.04, \"tip\": 1.96, \"sex\": \"Male\", \"smoker\": \"No\", \"day\": \"Sun\", \"time\": \"Dinner\", \"size\": 2}, {\"total_bill\": 14.78, \"tip\": 3.23, \"sex\": \"Male\", \"smoker\": \"No\", \"day\": \"Sun\", \"time\": \"Dinner\", \"size\": 2}, {\"total_bill\": 10.27, \"tip\": 1.71, \"sex\": \"Male\", \"smoker\": \"No\", \"day\": \"Sun\", \"time\": \"Dinner\", \"size\": 2}, {\"total_bill\": 35.26, \"tip\": 5.0, \"sex\": \"Female\", \"smoker\": \"No\", \"day\": \"Sun\", \"time\": \"Dinner\", \"size\": 4}, {\"total_bill\": 15.42, \"tip\": 1.57, \"sex\": \"Male\", \"smoker\": \"No\", \"day\": \"Sun\", \"time\": \"Dinner\", \"size\": 2}, {\"total_bill\": 18.43, \"tip\": 3.0, \"sex\": \"Male\", \"smoker\": \"No\", \"day\": \"Sun\", \"time\": \"Dinner\", \"size\": 4}, {\"total_bill\": 14.83, \"tip\": 3.02, \"sex\": \"Female\", \"smoker\": \"No\", \"day\": \"Sun\", \"time\": \"Dinner\", \"size\": 2}, {\"total_bill\": 21.58, \"tip\": 3.92, \"sex\": \"Male\", \"smoker\": \"No\", \"day\": \"Sun\", \"time\": \"Dinner\", \"size\": 2}, {\"total_bill\": 10.33, \"tip\": 1.67, \"sex\": \"Female\", \"smoker\": \"No\", \"day\": \"Sun\", \"time\": \"Dinner\", \"size\": 3}, {\"total_bill\": 16.29, \"tip\": 3.71, \"sex\": \"Male\", \"smoker\": \"No\", \"day\": \"Sun\", \"time\": \"Dinner\", \"size\": 3}, {\"total_bill\": 16.97, \"tip\": 3.5, \"sex\": \"Female\", \"smoker\": \"No\", \"day\": \"Sun\", \"time\": \"Dinner\", \"size\": 3}, {\"total_bill\": 20.65, \"tip\": 3.35, \"sex\": \"Male\", \"smoker\": \"No\", \"day\": \"Sat\", \"time\": \"Dinner\", \"size\": 3}, {\"total_bill\": 17.92, \"tip\": 4.08, \"sex\": \"Male\", \"smoker\": \"No\", \"day\": \"Sat\", \"time\": \"Dinner\", \"size\": 2}, {\"total_bill\": 20.29, \"tip\": 2.75, \"sex\": \"Female\", \"smoker\": \"No\", \"day\": \"Sat\", \"time\": \"Dinner\", \"size\": 2}, {\"total_bill\": 15.77, \"tip\": 2.23, \"sex\": \"Female\", \"smoker\": \"No\", \"day\": \"Sat\", \"time\": \"Dinner\", \"size\": 2}, {\"total_bill\": 39.42, \"tip\": 7.58, \"sex\": \"Male\", \"smoker\": \"No\", \"day\": \"Sat\", \"time\": \"Dinner\", \"size\": 4}, {\"total_bill\": 19.82, \"tip\": 3.18, \"sex\": \"Male\", \"smoker\": \"No\", \"day\": \"Sat\", \"time\": \"Dinner\", \"size\": 2}, {\"total_bill\": 17.81, \"tip\": 2.34, \"sex\": \"Male\", \"smoker\": \"No\", \"day\": \"Sat\", \"time\": \"Dinner\", \"size\": 4}, {\"total_bill\": 13.37, \"tip\": 2.0, \"sex\": \"Male\", \"smoker\": \"No\", \"day\": \"Sat\", \"time\": \"Dinner\", \"size\": 2}, {\"total_bill\": 12.69, \"tip\": 2.0, \"sex\": \"Male\", \"smoker\": \"No\", \"day\": \"Sat\", \"time\": \"Dinner\", \"size\": 2}, {\"total_bill\": 21.7, \"tip\": 4.3, \"sex\": \"Male\", \"smoker\": \"No\", \"day\": \"Sat\", \"time\": \"Dinner\", \"size\": 2}, {\"total_bill\": 19.65, \"tip\": 3.0, \"sex\": \"Female\", \"smoker\": \"No\", \"day\": \"Sat\", \"time\": \"Dinner\", \"size\": 2}, {\"total_bill\": 9.55, \"tip\": 1.45, \"sex\": \"Male\", \"smoker\": \"No\", \"day\": \"Sat\", \"time\": \"Dinner\", \"size\": 2}, {\"total_bill\": 18.35, \"tip\": 2.5, \"sex\": \"Male\", \"smoker\": \"No\", \"day\": \"Sat\", \"time\": \"Dinner\", \"size\": 4}, {\"total_bill\": 15.06, \"tip\": 3.0, \"sex\": \"Female\", \"smoker\": \"No\", \"day\": \"Sat\", \"time\": \"Dinner\", \"size\": 2}, {\"total_bill\": 20.69, \"tip\": 2.45, \"sex\": \"Female\", \"smoker\": \"No\", \"day\": \"Sat\", \"time\": \"Dinner\", \"size\": 4}, {\"total_bill\": 17.78, \"tip\": 3.27, \"sex\": \"Male\", \"smoker\": \"No\", \"day\": \"Sat\", \"time\": \"Dinner\", \"size\": 2}, {\"total_bill\": 24.06, \"tip\": 3.6, \"sex\": \"Male\", \"smoker\": \"No\", \"day\": \"Sat\", \"time\": \"Dinner\", \"size\": 3}, {\"total_bill\": 16.31, \"tip\": 2.0, \"sex\": \"Male\", \"smoker\": \"No\", \"day\": \"Sat\", \"time\": \"Dinner\", \"size\": 3}, {\"total_bill\": 16.93, \"tip\": 3.07, \"sex\": \"Female\", \"smoker\": \"No\", \"day\": \"Sat\", \"time\": \"Dinner\", \"size\": 3}, {\"total_bill\": 18.69, \"tip\": 2.31, \"sex\": \"Male\", \"smoker\": \"No\", \"day\": \"Sat\", \"time\": \"Dinner\", \"size\": 3}, {\"total_bill\": 31.27, \"tip\": 5.0, \"sex\": \"Male\", \"smoker\": \"No\", \"day\": \"Sat\", \"time\": \"Dinner\", \"size\": 3}, {\"total_bill\": 16.04, \"tip\": 2.24, \"sex\": \"Male\", \"smoker\": \"No\", \"day\": \"Sat\", \"time\": \"Dinner\", \"size\": 3}, {\"total_bill\": 17.46, \"tip\": 2.54, \"sex\": \"Male\", \"smoker\": \"No\", \"day\": \"Sun\", \"time\": \"Dinner\", \"size\": 2}, {\"total_bill\": 13.94, \"tip\": 3.06, \"sex\": \"Male\", \"smoker\": \"No\", \"day\": \"Sun\", \"time\": \"Dinner\", \"size\": 2}, {\"total_bill\": 9.68, \"tip\": 1.32, \"sex\": \"Male\", \"smoker\": \"No\", \"day\": \"Sun\", \"time\": \"Dinner\", \"size\": 2}, {\"total_bill\": 30.4, \"tip\": 5.6, \"sex\": \"Male\", \"smoker\": \"No\", \"day\": \"Sun\", \"time\": \"Dinner\", \"size\": 4}, {\"total_bill\": 18.29, \"tip\": 3.0, \"sex\": \"Male\", \"smoker\": \"No\", \"day\": \"Sun\", \"time\": \"Dinner\", \"size\": 2}, {\"total_bill\": 22.23, \"tip\": 5.0, \"sex\": \"Male\", \"smoker\": \"No\", \"day\": \"Sun\", \"time\": \"Dinner\", \"size\": 2}, {\"total_bill\": 32.4, \"tip\": 6.0, \"sex\": \"Male\", \"smoker\": \"No\", \"day\": \"Sun\", \"time\": \"Dinner\", \"size\": 4}, {\"total_bill\": 28.55, \"tip\": 2.05, \"sex\": \"Male\", \"smoker\": \"No\", \"day\": \"Sun\", \"time\": \"Dinner\", \"size\": 3}, {\"total_bill\": 18.04, \"tip\": 3.0, \"sex\": \"Male\", \"smoker\": \"No\", \"day\": \"Sun\", \"time\": \"Dinner\", \"size\": 2}, {\"total_bill\": 12.54, \"tip\": 2.5, \"sex\": \"Male\", \"smoker\": \"No\", \"day\": \"Sun\", \"time\": \"Dinner\", \"size\": 2}, {\"total_bill\": 10.29, \"tip\": 2.6, \"sex\": \"Female\", \"smoker\": \"No\", \"day\": \"Sun\", \"time\": \"Dinner\", \"size\": 2}, {\"total_bill\": 34.81, \"tip\": 5.2, \"sex\": \"Female\", \"smoker\": \"No\", \"day\": \"Sun\", \"time\": \"Dinner\", \"size\": 4}, {\"total_bill\": 9.94, \"tip\": 1.56, \"sex\": \"Male\", \"smoker\": \"No\", \"day\": \"Sun\", \"time\": \"Dinner\", \"size\": 2}, {\"total_bill\": 25.56, \"tip\": 4.34, \"sex\": \"Male\", \"smoker\": \"No\", \"day\": \"Sun\", \"time\": \"Dinner\", \"size\": 4}, {\"total_bill\": 19.49, \"tip\": 3.51, \"sex\": \"Male\", \"smoker\": \"No\", \"day\": \"Sun\", \"time\": \"Dinner\", \"size\": 2}, {\"total_bill\": 38.01, \"tip\": 3.0, \"sex\": \"Male\", \"smoker\": \"Yes\", \"day\": \"Sat\", \"time\": \"Dinner\", \"size\": 4}, {\"total_bill\": 26.41, \"tip\": 1.5, \"sex\": \"Female\", \"smoker\": \"No\", \"day\": \"Sat\", \"time\": \"Dinner\", \"size\": 2}, {\"total_bill\": 11.24, \"tip\": 1.76, \"sex\": \"Male\", \"smoker\": \"Yes\", \"day\": \"Sat\", \"time\": \"Dinner\", \"size\": 2}, {\"total_bill\": 48.27, \"tip\": 6.73, \"sex\": \"Male\", \"smoker\": \"No\", \"day\": \"Sat\", \"time\": \"Dinner\", \"size\": 4}, {\"total_bill\": 20.29, \"tip\": 3.21, \"sex\": \"Male\", \"smoker\": \"Yes\", \"day\": \"Sat\", \"time\": \"Dinner\", \"size\": 2}, {\"total_bill\": 13.81, \"tip\": 2.0, \"sex\": \"Male\", \"smoker\": \"Yes\", \"day\": \"Sat\", \"time\": \"Dinner\", \"size\": 2}, {\"total_bill\": 11.02, \"tip\": 1.98, \"sex\": \"Male\", \"smoker\": \"Yes\", \"day\": \"Sat\", \"time\": \"Dinner\", \"size\": 2}, {\"total_bill\": 18.29, \"tip\": 3.76, \"sex\": \"Male\", \"smoker\": \"Yes\", \"day\": \"Sat\", \"time\": \"Dinner\", \"size\": 4}, {\"total_bill\": 17.59, \"tip\": 2.64, \"sex\": \"Male\", \"smoker\": \"No\", \"day\": \"Sat\", \"time\": \"Dinner\", \"size\": 3}, {\"total_bill\": 20.08, \"tip\": 3.15, \"sex\": \"Male\", \"smoker\": \"No\", \"day\": \"Sat\", \"time\": \"Dinner\", \"size\": 3}, {\"total_bill\": 16.45, \"tip\": 2.47, \"sex\": \"Female\", \"smoker\": \"No\", \"day\": \"Sat\", \"time\": \"Dinner\", \"size\": 2}, {\"total_bill\": 3.07, \"tip\": 1.0, \"sex\": \"Female\", \"smoker\": \"Yes\", \"day\": \"Sat\", \"time\": \"Dinner\", \"size\": 1}, {\"total_bill\": 20.23, \"tip\": 2.01, \"sex\": \"Male\", \"smoker\": \"No\", \"day\": \"Sat\", \"time\": \"Dinner\", \"size\": 2}, {\"total_bill\": 15.01, \"tip\": 2.09, \"sex\": \"Male\", \"smoker\": \"Yes\", \"day\": \"Sat\", \"time\": \"Dinner\", \"size\": 2}, {\"total_bill\": 12.02, \"tip\": 1.97, \"sex\": \"Male\", \"smoker\": \"No\", \"day\": \"Sat\", \"time\": \"Dinner\", \"size\": 2}, {\"total_bill\": 17.07, \"tip\": 3.0, \"sex\": \"Female\", \"smoker\": \"No\", \"day\": \"Sat\", \"time\": \"Dinner\", \"size\": 3}, {\"total_bill\": 26.86, \"tip\": 3.14, \"sex\": \"Female\", \"smoker\": \"Yes\", \"day\": \"Sat\", \"time\": \"Dinner\", \"size\": 2}, {\"total_bill\": 25.28, \"tip\": 5.0, \"sex\": \"Female\", \"smoker\": \"Yes\", \"day\": \"Sat\", \"time\": \"Dinner\", \"size\": 2}, {\"total_bill\": 14.73, \"tip\": 2.2, \"sex\": \"Female\", \"smoker\": \"No\", \"day\": \"Sat\", \"time\": \"Dinner\", \"size\": 2}, {\"total_bill\": 10.51, \"tip\": 1.25, \"sex\": \"Male\", \"smoker\": \"No\", \"day\": \"Sat\", \"time\": \"Dinner\", \"size\": 2}, {\"total_bill\": 17.92, \"tip\": 3.08, \"sex\": \"Male\", \"smoker\": \"Yes\", \"day\": \"Sat\", \"time\": \"Dinner\", \"size\": 2}, {\"total_bill\": 27.2, \"tip\": 4.0, \"sex\": \"Male\", \"smoker\": \"No\", \"day\": \"Thur\", \"time\": \"Lunch\", \"size\": 4}, {\"total_bill\": 22.76, \"tip\": 3.0, \"sex\": \"Male\", \"smoker\": \"No\", \"day\": \"Thur\", \"time\": \"Lunch\", \"size\": 2}, {\"total_bill\": 17.29, \"tip\": 2.71, \"sex\": \"Male\", \"smoker\": \"No\", \"day\": \"Thur\", \"time\": \"Lunch\", \"size\": 2}, {\"total_bill\": 19.44, \"tip\": 3.0, \"sex\": \"Male\", \"smoker\": \"Yes\", \"day\": \"Thur\", \"time\": \"Lunch\", \"size\": 2}, {\"total_bill\": 16.66, \"tip\": 3.4, \"sex\": \"Male\", \"smoker\": \"No\", \"day\": \"Thur\", \"time\": \"Lunch\", \"size\": 2}, {\"total_bill\": 10.07, \"tip\": 1.83, \"sex\": \"Female\", \"smoker\": \"No\", \"day\": \"Thur\", \"time\": \"Lunch\", \"size\": 1}, {\"total_bill\": 32.68, \"tip\": 5.0, \"sex\": \"Male\", \"smoker\": \"Yes\", \"day\": \"Thur\", \"time\": \"Lunch\", \"size\": 2}, {\"total_bill\": 15.98, \"tip\": 2.03, \"sex\": \"Male\", \"smoker\": \"No\", \"day\": \"Thur\", \"time\": \"Lunch\", \"size\": 2}, {\"total_bill\": 34.83, \"tip\": 5.17, \"sex\": \"Female\", \"smoker\": \"No\", \"day\": \"Thur\", \"time\": \"Lunch\", \"size\": 4}, {\"total_bill\": 13.03, \"tip\": 2.0, \"sex\": \"Male\", \"smoker\": \"No\", \"day\": \"Thur\", \"time\": \"Lunch\", \"size\": 2}, {\"total_bill\": 18.28, \"tip\": 4.0, \"sex\": \"Male\", \"smoker\": \"No\", \"day\": \"Thur\", \"time\": \"Lunch\", \"size\": 2}, {\"total_bill\": 24.71, \"tip\": 5.85, \"sex\": \"Male\", \"smoker\": \"No\", \"day\": \"Thur\", \"time\": \"Lunch\", \"size\": 2}, {\"total_bill\": 21.16, \"tip\": 3.0, \"sex\": \"Male\", \"smoker\": \"No\", \"day\": \"Thur\", \"time\": \"Lunch\", \"size\": 2}, {\"total_bill\": 28.97, \"tip\": 3.0, \"sex\": \"Male\", \"smoker\": \"Yes\", \"day\": \"Fri\", \"time\": \"Dinner\", \"size\": 2}, {\"total_bill\": 22.49, \"tip\": 3.5, \"sex\": \"Male\", \"smoker\": \"No\", \"day\": \"Fri\", \"time\": \"Dinner\", \"size\": 2}, {\"total_bill\": 5.75, \"tip\": 1.0, \"sex\": \"Female\", \"smoker\": \"Yes\", \"day\": \"Fri\", \"time\": \"Dinner\", \"size\": 2}, {\"total_bill\": 16.32, \"tip\": 4.3, \"sex\": \"Female\", \"smoker\": \"Yes\", \"day\": \"Fri\", \"time\": \"Dinner\", \"size\": 2}, {\"total_bill\": 22.75, \"tip\": 3.25, \"sex\": \"Female\", \"smoker\": \"No\", \"day\": \"Fri\", \"time\": \"Dinner\", \"size\": 2}, {\"total_bill\": 40.17, \"tip\": 4.73, \"sex\": \"Male\", \"smoker\": \"Yes\", \"day\": \"Fri\", \"time\": \"Dinner\", \"size\": 4}, {\"total_bill\": 27.28, \"tip\": 4.0, \"sex\": \"Male\", \"smoker\": \"Yes\", \"day\": \"Fri\", \"time\": \"Dinner\", \"size\": 2}, {\"total_bill\": 12.03, \"tip\": 1.5, \"sex\": \"Male\", \"smoker\": \"Yes\", \"day\": \"Fri\", \"time\": \"Dinner\", \"size\": 2}, {\"total_bill\": 21.01, \"tip\": 3.0, \"sex\": \"Male\", \"smoker\": \"Yes\", \"day\": \"Fri\", \"time\": \"Dinner\", \"size\": 2}, {\"total_bill\": 12.46, \"tip\": 1.5, \"sex\": \"Male\", \"smoker\": \"No\", \"day\": \"Fri\", \"time\": \"Dinner\", \"size\": 2}, {\"total_bill\": 11.35, \"tip\": 2.5, \"sex\": \"Female\", \"smoker\": \"Yes\", \"day\": \"Fri\", \"time\": \"Dinner\", \"size\": 2}, {\"total_bill\": 15.38, \"tip\": 3.0, \"sex\": \"Female\", \"smoker\": \"Yes\", \"day\": \"Fri\", \"time\": \"Dinner\", \"size\": 2}, {\"total_bill\": 44.3, \"tip\": 2.5, \"sex\": \"Female\", \"smoker\": \"Yes\", \"day\": \"Sat\", \"time\": \"Dinner\", \"size\": 3}, {\"total_bill\": 22.42, \"tip\": 3.48, \"sex\": \"Female\", \"smoker\": \"Yes\", \"day\": \"Sat\", \"time\": \"Dinner\", \"size\": 2}, {\"total_bill\": 20.92, \"tip\": 4.08, \"sex\": \"Female\", \"smoker\": \"No\", \"day\": \"Sat\", \"time\": \"Dinner\", \"size\": 2}, {\"total_bill\": 15.36, \"tip\": 1.64, \"sex\": \"Male\", \"smoker\": \"Yes\", \"day\": \"Sat\", \"time\": \"Dinner\", \"size\": 2}, {\"total_bill\": 20.49, \"tip\": 4.06, \"sex\": \"Male\", \"smoker\": \"Yes\", \"day\": \"Sat\", \"time\": \"Dinner\", \"size\": 2}, {\"total_bill\": 25.21, \"tip\": 4.29, \"sex\": \"Male\", \"smoker\": \"Yes\", \"day\": \"Sat\", \"time\": \"Dinner\", \"size\": 2}, {\"total_bill\": 18.24, \"tip\": 3.76, \"sex\": \"Male\", \"smoker\": \"No\", \"day\": \"Sat\", \"time\": \"Dinner\", \"size\": 2}, {\"total_bill\": 14.31, \"tip\": 4.0, \"sex\": \"Female\", \"smoker\": \"Yes\", \"day\": \"Sat\", \"time\": \"Dinner\", \"size\": 2}, {\"total_bill\": 14.0, \"tip\": 3.0, \"sex\": \"Male\", \"smoker\": \"No\", \"day\": \"Sat\", \"time\": \"Dinner\", \"size\": 2}, {\"total_bill\": 7.25, \"tip\": 1.0, \"sex\": \"Female\", \"smoker\": \"No\", \"day\": \"Sat\", \"time\": \"Dinner\", \"size\": 1}, {\"total_bill\": 38.07, \"tip\": 4.0, \"sex\": \"Male\", \"smoker\": \"No\", \"day\": \"Sun\", \"time\": \"Dinner\", \"size\": 3}, {\"total_bill\": 23.95, \"tip\": 2.55, \"sex\": \"Male\", \"smoker\": \"No\", \"day\": \"Sun\", \"time\": \"Dinner\", \"size\": 2}, {\"total_bill\": 25.71, \"tip\": 4.0, \"sex\": \"Female\", \"smoker\": \"No\", \"day\": \"Sun\", \"time\": \"Dinner\", \"size\": 3}, {\"total_bill\": 17.31, \"tip\": 3.5, \"sex\": \"Female\", \"smoker\": \"No\", \"day\": \"Sun\", \"time\": \"Dinner\", \"size\": 2}, {\"total_bill\": 29.93, \"tip\": 5.07, \"sex\": \"Male\", \"smoker\": \"No\", \"day\": \"Sun\", \"time\": \"Dinner\", \"size\": 4}, {\"total_bill\": 10.65, \"tip\": 1.5, \"sex\": \"Female\", \"smoker\": \"No\", \"day\": \"Thur\", \"time\": \"Lunch\", \"size\": 2}, {\"total_bill\": 12.43, \"tip\": 1.8, \"sex\": \"Female\", \"smoker\": \"No\", \"day\": \"Thur\", \"time\": \"Lunch\", \"size\": 2}, {\"total_bill\": 24.08, \"tip\": 2.92, \"sex\": \"Female\", \"smoker\": \"No\", \"day\": \"Thur\", \"time\": \"Lunch\", \"size\": 4}, {\"total_bill\": 11.69, \"tip\": 2.31, \"sex\": \"Male\", \"smoker\": \"No\", \"day\": \"Thur\", \"time\": \"Lunch\", \"size\": 2}, {\"total_bill\": 13.42, \"tip\": 1.68, \"sex\": \"Female\", \"smoker\": \"No\", \"day\": \"Thur\", \"time\": \"Lunch\", \"size\": 2}, {\"total_bill\": 14.26, \"tip\": 2.5, \"sex\": \"Male\", \"smoker\": \"No\", \"day\": \"Thur\", \"time\": \"Lunch\", \"size\": 2}, {\"total_bill\": 15.95, \"tip\": 2.0, \"sex\": \"Male\", \"smoker\": \"No\", \"day\": \"Thur\", \"time\": \"Lunch\", \"size\": 2}, {\"total_bill\": 12.48, \"tip\": 2.52, \"sex\": \"Female\", \"smoker\": \"No\", \"day\": \"Thur\", \"time\": \"Lunch\", \"size\": 2}, {\"total_bill\": 29.8, \"tip\": 4.2, \"sex\": \"Female\", \"smoker\": \"No\", \"day\": \"Thur\", \"time\": \"Lunch\", \"size\": 6}, {\"total_bill\": 8.52, \"tip\": 1.48, \"sex\": \"Male\", \"smoker\": \"No\", \"day\": \"Thur\", \"time\": \"Lunch\", \"size\": 2}, {\"total_bill\": 14.52, \"tip\": 2.0, \"sex\": \"Female\", \"smoker\": \"No\", \"day\": \"Thur\", \"time\": \"Lunch\", \"size\": 2}, {\"total_bill\": 11.38, \"tip\": 2.0, \"sex\": \"Female\", \"smoker\": \"No\", \"day\": \"Thur\", \"time\": \"Lunch\", \"size\": 2}, {\"total_bill\": 22.82, \"tip\": 2.18, \"sex\": \"Male\", \"smoker\": \"No\", \"day\": \"Thur\", \"time\": \"Lunch\", \"size\": 3}, {\"total_bill\": 19.08, \"tip\": 1.5, \"sex\": \"Male\", \"smoker\": \"No\", \"day\": \"Thur\", \"time\": \"Lunch\", \"size\": 2}, {\"total_bill\": 20.27, \"tip\": 2.83, \"sex\": \"Female\", \"smoker\": \"No\", \"day\": \"Thur\", \"time\": \"Lunch\", \"size\": 2}, {\"total_bill\": 11.17, \"tip\": 1.5, \"sex\": \"Female\", \"smoker\": \"No\", \"day\": \"Thur\", \"time\": \"Lunch\", \"size\": 2}, {\"total_bill\": 12.26, \"tip\": 2.0, \"sex\": \"Female\", \"smoker\": \"No\", \"day\": \"Thur\", \"time\": \"Lunch\", \"size\": 2}, {\"total_bill\": 18.26, \"tip\": 3.25, \"sex\": \"Female\", \"smoker\": \"No\", \"day\": \"Thur\", \"time\": \"Lunch\", \"size\": 2}, {\"total_bill\": 8.51, \"tip\": 1.25, \"sex\": \"Female\", \"smoker\": \"No\", \"day\": \"Thur\", \"time\": \"Lunch\", \"size\": 2}, {\"total_bill\": 10.33, \"tip\": 2.0, \"sex\": \"Female\", \"smoker\": \"No\", \"day\": \"Thur\", \"time\": \"Lunch\", \"size\": 2}, {\"total_bill\": 14.15, \"tip\": 2.0, \"sex\": \"Female\", \"smoker\": \"No\", \"day\": \"Thur\", \"time\": \"Lunch\", \"size\": 2}, {\"total_bill\": 16.0, \"tip\": 2.0, \"sex\": \"Male\", \"smoker\": \"Yes\", \"day\": \"Thur\", \"time\": \"Lunch\", \"size\": 2}, {\"total_bill\": 13.16, \"tip\": 2.75, \"sex\": \"Female\", \"smoker\": \"No\", \"day\": \"Thur\", \"time\": \"Lunch\", \"size\": 2}, {\"total_bill\": 17.47, \"tip\": 3.5, \"sex\": \"Female\", \"smoker\": \"No\", \"day\": \"Thur\", \"time\": \"Lunch\", \"size\": 2}, {\"total_bill\": 34.3, \"tip\": 6.7, \"sex\": \"Male\", \"smoker\": \"No\", \"day\": \"Thur\", \"time\": \"Lunch\", \"size\": 6}, {\"total_bill\": 41.19, \"tip\": 5.0, \"sex\": \"Male\", \"smoker\": \"No\", \"day\": \"Thur\", \"time\": \"Lunch\", \"size\": 5}, {\"total_bill\": 27.05, \"tip\": 5.0, \"sex\": \"Female\", \"smoker\": \"No\", \"day\": \"Thur\", \"time\": \"Lunch\", \"size\": 6}, {\"total_bill\": 16.43, \"tip\": 2.3, \"sex\": \"Female\", \"smoker\": \"No\", \"day\": \"Thur\", \"time\": \"Lunch\", \"size\": 2}, {\"total_bill\": 8.35, \"tip\": 1.5, \"sex\": \"Female\", \"smoker\": \"No\", \"day\": \"Thur\", \"time\": \"Lunch\", \"size\": 2}, {\"total_bill\": 18.64, \"tip\": 1.36, \"sex\": \"Female\", \"smoker\": \"No\", \"day\": \"Thur\", \"time\": \"Lunch\", \"size\": 3}, {\"total_bill\": 11.87, \"tip\": 1.63, \"sex\": \"Female\", \"smoker\": \"No\", \"day\": \"Thur\", \"time\": \"Lunch\", \"size\": 2}, {\"total_bill\": 9.78, \"tip\": 1.73, \"sex\": \"Male\", \"smoker\": \"No\", \"day\": \"Thur\", \"time\": \"Lunch\", \"size\": 2}, {\"total_bill\": 7.51, \"tip\": 2.0, \"sex\": \"Male\", \"smoker\": \"No\", \"day\": \"Thur\", \"time\": \"Lunch\", \"size\": 2}, {\"total_bill\": 14.07, \"tip\": 2.5, \"sex\": \"Male\", \"smoker\": \"No\", \"day\": \"Sun\", \"time\": \"Dinner\", \"size\": 2}, {\"total_bill\": 13.13, \"tip\": 2.0, \"sex\": \"Male\", \"smoker\": \"No\", \"day\": \"Sun\", \"time\": \"Dinner\", \"size\": 2}, {\"total_bill\": 17.26, \"tip\": 2.74, \"sex\": \"Male\", \"smoker\": \"No\", \"day\": \"Sun\", \"time\": \"Dinner\", \"size\": 3}, {\"total_bill\": 24.55, \"tip\": 2.0, \"sex\": \"Male\", \"smoker\": \"No\", \"day\": \"Sun\", \"time\": \"Dinner\", \"size\": 4}, {\"total_bill\": 19.77, \"tip\": 2.0, \"sex\": \"Male\", \"smoker\": \"No\", \"day\": \"Sun\", \"time\": \"Dinner\", \"size\": 4}, {\"total_bill\": 29.85, \"tip\": 5.14, \"sex\": \"Female\", \"smoker\": \"No\", \"day\": \"Sun\", \"time\": \"Dinner\", \"size\": 5}, {\"total_bill\": 48.17, \"tip\": 5.0, \"sex\": \"Male\", \"smoker\": \"No\", \"day\": \"Sun\", \"time\": \"Dinner\", \"size\": 6}, {\"total_bill\": 25.0, \"tip\": 3.75, \"sex\": \"Female\", \"smoker\": \"No\", \"day\": \"Sun\", \"time\": \"Dinner\", \"size\": 4}, {\"total_bill\": 13.39, \"tip\": 2.61, \"sex\": \"Female\", \"smoker\": \"No\", \"day\": \"Sun\", \"time\": \"Dinner\", \"size\": 2}, {\"total_bill\": 16.49, \"tip\": 2.0, \"sex\": \"Male\", \"smoker\": \"No\", \"day\": \"Sun\", \"time\": \"Dinner\", \"size\": 4}, {\"total_bill\": 21.5, \"tip\": 3.5, \"sex\": \"Male\", \"smoker\": \"No\", \"day\": \"Sun\", \"time\": \"Dinner\", \"size\": 4}, {\"total_bill\": 12.66, \"tip\": 2.5, \"sex\": \"Male\", \"smoker\": \"No\", \"day\": \"Sun\", \"time\": \"Dinner\", \"size\": 2}, {\"total_bill\": 16.21, \"tip\": 2.0, \"sex\": \"Female\", \"smoker\": \"No\", \"day\": \"Sun\", \"time\": \"Dinner\", \"size\": 3}, {\"total_bill\": 13.81, \"tip\": 2.0, \"sex\": \"Male\", \"smoker\": \"No\", \"day\": \"Sun\", \"time\": \"Dinner\", \"size\": 2}, {\"total_bill\": 17.51, \"tip\": 3.0, \"sex\": \"Female\", \"smoker\": \"Yes\", \"day\": \"Sun\", \"time\": \"Dinner\", \"size\": 2}, {\"total_bill\": 24.52, \"tip\": 3.48, \"sex\": \"Male\", \"smoker\": \"No\", \"day\": \"Sun\", \"time\": \"Dinner\", \"size\": 3}, {\"total_bill\": 20.76, \"tip\": 2.24, \"sex\": \"Male\", \"smoker\": \"No\", \"day\": \"Sun\", \"time\": \"Dinner\", \"size\": 2}, {\"total_bill\": 31.71, \"tip\": 4.5, \"sex\": \"Male\", \"smoker\": \"No\", \"day\": \"Sun\", \"time\": \"Dinner\", \"size\": 4}, {\"total_bill\": 10.59, \"tip\": 1.61, \"sex\": \"Female\", \"smoker\": \"Yes\", \"day\": \"Sat\", \"time\": \"Dinner\", \"size\": 2}, {\"total_bill\": 10.63, \"tip\": 2.0, \"sex\": \"Female\", \"smoker\": \"Yes\", \"day\": \"Sat\", \"time\": \"Dinner\", \"size\": 2}, {\"total_bill\": 50.81, \"tip\": 10.0, \"sex\": \"Male\", \"smoker\": \"Yes\", \"day\": \"Sat\", \"time\": \"Dinner\", \"size\": 3}, {\"total_bill\": 15.81, \"tip\": 3.16, \"sex\": \"Male\", \"smoker\": \"Yes\", \"day\": \"Sat\", \"time\": \"Dinner\", \"size\": 2}, {\"total_bill\": 7.25, \"tip\": 5.15, \"sex\": \"Male\", \"smoker\": \"Yes\", \"day\": \"Sun\", \"time\": \"Dinner\", \"size\": 2}, {\"total_bill\": 31.85, \"tip\": 3.18, \"sex\": \"Male\", \"smoker\": \"Yes\", \"day\": \"Sun\", \"time\": \"Dinner\", \"size\": 2}, {\"total_bill\": 16.82, \"tip\": 4.0, \"sex\": \"Male\", \"smoker\": \"Yes\", \"day\": \"Sun\", \"time\": \"Dinner\", \"size\": 2}, {\"total_bill\": 32.9, \"tip\": 3.11, \"sex\": \"Male\", \"smoker\": \"Yes\", \"day\": \"Sun\", \"time\": \"Dinner\", \"size\": 2}, {\"total_bill\": 17.89, \"tip\": 2.0, \"sex\": \"Male\", \"smoker\": \"Yes\", \"day\": \"Sun\", \"time\": \"Dinner\", \"size\": 2}, {\"total_bill\": 14.48, \"tip\": 2.0, \"sex\": \"Male\", \"smoker\": \"Yes\", \"day\": \"Sun\", \"time\": \"Dinner\", \"size\": 2}, {\"total_bill\": 9.6, \"tip\": 4.0, \"sex\": \"Female\", \"smoker\": \"Yes\", \"day\": \"Sun\", \"time\": \"Dinner\", \"size\": 2}, {\"total_bill\": 34.63, \"tip\": 3.55, \"sex\": \"Male\", \"smoker\": \"Yes\", \"day\": \"Sun\", \"time\": \"Dinner\", \"size\": 2}, {\"total_bill\": 34.65, \"tip\": 3.68, \"sex\": \"Male\", \"smoker\": \"Yes\", \"day\": \"Sun\", \"time\": \"Dinner\", \"size\": 4}, {\"total_bill\": 23.33, \"tip\": 5.65, \"sex\": \"Male\", \"smoker\": \"Yes\", \"day\": \"Sun\", \"time\": \"Dinner\", \"size\": 2}, {\"total_bill\": 45.35, \"tip\": 3.5, \"sex\": \"Male\", \"smoker\": \"Yes\", \"day\": \"Sun\", \"time\": \"Dinner\", \"size\": 3}, {\"total_bill\": 23.17, \"tip\": 6.5, \"sex\": \"Male\", \"smoker\": \"Yes\", \"day\": \"Sun\", \"time\": \"Dinner\", \"size\": 4}, {\"total_bill\": 40.55, \"tip\": 3.0, \"sex\": \"Male\", \"smoker\": \"Yes\", \"day\": \"Sun\", \"time\": \"Dinner\", \"size\": 2}, {\"total_bill\": 20.69, \"tip\": 5.0, \"sex\": \"Male\", \"smoker\": \"No\", \"day\": \"Sun\", \"time\": \"Dinner\", \"size\": 5}, {\"total_bill\": 20.9, \"tip\": 3.5, \"sex\": \"Female\", \"smoker\": \"Yes\", \"day\": \"Sun\", \"time\": \"Dinner\", \"size\": 3}, {\"total_bill\": 30.46, \"tip\": 2.0, \"sex\": \"Male\", \"smoker\": \"Yes\", \"day\": \"Sun\", \"time\": \"Dinner\", \"size\": 5}, {\"total_bill\": 18.15, \"tip\": 3.5, \"sex\": \"Female\", \"smoker\": \"Yes\", \"day\": \"Sun\", \"time\": \"Dinner\", \"size\": 3}, {\"total_bill\": 23.1, \"tip\": 4.0, \"sex\": \"Male\", \"smoker\": \"Yes\", \"day\": \"Sun\", \"time\": \"Dinner\", \"size\": 3}, {\"total_bill\": 15.69, \"tip\": 1.5, \"sex\": \"Male\", \"smoker\": \"Yes\", \"day\": \"Sun\", \"time\": \"Dinner\", \"size\": 2}, {\"total_bill\": 19.81, \"tip\": 4.19, \"sex\": \"Female\", \"smoker\": \"Yes\", \"day\": \"Thur\", \"time\": \"Lunch\", \"size\": 2}, {\"total_bill\": 28.44, \"tip\": 2.56, \"sex\": \"Male\", \"smoker\": \"Yes\", \"day\": \"Thur\", \"time\": \"Lunch\", \"size\": 2}, {\"total_bill\": 15.48, \"tip\": 2.02, \"sex\": \"Male\", \"smoker\": \"Yes\", \"day\": \"Thur\", \"time\": \"Lunch\", \"size\": 2}, {\"total_bill\": 16.58, \"tip\": 4.0, \"sex\": \"Male\", \"smoker\": \"Yes\", \"day\": \"Thur\", \"time\": \"Lunch\", \"size\": 2}, {\"total_bill\": 7.56, \"tip\": 1.44, \"sex\": \"Male\", \"smoker\": \"No\", \"day\": \"Thur\", \"time\": \"Lunch\", \"size\": 2}, {\"total_bill\": 10.34, \"tip\": 2.0, \"sex\": \"Male\", \"smoker\": \"Yes\", \"day\": \"Thur\", \"time\": \"Lunch\", \"size\": 2}, {\"total_bill\": 43.11, \"tip\": 5.0, \"sex\": \"Female\", \"smoker\": \"Yes\", \"day\": \"Thur\", \"time\": \"Lunch\", \"size\": 4}, {\"total_bill\": 13.0, \"tip\": 2.0, \"sex\": \"Female\", \"smoker\": \"Yes\", \"day\": \"Thur\", \"time\": \"Lunch\", \"size\": 2}, {\"total_bill\": 13.51, \"tip\": 2.0, \"sex\": \"Male\", \"smoker\": \"Yes\", \"day\": \"Thur\", \"time\": \"Lunch\", \"size\": 2}, {\"total_bill\": 18.71, \"tip\": 4.0, \"sex\": \"Male\", \"smoker\": \"Yes\", \"day\": \"Thur\", \"time\": \"Lunch\", \"size\": 3}, {\"total_bill\": 12.74, \"tip\": 2.01, \"sex\": \"Female\", \"smoker\": \"Yes\", \"day\": \"Thur\", \"time\": \"Lunch\", \"size\": 2}, {\"total_bill\": 13.0, \"tip\": 2.0, \"sex\": \"Female\", \"smoker\": \"Yes\", \"day\": \"Thur\", \"time\": \"Lunch\", \"size\": 2}, {\"total_bill\": 16.4, \"tip\": 2.5, \"sex\": \"Female\", \"smoker\": \"Yes\", \"day\": \"Thur\", \"time\": \"Lunch\", \"size\": 2}, {\"total_bill\": 20.53, \"tip\": 4.0, \"sex\": \"Male\", \"smoker\": \"Yes\", \"day\": \"Thur\", \"time\": \"Lunch\", \"size\": 4}, {\"total_bill\": 16.47, \"tip\": 3.23, \"sex\": \"Female\", \"smoker\": \"Yes\", \"day\": \"Thur\", \"time\": \"Lunch\", \"size\": 3}, {\"total_bill\": 26.59, \"tip\": 3.41, \"sex\": \"Male\", \"smoker\": \"Yes\", \"day\": \"Sat\", \"time\": \"Dinner\", \"size\": 3}, {\"total_bill\": 38.73, \"tip\": 3.0, \"sex\": \"Male\", \"smoker\": \"Yes\", \"day\": \"Sat\", \"time\": \"Dinner\", \"size\": 4}, {\"total_bill\": 24.27, \"tip\": 2.03, \"sex\": \"Male\", \"smoker\": \"Yes\", \"day\": \"Sat\", \"time\": \"Dinner\", \"size\": 2}, {\"total_bill\": 12.76, \"tip\": 2.23, \"sex\": \"Female\", \"smoker\": \"Yes\", \"day\": \"Sat\", \"time\": \"Dinner\", \"size\": 2}, {\"total_bill\": 30.06, \"tip\": 2.0, \"sex\": \"Male\", \"smoker\": \"Yes\", \"day\": \"Sat\", \"time\": \"Dinner\", \"size\": 3}, {\"total_bill\": 25.89, \"tip\": 5.16, \"sex\": \"Male\", \"smoker\": \"Yes\", \"day\": \"Sat\", \"time\": \"Dinner\", \"size\": 4}, {\"total_bill\": 48.33, \"tip\": 9.0, \"sex\": \"Male\", \"smoker\": \"No\", \"day\": \"Sat\", \"time\": \"Dinner\", \"size\": 4}, {\"total_bill\": 13.27, \"tip\": 2.5, \"sex\": \"Female\", \"smoker\": \"Yes\", \"day\": \"Sat\", \"time\": \"Dinner\", \"size\": 2}, {\"total_bill\": 28.17, \"tip\": 6.5, \"sex\": \"Female\", \"smoker\": \"Yes\", \"day\": \"Sat\", \"time\": \"Dinner\", \"size\": 3}, {\"total_bill\": 12.9, \"tip\": 1.1, \"sex\": \"Female\", \"smoker\": \"Yes\", \"day\": \"Sat\", \"time\": \"Dinner\", \"size\": 2}, {\"total_bill\": 28.15, \"tip\": 3.0, \"sex\": \"Male\", \"smoker\": \"Yes\", \"day\": \"Sat\", \"time\": \"Dinner\", \"size\": 5}, {\"total_bill\": 11.59, \"tip\": 1.5, \"sex\": \"Male\", \"smoker\": \"Yes\", \"day\": \"Sat\", \"time\": \"Dinner\", \"size\": 2}, {\"total_bill\": 7.74, \"tip\": 1.44, \"sex\": \"Male\", \"smoker\": \"Yes\", \"day\": \"Sat\", \"time\": \"Dinner\", \"size\": 2}, {\"total_bill\": 30.14, \"tip\": 3.09, \"sex\": \"Female\", \"smoker\": \"Yes\", \"day\": \"Sat\", \"time\": \"Dinner\", \"size\": 4}, {\"total_bill\": 12.16, \"tip\": 2.2, \"sex\": \"Male\", \"smoker\": \"Yes\", \"day\": \"Fri\", \"time\": \"Lunch\", \"size\": 2}, {\"total_bill\": 13.42, \"tip\": 3.48, \"sex\": \"Female\", \"smoker\": \"Yes\", \"day\": \"Fri\", \"time\": \"Lunch\", \"size\": 2}, {\"total_bill\": 8.58, \"tip\": 1.92, \"sex\": \"Male\", \"smoker\": \"Yes\", \"day\": \"Fri\", \"time\": \"Lunch\", \"size\": 1}, {\"total_bill\": 15.98, \"tip\": 3.0, \"sex\": \"Female\", \"smoker\": \"No\", \"day\": \"Fri\", \"time\": \"Lunch\", \"size\": 3}, {\"total_bill\": 13.42, \"tip\": 1.58, \"sex\": \"Male\", \"smoker\": \"Yes\", \"day\": \"Fri\", \"time\": \"Lunch\", \"size\": 2}, {\"total_bill\": 16.27, \"tip\": 2.5, \"sex\": \"Female\", \"smoker\": \"Yes\", \"day\": \"Fri\", \"time\": \"Lunch\", \"size\": 2}, {\"total_bill\": 10.09, \"tip\": 2.0, \"sex\": \"Female\", \"smoker\": \"Yes\", \"day\": \"Fri\", \"time\": \"Lunch\", \"size\": 2}, {\"total_bill\": 20.45, \"tip\": 3.0, \"sex\": \"Male\", \"smoker\": \"No\", \"day\": \"Sat\", \"time\": \"Dinner\", \"size\": 4}, {\"total_bill\": 13.28, \"tip\": 2.72, \"sex\": \"Male\", \"smoker\": \"No\", \"day\": \"Sat\", \"time\": \"Dinner\", \"size\": 2}, {\"total_bill\": 22.12, \"tip\": 2.88, \"sex\": \"Female\", \"smoker\": \"Yes\", \"day\": \"Sat\", \"time\": \"Dinner\", \"size\": 2}, {\"total_bill\": 24.01, \"tip\": 2.0, \"sex\": \"Male\", \"smoker\": \"Yes\", \"day\": \"Sat\", \"time\": \"Dinner\", \"size\": 4}, {\"total_bill\": 15.69, \"tip\": 3.0, \"sex\": \"Male\", \"smoker\": \"Yes\", \"day\": \"Sat\", \"time\": \"Dinner\", \"size\": 3}, {\"total_bill\": 11.61, \"tip\": 3.39, \"sex\": \"Male\", \"smoker\": \"No\", \"day\": \"Sat\", \"time\": \"Dinner\", \"size\": 2}, {\"total_bill\": 10.77, \"tip\": 1.47, \"sex\": \"Male\", \"smoker\": \"No\", \"day\": \"Sat\", \"time\": \"Dinner\", \"size\": 2}, {\"total_bill\": 15.53, \"tip\": 3.0, \"sex\": \"Male\", \"smoker\": \"Yes\", \"day\": \"Sat\", \"time\": \"Dinner\", \"size\": 2}, {\"total_bill\": 10.07, \"tip\": 1.25, \"sex\": \"Male\", \"smoker\": \"No\", \"day\": \"Sat\", \"time\": \"Dinner\", \"size\": 2}, {\"total_bill\": 12.6, \"tip\": 1.0, \"sex\": \"Male\", \"smoker\": \"Yes\", \"day\": \"Sat\", \"time\": \"Dinner\", \"size\": 2}, {\"total_bill\": 32.83, \"tip\": 1.17, \"sex\": \"Male\", \"smoker\": \"Yes\", \"day\": \"Sat\", \"time\": \"Dinner\", \"size\": 2}, {\"total_bill\": 35.83, \"tip\": 4.67, \"sex\": \"Female\", \"smoker\": \"No\", \"day\": \"Sat\", \"time\": \"Dinner\", \"size\": 3}, {\"total_bill\": 29.03, \"tip\": 5.92, \"sex\": \"Male\", \"smoker\": \"No\", \"day\": \"Sat\", \"time\": \"Dinner\", \"size\": 3}, {\"total_bill\": 27.18, \"tip\": 2.0, \"sex\": \"Female\", \"smoker\": \"Yes\", \"day\": \"Sat\", \"time\": \"Dinner\", \"size\": 2}, {\"total_bill\": 22.67, \"tip\": 2.0, \"sex\": \"Male\", \"smoker\": \"Yes\", \"day\": \"Sat\", \"time\": \"Dinner\", \"size\": 2}, {\"total_bill\": 17.82, \"tip\": 1.75, \"sex\": \"Male\", \"smoker\": \"No\", \"day\": \"Sat\", \"time\": \"Dinner\", \"size\": 2}, {\"total_bill\": 18.78, \"tip\": 3.0, \"sex\": \"Female\", \"smoker\": \"No\", \"day\": \"Thur\", \"time\": \"Dinner\", \"size\": 2}]}}, {\"mode\": \"vega-lite\"});\n",
       "</script>"
      ],
      "text/plain": [
       "alt.Chart(...)"
      ]
     },
     "execution_count": 36,
     "metadata": {},
     "output_type": "execute_result"
    }
   ],
   "source": [
    "# Staafgrafiek met Altair: mark_bar()\n",
    "alt.Chart(tips).mark_bar().encode(\n",
    "    x=alt.X(\"count()\",\n",
    "            axis=alt.Axis(title=\"Amount\")),\n",
    "    y=alt.Y(\"day:O\", \n",
    "            axis=alt.Axis(title=\"Weekday\")),\n",
    "    color='day')\n",
    "# TODO: Volgorde weekdagen wordt niet gerespecteerd "
   ]
  },
  {
   "cell_type": "markdown",
   "metadata": {},
   "source": [
    "### Centrummaten"
   ]
  },
  {
   "cell_type": "code",
   "execution_count": 37,
   "metadata": {},
   "outputs": [
    {
     "data": {
      "text/html": [
       "<div>\n",
       "<style scoped>\n",
       "    .dataframe tbody tr th:only-of-type {\n",
       "        vertical-align: middle;\n",
       "    }\n",
       "\n",
       "    .dataframe tbody tr th {\n",
       "        vertical-align: top;\n",
       "    }\n",
       "\n",
       "    .dataframe thead th {\n",
       "        text-align: right;\n",
       "    }\n",
       "</style>\n",
       "<table border=\"1\" class=\"dataframe\">\n",
       "  <thead>\n",
       "    <tr style=\"text-align: right;\">\n",
       "      <th></th>\n",
       "      <th>total_bill</th>\n",
       "      <th>tip</th>\n",
       "      <th>sex</th>\n",
       "      <th>smoker</th>\n",
       "      <th>day</th>\n",
       "      <th>time</th>\n",
       "      <th>size</th>\n",
       "    </tr>\n",
       "  </thead>\n",
       "  <tbody>\n",
       "    <tr>\n",
       "      <th>0</th>\n",
       "      <td>13.42</td>\n",
       "      <td>2.0</td>\n",
       "      <td>Male</td>\n",
       "      <td>No</td>\n",
       "      <td>Sat</td>\n",
       "      <td>Dinner</td>\n",
       "      <td>2</td>\n",
       "    </tr>\n",
       "  </tbody>\n",
       "</table>\n",
       "</div>"
      ],
      "text/plain": [
       "   total_bill  tip   sex smoker  day    time  size\n",
       "0       13.42  2.0  Male     No  Sat  Dinner     2"
      ]
     },
     "execution_count": 37,
     "metadata": {},
     "output_type": "execute_result"
    }
   ],
   "source": [
    "# Modus voor alle variabelen van de data frame\n",
    "tips.mode()"
   ]
  },
  {
   "cell_type": "code",
   "execution_count": 38,
   "metadata": {},
   "outputs": [
    {
     "data": {
      "text/plain": [
       "0    Sat\n",
       "Name: day, dtype: category\n",
       "Categories (4, object): ['Thur', 'Fri', 'Sat', 'Sun']"
      ]
     },
     "execution_count": 38,
     "metadata": {},
     "output_type": "execute_result"
    }
   ],
   "source": [
    "# Modus voor een specifieke variabele\n",
    "tips[\"day\"].mode()"
   ]
  },
  {
   "cell_type": "code",
   "execution_count": 39,
   "metadata": {},
   "outputs": [
    {
     "data": {
      "text/plain": [
       "count     244\n",
       "unique      4\n",
       "top       Sat\n",
       "freq       87\n",
       "Name: day, dtype: object"
      ]
     },
     "execution_count": 39,
     "metadata": {},
     "output_type": "execute_result"
    }
   ],
   "source": [
    "# Enkele beschrijvende maten:\n",
    "tips[\"day\"].describe()"
   ]
  },
  {
   "cell_type": "markdown",
   "metadata": {},
   "source": [
    "## Kwantitatieve variabelen\n",
    "\n",
    "### Visualisatie"
   ]
  },
  {
   "cell_type": "code",
   "execution_count": 40,
   "metadata": {},
   "outputs": [
    {
     "data": {
      "text/plain": [
       "<AxesSubplot:xlabel='tip'>"
      ]
     },
     "execution_count": 40,
     "metadata": {},
     "output_type": "execute_result"
    },
    {
     "data": {
      "image/png": "[encoded data removed]",
      "text/plain": [
       "<Figure size 432x288 with 1 Axes>"
      ]
     },
     "metadata": {
      "needs_background": "light"
     },
     "output_type": "display_data"
    }
   ],
   "source": [
    "# Visualisatie met boxplot (Seaborn)\n",
    "sns.boxplot(data = tips, x = \"tip\")"
   ]
  },
  {
   "cell_type": "code",
   "execution_count": 41,
   "metadata": {},
   "outputs": [
    {
     "data": {
      "text/html": [
       "\n",
       "<div id=\"altair-viz-13a459e288e943bb8ddd273ceb464a97\"></div>\n",
       "<script type=\"text/javascript\">\n",
       "  (function(spec, embedOpt){\n",
       "    let outputDiv = document.currentScript.previousElementSibling;\n",
       "    if (outputDiv.id !== \"altair-viz-13a459e288e943bb8ddd273ceb464a97\") {\n",
       "      outputDiv = document.getElementById(\"altair-viz-13a459e288e943bb8ddd273ceb464a97\");\n",
       "    }\n",
       "    const paths = {\n",
       "      \"vega\": \"https://cdn.jsdelivr.net/npm//vega@5?noext\",\n",
       "      \"vega-lib\": \"https://cdn.jsdelivr.net/npm//vega-lib?noext\",\n",
       "      \"vega-lite\": \"https://cdn.jsdelivr.net/npm//vega-lite@4.8.1?noext\",\n",
       "      \"vega-embed\": \"https://cdn.jsdelivr.net/npm//vega-embed@6?noext\",\n",
       "    };\n",
       "\n",
       "    function loadScript(lib) {\n",
       "      return new Promise(function(resolve, reject) {\n",
       "        var s = document.createElement('script');\n",
       "        s.src = paths[lib];\n",
       "        s.async = true;\n",
       "        s.onload = () => resolve(paths[lib]);\n",
       "        s.onerror = () => reject(`Error loading script: ${paths[lib]}`);\n",
       "        document.getElementsByTagName(\"head\")[0].appendChild(s);\n",
       "      });\n",
       "    }\n",
       "\n",
       "    function showError(err) {\n",
       "      outputDiv.innerHTML = `<div class=\"error\" style=\"color:red;\">${err}</div>`;\n",
       "      throw err;\n",
       "    }\n",
       "\n",
       "    function displayChart(vegaEmbed) {\n",
       "      vegaEmbed(outputDiv, spec, embedOpt)\n",
       "        .catch(err => showError(`Javascript Error: ${err.message}<br>This usually means there's a typo in your chart specification. See the javascript console for the full traceback.`));\n",
       "    }\n",
       "\n",
       "    if(typeof define === \"function\" && define.amd) {\n",
       "      requirejs.config({paths});\n",
       "      require([\"vega-embed\"], displayChart, err => showError(`Error loading script: ${err.message}`));\n",
       "    } else if (typeof vegaEmbed === \"function\") {\n",
       "      displayChart(vegaEmbed);\n",
       "    } else {\n",
       "      loadScript(\"vega\")\n",
       "        .then(() => loadScript(\"vega-lite\"))\n",
       "        .then(() => loadScript(\"vega-embed\"))\n",
       "        .catch(showError)\n",
       "        .then(() => displayChart(vegaEmbed));\n",
       "    }\n",
       "  })({\"config\": {\"view\": {\"continuousWidth\": 400, \"continuousHeight\": 300}}, \"data\": {\"name\": \"data-362d1a3aede62850ce7cd49b1d5f5d1d\"}, \"mark\": \"boxplot\", \"encoding\": {\"x\": {\"type\": \"quantitative\", \"field\": \"tip\"}}, \"$schema\": \"https://vega.github.io/schema/vega-lite/v4.8.1.json\", \"datasets\": {\"data-362d1a3aede62850ce7cd49b1d5f5d1d\": [{\"total_bill\": 16.99, \"tip\": 1.01, \"sex\": \"Female\", \"smoker\": \"No\", \"day\": \"Sun\", \"time\": \"Dinner\", \"size\": 2}, {\"total_bill\": 10.34, \"tip\": 1.66, \"sex\": \"Male\", \"smoker\": \"No\", \"day\": \"Sun\", \"time\": \"Dinner\", \"size\": 3}, {\"total_bill\": 21.01, \"tip\": 3.5, \"sex\": \"Male\", \"smoker\": \"No\", \"day\": \"Sun\", \"time\": \"Dinner\", \"size\": 3}, {\"total_bill\": 23.68, \"tip\": 3.31, \"sex\": \"Male\", \"smoker\": \"No\", \"day\": \"Sun\", \"time\": \"Dinner\", \"size\": 2}, {\"total_bill\": 24.59, \"tip\": 3.61, \"sex\": \"Female\", \"smoker\": \"No\", \"day\": \"Sun\", \"time\": \"Dinner\", \"size\": 4}, {\"total_bill\": 25.29, \"tip\": 4.71, \"sex\": \"Male\", \"smoker\": \"No\", \"day\": \"Sun\", \"time\": \"Dinner\", \"size\": 4}, {\"total_bill\": 8.77, \"tip\": 2.0, \"sex\": \"Male\", \"smoker\": \"No\", \"day\": \"Sun\", \"time\": \"Dinner\", \"size\": 2}, {\"total_bill\": 26.88, \"tip\": 3.12, \"sex\": \"Male\", \"smoker\": \"No\", \"day\": \"Sun\", \"time\": \"Dinner\", \"size\": 4}, {\"total_bill\": 15.04, \"tip\": 1.96, \"sex\": \"Male\", \"smoker\": \"No\", \"day\": \"Sun\", \"time\": \"Dinner\", \"size\": 2}, {\"total_bill\": 14.78, \"tip\": 3.23, \"sex\": \"Male\", \"smoker\": \"No\", \"day\": \"Sun\", \"time\": \"Dinner\", \"size\": 2}, {\"total_bill\": 10.27, \"tip\": 1.71, \"sex\": \"Male\", \"smoker\": \"No\", \"day\": \"Sun\", \"time\": \"Dinner\", \"size\": 2}, {\"total_bill\": 35.26, \"tip\": 5.0, \"sex\": \"Female\", \"smoker\": \"No\", \"day\": \"Sun\", \"time\": \"Dinner\", \"size\": 4}, {\"total_bill\": 15.42, \"tip\": 1.57, \"sex\": \"Male\", \"smoker\": \"No\", \"day\": \"Sun\", \"time\": \"Dinner\", \"size\": 2}, {\"total_bill\": 18.43, \"tip\": 3.0, \"sex\": \"Male\", \"smoker\": \"No\", \"day\": \"Sun\", \"time\": \"Dinner\", \"size\": 4}, {\"total_bill\": 14.83, \"tip\": 3.02, \"sex\": \"Female\", \"smoker\": \"No\", \"day\": \"Sun\", \"time\": \"Dinner\", \"size\": 2}, {\"total_bill\": 21.58, \"tip\": 3.92, \"sex\": \"Male\", \"smoker\": \"No\", \"day\": \"Sun\", \"time\": \"Dinner\", \"size\": 2}, {\"total_bill\": 10.33, \"tip\": 1.67, \"sex\": \"Female\", \"smoker\": \"No\", \"day\": \"Sun\", \"time\": \"Dinner\", \"size\": 3}, {\"total_bill\": 16.29, \"tip\": 3.71, \"sex\": \"Male\", \"smoker\": \"No\", \"day\": \"Sun\", \"time\": \"Dinner\", \"size\": 3}, {\"total_bill\": 16.97, \"tip\": 3.5, \"sex\": \"Female\", \"smoker\": \"No\", \"day\": \"Sun\", \"time\": \"Dinner\", \"size\": 3}, {\"total_bill\": 20.65, \"tip\": 3.35, \"sex\": \"Male\", \"smoker\": \"No\", \"day\": \"Sat\", \"time\": \"Dinner\", \"size\": 3}, {\"total_bill\": 17.92, \"tip\": 4.08, \"sex\": \"Male\", \"smoker\": \"No\", \"day\": \"Sat\", \"time\": \"Dinner\", \"size\": 2}, {\"total_bill\": 20.29, \"tip\": 2.75, \"sex\": \"Female\", \"smoker\": \"No\", \"day\": \"Sat\", \"time\": \"Dinner\", \"size\": 2}, {\"total_bill\": 15.77, \"tip\": 2.23, \"sex\": \"Female\", \"smoker\": \"No\", \"day\": \"Sat\", \"time\": \"Dinner\", \"size\": 2}, {\"total_bill\": 39.42, \"tip\": 7.58, \"sex\": \"Male\", \"smoker\": \"No\", \"day\": \"Sat\", \"time\": \"Dinner\", \"size\": 4}, {\"total_bill\": 19.82, \"tip\": 3.18, \"sex\": \"Male\", \"smoker\": \"No\", \"day\": \"Sat\", \"time\": \"Dinner\", \"size\": 2}, {\"total_bill\": 17.81, \"tip\": 2.34, \"sex\": \"Male\", \"smoker\": \"No\", \"day\": \"Sat\", \"time\": \"Dinner\", \"size\": 4}, {\"total_bill\": 13.37, \"tip\": 2.0, \"sex\": \"Male\", \"smoker\": \"No\", \"day\": \"Sat\", \"time\": \"Dinner\", \"size\": 2}, {\"total_bill\": 12.69, \"tip\": 2.0, \"sex\": \"Male\", \"smoker\": \"No\", \"day\": \"Sat\", \"time\": \"Dinner\", \"size\": 2}, {\"total_bill\": 21.7, \"tip\": 4.3, \"sex\": \"Male\", \"smoker\": \"No\", \"day\": \"Sat\", \"time\": \"Dinner\", \"size\": 2}, {\"total_bill\": 19.65, \"tip\": 3.0, \"sex\": \"Female\", \"smoker\": \"No\", \"day\": \"Sat\", \"time\": \"Dinner\", \"size\": 2}, {\"total_bill\": 9.55, \"tip\": 1.45, \"sex\": \"Male\", \"smoker\": \"No\", \"day\": \"Sat\", \"time\": \"Dinner\", \"size\": 2}, {\"total_bill\": 18.35, \"tip\": 2.5, \"sex\": \"Male\", \"smoker\": \"No\", \"day\": \"Sat\", \"time\": \"Dinner\", \"size\": 4}, {\"total_bill\": 15.06, \"tip\": 3.0, \"sex\": \"Female\", \"smoker\": \"No\", \"day\": \"Sat\", \"time\": \"Dinner\", \"size\": 2}, {\"total_bill\": 20.69, \"tip\": 2.45, \"sex\": \"Female\", \"smoker\": \"No\", \"day\": \"Sat\", \"time\": \"Dinner\", \"size\": 4}, {\"total_bill\": 17.78, \"tip\": 3.27, \"sex\": \"Male\", \"smoker\": \"No\", \"day\": \"Sat\", \"time\": \"Dinner\", \"size\": 2}, {\"total_bill\": 24.06, \"tip\": 3.6, \"sex\": \"Male\", \"smoker\": \"No\", \"day\": \"Sat\", \"time\": \"Dinner\", \"size\": 3}, {\"total_bill\": 16.31, \"tip\": 2.0, \"sex\": \"Male\", \"smoker\": \"No\", \"day\": \"Sat\", \"time\": \"Dinner\", \"size\": 3}, {\"total_bill\": 16.93, \"tip\": 3.07, \"sex\": \"Female\", \"smoker\": \"No\", \"day\": \"Sat\", \"time\": \"Dinner\", \"size\": 3}, {\"total_bill\": 18.69, \"tip\": 2.31, \"sex\": \"Male\", \"smoker\": \"No\", \"day\": \"Sat\", \"time\": \"Dinner\", \"size\": 3}, {\"total_bill\": 31.27, \"tip\": 5.0, \"sex\": \"Male\", \"smoker\": \"No\", \"day\": \"Sat\", \"time\": \"Dinner\", \"size\": 3}, {\"total_bill\": 16.04, \"tip\": 2.24, \"sex\": \"Male\", \"smoker\": \"No\", \"day\": \"Sat\", \"time\": \"Dinner\", \"size\": 3}, {\"total_bill\": 17.46, \"tip\": 2.54, \"sex\": \"Male\", \"smoker\": \"No\", \"day\": \"Sun\", \"time\": \"Dinner\", \"size\": 2}, {\"total_bill\": 13.94, \"tip\": 3.06, \"sex\": \"Male\", \"smoker\": \"No\", \"day\": \"Sun\", \"time\": \"Dinner\", \"size\": 2}, {\"total_bill\": 9.68, \"tip\": 1.32, \"sex\": \"Male\", \"smoker\": \"No\", \"day\": \"Sun\", \"time\": \"Dinner\", \"size\": 2}, {\"total_bill\": 30.4, \"tip\": 5.6, \"sex\": \"Male\", \"smoker\": \"No\", \"day\": \"Sun\", \"time\": \"Dinner\", \"size\": 4}, {\"total_bill\": 18.29, \"tip\": 3.0, \"sex\": \"Male\", \"smoker\": \"No\", \"day\": \"Sun\", \"time\": \"Dinner\", \"size\": 2}, {\"total_bill\": 22.23, \"tip\": 5.0, \"sex\": \"Male\", \"smoker\": \"No\", \"day\": \"Sun\", \"time\": \"Dinner\", \"size\": 2}, {\"total_bill\": 32.4, \"tip\": 6.0, \"sex\": \"Male\", \"smoker\": \"No\", \"day\": \"Sun\", \"time\": \"Dinner\", \"size\": 4}, {\"total_bill\": 28.55, \"tip\": 2.05, \"sex\": \"Male\", \"smoker\": \"No\", \"day\": \"Sun\", \"time\": \"Dinner\", \"size\": 3}, {\"total_bill\": 18.04, \"tip\": 3.0, \"sex\": \"Male\", \"smoker\": \"No\", \"day\": \"Sun\", \"time\": \"Dinner\", \"size\": 2}, {\"total_bill\": 12.54, \"tip\": 2.5, \"sex\": \"Male\", \"smoker\": \"No\", \"day\": \"Sun\", \"time\": \"Dinner\", \"size\": 2}, {\"total_bill\": 10.29, \"tip\": 2.6, \"sex\": \"Female\", \"smoker\": \"No\", \"day\": \"Sun\", \"time\": \"Dinner\", \"size\": 2}, {\"total_bill\": 34.81, \"tip\": 5.2, \"sex\": \"Female\", \"smoker\": \"No\", \"day\": \"Sun\", \"time\": \"Dinner\", \"size\": 4}, {\"total_bill\": 9.94, \"tip\": 1.56, \"sex\": \"Male\", \"smoker\": \"No\", \"day\": \"Sun\", \"time\": \"Dinner\", \"size\": 2}, {\"total_bill\": 25.56, \"tip\": 4.34, \"sex\": \"Male\", \"smoker\": \"No\", \"day\": \"Sun\", \"time\": \"Dinner\", \"size\": 4}, {\"total_bill\": 19.49, \"tip\": 3.51, \"sex\": \"Male\", \"smoker\": \"No\", \"day\": \"Sun\", \"time\": \"Dinner\", \"size\": 2}, {\"total_bill\": 38.01, \"tip\": 3.0, \"sex\": \"Male\", \"smoker\": \"Yes\", \"day\": \"Sat\", \"time\": \"Dinner\", \"size\": 4}, {\"total_bill\": 26.41, \"tip\": 1.5, \"sex\": \"Female\", \"smoker\": \"No\", \"day\": \"Sat\", \"time\": \"Dinner\", \"size\": 2}, {\"total_bill\": 11.24, \"tip\": 1.76, \"sex\": \"Male\", \"smoker\": \"Yes\", \"day\": \"Sat\", \"time\": \"Dinner\", \"size\": 2}, {\"total_bill\": 48.27, \"tip\": 6.73, \"sex\": \"Male\", \"smoker\": \"No\", \"day\": \"Sat\", \"time\": \"Dinner\", \"size\": 4}, {\"total_bill\": 20.29, \"tip\": 3.21, \"sex\": \"Male\", \"smoker\": \"Yes\", \"day\": \"Sat\", \"time\": \"Dinner\", \"size\": 2}, {\"total_bill\": 13.81, \"tip\": 2.0, \"sex\": \"Male\", \"smoker\": \"Yes\", \"day\": \"Sat\", \"time\": \"Dinner\", \"size\": 2}, {\"total_bill\": 11.02, \"tip\": 1.98, \"sex\": \"Male\", \"smoker\": \"Yes\", \"day\": \"Sat\", \"time\": \"Dinner\", \"size\": 2}, {\"total_bill\": 18.29, \"tip\": 3.76, \"sex\": \"Male\", \"smoker\": \"Yes\", \"day\": \"Sat\", \"time\": \"Dinner\", \"size\": 4}, {\"total_bill\": 17.59, \"tip\": 2.64, \"sex\": \"Male\", \"smoker\": \"No\", \"day\": \"Sat\", \"time\": \"Dinner\", \"size\": 3}, {\"total_bill\": 20.08, \"tip\": 3.15, \"sex\": \"Male\", \"smoker\": \"No\", \"day\": \"Sat\", \"time\": \"Dinner\", \"size\": 3}, {\"total_bill\": 16.45, \"tip\": 2.47, \"sex\": \"Female\", \"smoker\": \"No\", \"day\": \"Sat\", \"time\": \"Dinner\", \"size\": 2}, {\"total_bill\": 3.07, \"tip\": 1.0, \"sex\": \"Female\", \"smoker\": \"Yes\", \"day\": \"Sat\", \"time\": \"Dinner\", \"size\": 1}, {\"total_bill\": 20.23, \"tip\": 2.01, \"sex\": \"Male\", \"smoker\": \"No\", \"day\": \"Sat\", \"time\": \"Dinner\", \"size\": 2}, {\"total_bill\": 15.01, \"tip\": 2.09, \"sex\": \"Male\", \"smoker\": \"Yes\", \"day\": \"Sat\", \"time\": \"Dinner\", \"size\": 2}, {\"total_bill\": 12.02, \"tip\": 1.97, \"sex\": \"Male\", \"smoker\": \"No\", \"day\": \"Sat\", \"time\": \"Dinner\", \"size\": 2}, {\"total_bill\": 17.07, \"tip\": 3.0, \"sex\": \"Female\", \"smoker\": \"No\", \"day\": \"Sat\", \"time\": \"Dinner\", \"size\": 3}, {\"total_bill\": 26.86, \"tip\": 3.14, \"sex\": \"Female\", \"smoker\": \"Yes\", \"day\": \"Sat\", \"time\": \"Dinner\", \"size\": 2}, {\"total_bill\": 25.28, \"tip\": 5.0, \"sex\": \"Female\", \"smoker\": \"Yes\", \"day\": \"Sat\", \"time\": \"Dinner\", \"size\": 2}, {\"total_bill\": 14.73, \"tip\": 2.2, \"sex\": \"Female\", \"smoker\": \"No\", \"day\": \"Sat\", \"time\": \"Dinner\", \"size\": 2}, {\"total_bill\": 10.51, \"tip\": 1.25, \"sex\": \"Male\", \"smoker\": \"No\", \"day\": \"Sat\", \"time\": \"Dinner\", \"size\": 2}, {\"total_bill\": 17.92, \"tip\": 3.08, \"sex\": \"Male\", \"smoker\": \"Yes\", \"day\": \"Sat\", \"time\": \"Dinner\", \"size\": 2}, {\"total_bill\": 27.2, \"tip\": 4.0, \"sex\": \"Male\", \"smoker\": \"No\", \"day\": \"Thur\", \"time\": \"Lunch\", \"size\": 4}, {\"total_bill\": 22.76, \"tip\": 3.0, \"sex\": \"Male\", \"smoker\": \"No\", \"day\": \"Thur\", \"time\": \"Lunch\", \"size\": 2}, {\"total_bill\": 17.29, \"tip\": 2.71, \"sex\": \"Male\", \"smoker\": \"No\", \"day\": \"Thur\", \"time\": \"Lunch\", \"size\": 2}, {\"total_bill\": 19.44, \"tip\": 3.0, \"sex\": \"Male\", \"smoker\": \"Yes\", \"day\": \"Thur\", \"time\": \"Lunch\", \"size\": 2}, {\"total_bill\": 16.66, \"tip\": 3.4, \"sex\": \"Male\", \"smoker\": \"No\", \"day\": \"Thur\", \"time\": \"Lunch\", \"size\": 2}, {\"total_bill\": 10.07, \"tip\": 1.83, \"sex\": \"Female\", \"smoker\": \"No\", \"day\": \"Thur\", \"time\": \"Lunch\", \"size\": 1}, {\"total_bill\": 32.68, \"tip\": 5.0, \"sex\": \"Male\", \"smoker\": \"Yes\", \"day\": \"Thur\", \"time\": \"Lunch\", \"size\": 2}, {\"total_bill\": 15.98, \"tip\": 2.03, \"sex\": \"Male\", \"smoker\": \"No\", \"day\": \"Thur\", \"time\": \"Lunch\", \"size\": 2}, {\"total_bill\": 34.83, \"tip\": 5.17, \"sex\": \"Female\", \"smoker\": \"No\", \"day\": \"Thur\", \"time\": \"Lunch\", \"size\": 4}, {\"total_bill\": 13.03, \"tip\": 2.0, \"sex\": \"Male\", \"smoker\": \"No\", \"day\": \"Thur\", \"time\": \"Lunch\", \"size\": 2}, {\"total_bill\": 18.28, \"tip\": 4.0, \"sex\": \"Male\", \"smoker\": \"No\", \"day\": \"Thur\", \"time\": \"Lunch\", \"size\": 2}, {\"total_bill\": 24.71, \"tip\": 5.85, \"sex\": \"Male\", \"smoker\": \"No\", \"day\": \"Thur\", \"time\": \"Lunch\", \"size\": 2}, {\"total_bill\": 21.16, \"tip\": 3.0, \"sex\": \"Male\", \"smoker\": \"No\", \"day\": \"Thur\", \"time\": \"Lunch\", \"size\": 2}, {\"total_bill\": 28.97, \"tip\": 3.0, \"sex\": \"Male\", \"smoker\": \"Yes\", \"day\": \"Fri\", \"time\": \"Dinner\", \"size\": 2}, {\"total_bill\": 22.49, \"tip\": 3.5, \"sex\": \"Male\", \"smoker\": \"No\", \"day\": \"Fri\", \"time\": \"Dinner\", \"size\": 2}, {\"total_bill\": 5.75, \"tip\": 1.0, \"sex\": \"Female\", \"smoker\": \"Yes\", \"day\": \"Fri\", \"time\": \"Dinner\", \"size\": 2}, {\"total_bill\": 16.32, \"tip\": 4.3, \"sex\": \"Female\", \"smoker\": \"Yes\", \"day\": \"Fri\", \"time\": \"Dinner\", \"size\": 2}, {\"total_bill\": 22.75, \"tip\": 3.25, \"sex\": \"Female\", \"smoker\": \"No\", \"day\": \"Fri\", \"time\": \"Dinner\", \"size\": 2}, {\"total_bill\": 40.17, \"tip\": 4.73, \"sex\": \"Male\", \"smoker\": \"Yes\", \"day\": \"Fri\", \"time\": \"Dinner\", \"size\": 4}, {\"total_bill\": 27.28, \"tip\": 4.0, \"sex\": \"Male\", \"smoker\": \"Yes\", \"day\": \"Fri\", \"time\": \"Dinner\", \"size\": 2}, {\"total_bill\": 12.03, \"tip\": 1.5, \"sex\": \"Male\", \"smoker\": \"Yes\", \"day\": \"Fri\", \"time\": \"Dinner\", \"size\": 2}, {\"total_bill\": 21.01, \"tip\": 3.0, \"sex\": \"Male\", \"smoker\": \"Yes\", \"day\": \"Fri\", \"time\": \"Dinner\", \"size\": 2}, {\"total_bill\": 12.46, \"tip\": 1.5, \"sex\": \"Male\", \"smoker\": \"No\", \"day\": \"Fri\", \"time\": \"Dinner\", \"size\": 2}, {\"total_bill\": 11.35, \"tip\": 2.5, \"sex\": \"Female\", \"smoker\": \"Yes\", \"day\": \"Fri\", \"time\": \"Dinner\", \"size\": 2}, {\"total_bill\": 15.38, \"tip\": 3.0, \"sex\": \"Female\", \"smoker\": \"Yes\", \"day\": \"Fri\", \"time\": \"Dinner\", \"size\": 2}, {\"total_bill\": 44.3, \"tip\": 2.5, \"sex\": \"Female\", \"smoker\": \"Yes\", \"day\": \"Sat\", \"time\": \"Dinner\", \"size\": 3}, {\"total_bill\": 22.42, \"tip\": 3.48, \"sex\": \"Female\", \"smoker\": \"Yes\", \"day\": \"Sat\", \"time\": \"Dinner\", \"size\": 2}, {\"total_bill\": 20.92, \"tip\": 4.08, \"sex\": \"Female\", \"smoker\": \"No\", \"day\": \"Sat\", \"time\": \"Dinner\", \"size\": 2}, {\"total_bill\": 15.36, \"tip\": 1.64, \"sex\": \"Male\", \"smoker\": \"Yes\", \"day\": \"Sat\", \"time\": \"Dinner\", \"size\": 2}, {\"total_bill\": 20.49, \"tip\": 4.06, \"sex\": \"Male\", \"smoker\": \"Yes\", \"day\": \"Sat\", \"time\": \"Dinner\", \"size\": 2}, {\"total_bill\": 25.21, \"tip\": 4.29, \"sex\": \"Male\", \"smoker\": \"Yes\", \"day\": \"Sat\", \"time\": \"Dinner\", \"size\": 2}, {\"total_bill\": 18.24, \"tip\": 3.76, \"sex\": \"Male\", \"smoker\": \"No\", \"day\": \"Sat\", \"time\": \"Dinner\", \"size\": 2}, {\"total_bill\": 14.31, \"tip\": 4.0, \"sex\": \"Female\", \"smoker\": \"Yes\", \"day\": \"Sat\", \"time\": \"Dinner\", \"size\": 2}, {\"total_bill\": 14.0, \"tip\": 3.0, \"sex\": \"Male\", \"smoker\": \"No\", \"day\": \"Sat\", \"time\": \"Dinner\", \"size\": 2}, {\"total_bill\": 7.25, \"tip\": 1.0, \"sex\": \"Female\", \"smoker\": \"No\", \"day\": \"Sat\", \"time\": \"Dinner\", \"size\": 1}, {\"total_bill\": 38.07, \"tip\": 4.0, \"sex\": \"Male\", \"smoker\": \"No\", \"day\": \"Sun\", \"time\": \"Dinner\", \"size\": 3}, {\"total_bill\": 23.95, \"tip\": 2.55, \"sex\": \"Male\", \"smoker\": \"No\", \"day\": \"Sun\", \"time\": \"Dinner\", \"size\": 2}, {\"total_bill\": 25.71, \"tip\": 4.0, \"sex\": \"Female\", \"smoker\": \"No\", \"day\": \"Sun\", \"time\": \"Dinner\", \"size\": 3}, {\"total_bill\": 17.31, \"tip\": 3.5, \"sex\": \"Female\", \"smoker\": \"No\", \"day\": \"Sun\", \"time\": \"Dinner\", \"size\": 2}, {\"total_bill\": 29.93, \"tip\": 5.07, \"sex\": \"Male\", \"smoker\": \"No\", \"day\": \"Sun\", \"time\": \"Dinner\", \"size\": 4}, {\"total_bill\": 10.65, \"tip\": 1.5, \"sex\": \"Female\", \"smoker\": \"No\", \"day\": \"Thur\", \"time\": \"Lunch\", \"size\": 2}, {\"total_bill\": 12.43, \"tip\": 1.8, \"sex\": \"Female\", \"smoker\": \"No\", \"day\": \"Thur\", \"time\": \"Lunch\", \"size\": 2}, {\"total_bill\": 24.08, \"tip\": 2.92, \"sex\": \"Female\", \"smoker\": \"No\", \"day\": \"Thur\", \"time\": \"Lunch\", \"size\": 4}, {\"total_bill\": 11.69, \"tip\": 2.31, \"sex\": \"Male\", \"smoker\": \"No\", \"day\": \"Thur\", \"time\": \"Lunch\", \"size\": 2}, {\"total_bill\": 13.42, \"tip\": 1.68, \"sex\": \"Female\", \"smoker\": \"No\", \"day\": \"Thur\", \"time\": \"Lunch\", \"size\": 2}, {\"total_bill\": 14.26, \"tip\": 2.5, \"sex\": \"Male\", \"smoker\": \"No\", \"day\": \"Thur\", \"time\": \"Lunch\", \"size\": 2}, {\"total_bill\": 15.95, \"tip\": 2.0, \"sex\": \"Male\", \"smoker\": \"No\", \"day\": \"Thur\", \"time\": \"Lunch\", \"size\": 2}, {\"total_bill\": 12.48, \"tip\": 2.52, \"sex\": \"Female\", \"smoker\": \"No\", \"day\": \"Thur\", \"time\": \"Lunch\", \"size\": 2}, {\"total_bill\": 29.8, \"tip\": 4.2, \"sex\": \"Female\", \"smoker\": \"No\", \"day\": \"Thur\", \"time\": \"Lunch\", \"size\": 6}, {\"total_bill\": 8.52, \"tip\": 1.48, \"sex\": \"Male\", \"smoker\": \"No\", \"day\": \"Thur\", \"time\": \"Lunch\", \"size\": 2}, {\"total_bill\": 14.52, \"tip\": 2.0, \"sex\": \"Female\", \"smoker\": \"No\", \"day\": \"Thur\", \"time\": \"Lunch\", \"size\": 2}, {\"total_bill\": 11.38, \"tip\": 2.0, \"sex\": \"Female\", \"smoker\": \"No\", \"day\": \"Thur\", \"time\": \"Lunch\", \"size\": 2}, {\"total_bill\": 22.82, \"tip\": 2.18, \"sex\": \"Male\", \"smoker\": \"No\", \"day\": \"Thur\", \"time\": \"Lunch\", \"size\": 3}, {\"total_bill\": 19.08, \"tip\": 1.5, \"sex\": \"Male\", \"smoker\": \"No\", \"day\": \"Thur\", \"time\": \"Lunch\", \"size\": 2}, {\"total_bill\": 20.27, \"tip\": 2.83, \"sex\": \"Female\", \"smoker\": \"No\", \"day\": \"Thur\", \"time\": \"Lunch\", \"size\": 2}, {\"total_bill\": 11.17, \"tip\": 1.5, \"sex\": \"Female\", \"smoker\": \"No\", \"day\": \"Thur\", \"time\": \"Lunch\", \"size\": 2}, {\"total_bill\": 12.26, \"tip\": 2.0, \"sex\": \"Female\", \"smoker\": \"No\", \"day\": \"Thur\", \"time\": \"Lunch\", \"size\": 2}, {\"total_bill\": 18.26, \"tip\": 3.25, \"sex\": \"Female\", \"smoker\": \"No\", \"day\": \"Thur\", \"time\": \"Lunch\", \"size\": 2}, {\"total_bill\": 8.51, \"tip\": 1.25, \"sex\": \"Female\", \"smoker\": \"No\", \"day\": \"Thur\", \"time\": \"Lunch\", \"size\": 2}, {\"total_bill\": 10.33, \"tip\": 2.0, \"sex\": \"Female\", \"smoker\": \"No\", \"day\": \"Thur\", \"time\": \"Lunch\", \"size\": 2}, {\"total_bill\": 14.15, \"tip\": 2.0, \"sex\": \"Female\", \"smoker\": \"No\", \"day\": \"Thur\", \"time\": \"Lunch\", \"size\": 2}, {\"total_bill\": 16.0, \"tip\": 2.0, \"sex\": \"Male\", \"smoker\": \"Yes\", \"day\": \"Thur\", \"time\": \"Lunch\", \"size\": 2}, {\"total_bill\": 13.16, \"tip\": 2.75, \"sex\": \"Female\", \"smoker\": \"No\", \"day\": \"Thur\", \"time\": \"Lunch\", \"size\": 2}, {\"total_bill\": 17.47, \"tip\": 3.5, \"sex\": \"Female\", \"smoker\": \"No\", \"day\": \"Thur\", \"time\": \"Lunch\", \"size\": 2}, {\"total_bill\": 34.3, \"tip\": 6.7, \"sex\": \"Male\", \"smoker\": \"No\", \"day\": \"Thur\", \"time\": \"Lunch\", \"size\": 6}, {\"total_bill\": 41.19, \"tip\": 5.0, \"sex\": \"Male\", \"smoker\": \"No\", \"day\": \"Thur\", \"time\": \"Lunch\", \"size\": 5}, {\"total_bill\": 27.05, \"tip\": 5.0, \"sex\": \"Female\", \"smoker\": \"No\", \"day\": \"Thur\", \"time\": \"Lunch\", \"size\": 6}, {\"total_bill\": 16.43, \"tip\": 2.3, \"sex\": \"Female\", \"smoker\": \"No\", \"day\": \"Thur\", \"time\": \"Lunch\", \"size\": 2}, {\"total_bill\": 8.35, \"tip\": 1.5, \"sex\": \"Female\", \"smoker\": \"No\", \"day\": \"Thur\", \"time\": \"Lunch\", \"size\": 2}, {\"total_bill\": 18.64, \"tip\": 1.36, \"sex\": \"Female\", \"smoker\": \"No\", \"day\": \"Thur\", \"time\": \"Lunch\", \"size\": 3}, {\"total_bill\": 11.87, \"tip\": 1.63, \"sex\": \"Female\", \"smoker\": \"No\", \"day\": \"Thur\", \"time\": \"Lunch\", \"size\": 2}, {\"total_bill\": 9.78, \"tip\": 1.73, \"sex\": \"Male\", \"smoker\": \"No\", \"day\": \"Thur\", \"time\": \"Lunch\", \"size\": 2}, {\"total_bill\": 7.51, \"tip\": 2.0, \"sex\": \"Male\", \"smoker\": \"No\", \"day\": \"Thur\", \"time\": \"Lunch\", \"size\": 2}, {\"total_bill\": 14.07, \"tip\": 2.5, \"sex\": \"Male\", \"smoker\": \"No\", \"day\": \"Sun\", \"time\": \"Dinner\", \"size\": 2}, {\"total_bill\": 13.13, \"tip\": 2.0, \"sex\": \"Male\", \"smoker\": \"No\", \"day\": \"Sun\", \"time\": \"Dinner\", \"size\": 2}, {\"total_bill\": 17.26, \"tip\": 2.74, \"sex\": \"Male\", \"smoker\": \"No\", \"day\": \"Sun\", \"time\": \"Dinner\", \"size\": 3}, {\"total_bill\": 24.55, \"tip\": 2.0, \"sex\": \"Male\", \"smoker\": \"No\", \"day\": \"Sun\", \"time\": \"Dinner\", \"size\": 4}, {\"total_bill\": 19.77, \"tip\": 2.0, \"sex\": \"Male\", \"smoker\": \"No\", \"day\": \"Sun\", \"time\": \"Dinner\", \"size\": 4}, {\"total_bill\": 29.85, \"tip\": 5.14, \"sex\": \"Female\", \"smoker\": \"No\", \"day\": \"Sun\", \"time\": \"Dinner\", \"size\": 5}, {\"total_bill\": 48.17, \"tip\": 5.0, \"sex\": \"Male\", \"smoker\": \"No\", \"day\": \"Sun\", \"time\": \"Dinner\", \"size\": 6}, {\"total_bill\": 25.0, \"tip\": 3.75, \"sex\": \"Female\", \"smoker\": \"No\", \"day\": \"Sun\", \"time\": \"Dinner\", \"size\": 4}, {\"total_bill\": 13.39, \"tip\": 2.61, \"sex\": \"Female\", \"smoker\": \"No\", \"day\": \"Sun\", \"time\": \"Dinner\", \"size\": 2}, {\"total_bill\": 16.49, \"tip\": 2.0, \"sex\": \"Male\", \"smoker\": \"No\", \"day\": \"Sun\", \"time\": \"Dinner\", \"size\": 4}, {\"total_bill\": 21.5, \"tip\": 3.5, \"sex\": \"Male\", \"smoker\": \"No\", \"day\": \"Sun\", \"time\": \"Dinner\", \"size\": 4}, {\"total_bill\": 12.66, \"tip\": 2.5, \"sex\": \"Male\", \"smoker\": \"No\", \"day\": \"Sun\", \"time\": \"Dinner\", \"size\": 2}, {\"total_bill\": 16.21, \"tip\": 2.0, \"sex\": \"Female\", \"smoker\": \"No\", \"day\": \"Sun\", \"time\": \"Dinner\", \"size\": 3}, {\"total_bill\": 13.81, \"tip\": 2.0, \"sex\": \"Male\", \"smoker\": \"No\", \"day\": \"Sun\", \"time\": \"Dinner\", \"size\": 2}, {\"total_bill\": 17.51, \"tip\": 3.0, \"sex\": \"Female\", \"smoker\": \"Yes\", \"day\": \"Sun\", \"time\": \"Dinner\", \"size\": 2}, {\"total_bill\": 24.52, \"tip\": 3.48, \"sex\": \"Male\", \"smoker\": \"No\", \"day\": \"Sun\", \"time\": \"Dinner\", \"size\": 3}, {\"total_bill\": 20.76, \"tip\": 2.24, \"sex\": \"Male\", \"smoker\": \"No\", \"day\": \"Sun\", \"time\": \"Dinner\", \"size\": 2}, {\"total_bill\": 31.71, \"tip\": 4.5, \"sex\": \"Male\", \"smoker\": \"No\", \"day\": \"Sun\", \"time\": \"Dinner\", \"size\": 4}, {\"total_bill\": 10.59, \"tip\": 1.61, \"sex\": \"Female\", \"smoker\": \"Yes\", \"day\": \"Sat\", \"time\": \"Dinner\", \"size\": 2}, {\"total_bill\": 10.63, \"tip\": 2.0, \"sex\": \"Female\", \"smoker\": \"Yes\", \"day\": \"Sat\", \"time\": \"Dinner\", \"size\": 2}, {\"total_bill\": 50.81, \"tip\": 10.0, \"sex\": \"Male\", \"smoker\": \"Yes\", \"day\": \"Sat\", \"time\": \"Dinner\", \"size\": 3}, {\"total_bill\": 15.81, \"tip\": 3.16, \"sex\": \"Male\", \"smoker\": \"Yes\", \"day\": \"Sat\", \"time\": \"Dinner\", \"size\": 2}, {\"total_bill\": 7.25, \"tip\": 5.15, \"sex\": \"Male\", \"smoker\": \"Yes\", \"day\": \"Sun\", \"time\": \"Dinner\", \"size\": 2}, {\"total_bill\": 31.85, \"tip\": 3.18, \"sex\": \"Male\", \"smoker\": \"Yes\", \"day\": \"Sun\", \"time\": \"Dinner\", \"size\": 2}, {\"total_bill\": 16.82, \"tip\": 4.0, \"sex\": \"Male\", \"smoker\": \"Yes\", \"day\": \"Sun\", \"time\": \"Dinner\", \"size\": 2}, {\"total_bill\": 32.9, \"tip\": 3.11, \"sex\": \"Male\", \"smoker\": \"Yes\", \"day\": \"Sun\", \"time\": \"Dinner\", \"size\": 2}, {\"total_bill\": 17.89, \"tip\": 2.0, \"sex\": \"Male\", \"smoker\": \"Yes\", \"day\": \"Sun\", \"time\": \"Dinner\", \"size\": 2}, {\"total_bill\": 14.48, \"tip\": 2.0, \"sex\": \"Male\", \"smoker\": \"Yes\", \"day\": \"Sun\", \"time\": \"Dinner\", \"size\": 2}, {\"total_bill\": 9.6, \"tip\": 4.0, \"sex\": \"Female\", \"smoker\": \"Yes\", \"day\": \"Sun\", \"time\": \"Dinner\", \"size\": 2}, {\"total_bill\": 34.63, \"tip\": 3.55, \"sex\": \"Male\", \"smoker\": \"Yes\", \"day\": \"Sun\", \"time\": \"Dinner\", \"size\": 2}, {\"total_bill\": 34.65, \"tip\": 3.68, \"sex\": \"Male\", \"smoker\": \"Yes\", \"day\": \"Sun\", \"time\": \"Dinner\", \"size\": 4}, {\"total_bill\": 23.33, \"tip\": 5.65, \"sex\": \"Male\", \"smoker\": \"Yes\", \"day\": \"Sun\", \"time\": \"Dinner\", \"size\": 2}, {\"total_bill\": 45.35, \"tip\": 3.5, \"sex\": \"Male\", \"smoker\": \"Yes\", \"day\": \"Sun\", \"time\": \"Dinner\", \"size\": 3}, {\"total_bill\": 23.17, \"tip\": 6.5, \"sex\": \"Male\", \"smoker\": \"Yes\", \"day\": \"Sun\", \"time\": \"Dinner\", \"size\": 4}, {\"total_bill\": 40.55, \"tip\": 3.0, \"sex\": \"Male\", \"smoker\": \"Yes\", \"day\": \"Sun\", \"time\": \"Dinner\", \"size\": 2}, {\"total_bill\": 20.69, \"tip\": 5.0, \"sex\": \"Male\", \"smoker\": \"No\", \"day\": \"Sun\", \"time\": \"Dinner\", \"size\": 5}, {\"total_bill\": 20.9, \"tip\": 3.5, \"sex\": \"Female\", \"smoker\": \"Yes\", \"day\": \"Sun\", \"time\": \"Dinner\", \"size\": 3}, {\"total_bill\": 30.46, \"tip\": 2.0, \"sex\": \"Male\", \"smoker\": \"Yes\", \"day\": \"Sun\", \"time\": \"Dinner\", \"size\": 5}, {\"total_bill\": 18.15, \"tip\": 3.5, \"sex\": \"Female\", \"smoker\": \"Yes\", \"day\": \"Sun\", \"time\": \"Dinner\", \"size\": 3}, {\"total_bill\": 23.1, \"tip\": 4.0, \"sex\": \"Male\", \"smoker\": \"Yes\", \"day\": \"Sun\", \"time\": \"Dinner\", \"size\": 3}, {\"total_bill\": 15.69, \"tip\": 1.5, \"sex\": \"Male\", \"smoker\": \"Yes\", \"day\": \"Sun\", \"time\": \"Dinner\", \"size\": 2}, {\"total_bill\": 19.81, \"tip\": 4.19, \"sex\": \"Female\", \"smoker\": \"Yes\", \"day\": \"Thur\", \"time\": \"Lunch\", \"size\": 2}, {\"total_bill\": 28.44, \"tip\": 2.56, \"sex\": \"Male\", \"smoker\": \"Yes\", \"day\": \"Thur\", \"time\": \"Lunch\", \"size\": 2}, {\"total_bill\": 15.48, \"tip\": 2.02, \"sex\": \"Male\", \"smoker\": \"Yes\", \"day\": \"Thur\", \"time\": \"Lunch\", \"size\": 2}, {\"total_bill\": 16.58, \"tip\": 4.0, \"sex\": \"Male\", \"smoker\": \"Yes\", \"day\": \"Thur\", \"time\": \"Lunch\", \"size\": 2}, {\"total_bill\": 7.56, \"tip\": 1.44, \"sex\": \"Male\", \"smoker\": \"No\", \"day\": \"Thur\", \"time\": \"Lunch\", \"size\": 2}, {\"total_bill\": 10.34, \"tip\": 2.0, \"sex\": \"Male\", \"smoker\": \"Yes\", \"day\": \"Thur\", \"time\": \"Lunch\", \"size\": 2}, {\"total_bill\": 43.11, \"tip\": 5.0, \"sex\": \"Female\", \"smoker\": \"Yes\", \"day\": \"Thur\", \"time\": \"Lunch\", \"size\": 4}, {\"total_bill\": 13.0, \"tip\": 2.0, \"sex\": \"Female\", \"smoker\": \"Yes\", \"day\": \"Thur\", \"time\": \"Lunch\", \"size\": 2}, {\"total_bill\": 13.51, \"tip\": 2.0, \"sex\": \"Male\", \"smoker\": \"Yes\", \"day\": \"Thur\", \"time\": \"Lunch\", \"size\": 2}, {\"total_bill\": 18.71, \"tip\": 4.0, \"sex\": \"Male\", \"smoker\": \"Yes\", \"day\": \"Thur\", \"time\": \"Lunch\", \"size\": 3}, {\"total_bill\": 12.74, \"tip\": 2.01, \"sex\": \"Female\", \"smoker\": \"Yes\", \"day\": \"Thur\", \"time\": \"Lunch\", \"size\": 2}, {\"total_bill\": 13.0, \"tip\": 2.0, \"sex\": \"Female\", \"smoker\": \"Yes\", \"day\": \"Thur\", \"time\": \"Lunch\", \"size\": 2}, {\"total_bill\": 16.4, \"tip\": 2.5, \"sex\": \"Female\", \"smoker\": \"Yes\", \"day\": \"Thur\", \"time\": \"Lunch\", \"size\": 2}, {\"total_bill\": 20.53, \"tip\": 4.0, \"sex\": \"Male\", \"smoker\": \"Yes\", \"day\": \"Thur\", \"time\": \"Lunch\", \"size\": 4}, {\"total_bill\": 16.47, \"tip\": 3.23, \"sex\": \"Female\", \"smoker\": \"Yes\", \"day\": \"Thur\", \"time\": \"Lunch\", \"size\": 3}, {\"total_bill\": 26.59, \"tip\": 3.41, \"sex\": \"Male\", \"smoker\": \"Yes\", \"day\": \"Sat\", \"time\": \"Dinner\", \"size\": 3}, {\"total_bill\": 38.73, \"tip\": 3.0, \"sex\": \"Male\", \"smoker\": \"Yes\", \"day\": \"Sat\", \"time\": \"Dinner\", \"size\": 4}, {\"total_bill\": 24.27, \"tip\": 2.03, \"sex\": \"Male\", \"smoker\": \"Yes\", \"day\": \"Sat\", \"time\": \"Dinner\", \"size\": 2}, {\"total_bill\": 12.76, \"tip\": 2.23, \"sex\": \"Female\", \"smoker\": \"Yes\", \"day\": \"Sat\", \"time\": \"Dinner\", \"size\": 2}, {\"total_bill\": 30.06, \"tip\": 2.0, \"sex\": \"Male\", \"smoker\": \"Yes\", \"day\": \"Sat\", \"time\": \"Dinner\", \"size\": 3}, {\"total_bill\": 25.89, \"tip\": 5.16, \"sex\": \"Male\", \"smoker\": \"Yes\", \"day\": \"Sat\", \"time\": \"Dinner\", \"size\": 4}, {\"total_bill\": 48.33, \"tip\": 9.0, \"sex\": \"Male\", \"smoker\": \"No\", \"day\": \"Sat\", \"time\": \"Dinner\", \"size\": 4}, {\"total_bill\": 13.27, \"tip\": 2.5, \"sex\": \"Female\", \"smoker\": \"Yes\", \"day\": \"Sat\", \"time\": \"Dinner\", \"size\": 2}, {\"total_bill\": 28.17, \"tip\": 6.5, \"sex\": \"Female\", \"smoker\": \"Yes\", \"day\": \"Sat\", \"time\": \"Dinner\", \"size\": 3}, {\"total_bill\": 12.9, \"tip\": 1.1, \"sex\": \"Female\", \"smoker\": \"Yes\", \"day\": \"Sat\", \"time\": \"Dinner\", \"size\": 2}, {\"total_bill\": 28.15, \"tip\": 3.0, \"sex\": \"Male\", \"smoker\": \"Yes\", \"day\": \"Sat\", \"time\": \"Dinner\", \"size\": 5}, {\"total_bill\": 11.59, \"tip\": 1.5, \"sex\": \"Male\", \"smoker\": \"Yes\", \"day\": \"Sat\", \"time\": \"Dinner\", \"size\": 2}, {\"total_bill\": 7.74, \"tip\": 1.44, \"sex\": \"Male\", \"smoker\": \"Yes\", \"day\": \"Sat\", \"time\": \"Dinner\", \"size\": 2}, {\"total_bill\": 30.14, \"tip\": 3.09, \"sex\": \"Female\", \"smoker\": \"Yes\", \"day\": \"Sat\", \"time\": \"Dinner\", \"size\": 4}, {\"total_bill\": 12.16, \"tip\": 2.2, \"sex\": \"Male\", \"smoker\": \"Yes\", \"day\": \"Fri\", \"time\": \"Lunch\", \"size\": 2}, {\"total_bill\": 13.42, \"tip\": 3.48, \"sex\": \"Female\", \"smoker\": \"Yes\", \"day\": \"Fri\", \"time\": \"Lunch\", \"size\": 2}, {\"total_bill\": 8.58, \"tip\": 1.92, \"sex\": \"Male\", \"smoker\": \"Yes\", \"day\": \"Fri\", \"time\": \"Lunch\", \"size\": 1}, {\"total_bill\": 15.98, \"tip\": 3.0, \"sex\": \"Female\", \"smoker\": \"No\", \"day\": \"Fri\", \"time\": \"Lunch\", \"size\": 3}, {\"total_bill\": 13.42, \"tip\": 1.58, \"sex\": \"Male\", \"smoker\": \"Yes\", \"day\": \"Fri\", \"time\": \"Lunch\", \"size\": 2}, {\"total_bill\": 16.27, \"tip\": 2.5, \"sex\": \"Female\", \"smoker\": \"Yes\", \"day\": \"Fri\", \"time\": \"Lunch\", \"size\": 2}, {\"total_bill\": 10.09, \"tip\": 2.0, \"sex\": \"Female\", \"smoker\": \"Yes\", \"day\": \"Fri\", \"time\": \"Lunch\", \"size\": 2}, {\"total_bill\": 20.45, \"tip\": 3.0, \"sex\": \"Male\", \"smoker\": \"No\", \"day\": \"Sat\", \"time\": \"Dinner\", \"size\": 4}, {\"total_bill\": 13.28, \"tip\": 2.72, \"sex\": \"Male\", \"smoker\": \"No\", \"day\": \"Sat\", \"time\": \"Dinner\", \"size\": 2}, {\"total_bill\": 22.12, \"tip\": 2.88, \"sex\": \"Female\", \"smoker\": \"Yes\", \"day\": \"Sat\", \"time\": \"Dinner\", \"size\": 2}, {\"total_bill\": 24.01, \"tip\": 2.0, \"sex\": \"Male\", \"smoker\": \"Yes\", \"day\": \"Sat\", \"time\": \"Dinner\", \"size\": 4}, {\"total_bill\": 15.69, \"tip\": 3.0, \"sex\": \"Male\", \"smoker\": \"Yes\", \"day\": \"Sat\", \"time\": \"Dinner\", \"size\": 3}, {\"total_bill\": 11.61, \"tip\": 3.39, \"sex\": \"Male\", \"smoker\": \"No\", \"day\": \"Sat\", \"time\": \"Dinner\", \"size\": 2}, {\"total_bill\": 10.77, \"tip\": 1.47, \"sex\": \"Male\", \"smoker\": \"No\", \"day\": \"Sat\", \"time\": \"Dinner\", \"size\": 2}, {\"total_bill\": 15.53, \"tip\": 3.0, \"sex\": \"Male\", \"smoker\": \"Yes\", \"day\": \"Sat\", \"time\": \"Dinner\", \"size\": 2}, {\"total_bill\": 10.07, \"tip\": 1.25, \"sex\": \"Male\", \"smoker\": \"No\", \"day\": \"Sat\", \"time\": \"Dinner\", \"size\": 2}, {\"total_bill\": 12.6, \"tip\": 1.0, \"sex\": \"Male\", \"smoker\": \"Yes\", \"day\": \"Sat\", \"time\": \"Dinner\", \"size\": 2}, {\"total_bill\": 32.83, \"tip\": 1.17, \"sex\": \"Male\", \"smoker\": \"Yes\", \"day\": \"Sat\", \"time\": \"Dinner\", \"size\": 2}, {\"total_bill\": 35.83, \"tip\": 4.67, \"sex\": \"Female\", \"smoker\": \"No\", \"day\": \"Sat\", \"time\": \"Dinner\", \"size\": 3}, {\"total_bill\": 29.03, \"tip\": 5.92, \"sex\": \"Male\", \"smoker\": \"No\", \"day\": \"Sat\", \"time\": \"Dinner\", \"size\": 3}, {\"total_bill\": 27.18, \"tip\": 2.0, \"sex\": \"Female\", \"smoker\": \"Yes\", \"day\": \"Sat\", \"time\": \"Dinner\", \"size\": 2}, {\"total_bill\": 22.67, \"tip\": 2.0, \"sex\": \"Male\", \"smoker\": \"Yes\", \"day\": \"Sat\", \"time\": \"Dinner\", \"size\": 2}, {\"total_bill\": 17.82, \"tip\": 1.75, \"sex\": \"Male\", \"smoker\": \"No\", \"day\": \"Sat\", \"time\": \"Dinner\", \"size\": 2}, {\"total_bill\": 18.78, \"tip\": 3.0, \"sex\": \"Female\", \"smoker\": \"No\", \"day\": \"Thur\", \"time\": \"Dinner\", \"size\": 2}]}}, {\"mode\": \"vega-lite\"});\n",
       "</script>"
      ],
      "text/plain": [
       "alt.Chart(...)"
      ]
     },
     "execution_count": 41,
     "metadata": {},
     "output_type": "execute_result"
    }
   ],
   "source": [
    "# Boxplot (Altair)\n",
    "alt.Chart(tips).mark_boxplot().encode(\n",
    "    x=alt.X(\"tip:Q\"))"
   ]
  },
  {
   "cell_type": "code",
   "execution_count": 42,
   "metadata": {},
   "outputs": [
    {
     "data": {
      "text/plain": [
       "<AxesSubplot:xlabel='tip'>"
      ]
     },
     "execution_count": 42,
     "metadata": {},
     "output_type": "execute_result"
    },
    {
     "data": {
      "image/png": "[encoded data removed]",
      "text/plain": [
       "<Figure size 432x288 with 1 Axes>"
      ]
     },
     "metadata": {
      "needs_background": "light"
     },
     "output_type": "display_data"
    }
   ],
   "source": [
    "# Violin plot (Seaborn)\n",
    "sns.violinplot(data = tips, x = \"tip\")"
   ]
  },
  {
   "cell_type": "markdown",
   "metadata": {},
   "source": [
    "Hieronder tonen we een plot van de kansdichteit (kde of kernel density estimation)."
   ]
  },
  {
   "cell_type": "code",
   "execution_count": 43,
   "metadata": {},
   "outputs": [
    {
     "data": {
      "text/plain": [
       "<AxesSubplot:xlabel='tip', ylabel='Density'>"
      ]
     },
     "execution_count": 43,
     "metadata": {},
     "output_type": "execute_result"
    },
    {
     "data": {
      "image/png": "[encoded data removed]",
      "text/plain": [
       "<Figure size 432x288 with 1 Axes>"
      ]
     },
     "metadata": {
      "needs_background": "light"
     },
     "output_type": "display_data"
    }
   ],
   "source": [
    "sns.kdeplot(x = tips[\"tip\"])"
   ]
  },
  {
   "cell_type": "markdown",
   "metadata": {},
   "source": [
    "Gecombineerd met een histogram:"
   ]
  },
  {
   "cell_type": "code",
   "execution_count": 44,
   "metadata": {},
   "outputs": [
    {
     "data": {
      "text/plain": [
       "<seaborn.axisgrid.FacetGrid at 0x7fce4dad1720>"
      ]
     },
     "execution_count": 44,
     "metadata": {},
     "output_type": "execute_result"
    },
    {
     "data": {
      "image/png": "[encoded data removed]",
      "text/plain": [
       "<Figure size 360x360 with 1 Axes>"
      ]
     },
     "metadata": {
      "needs_background": "light"
     },
     "output_type": "display_data"
    }
   ],
   "source": [
    "sns.displot(x = tips['tip'], kde=True)"
   ]
  },
  {
   "cell_type": "markdown",
   "metadata": {},
   "source": [
    "Een histogram met Altair. Een kansdichtheidsplot kan niet met Altair."
   ]
  },
  {
   "cell_type": "code",
   "execution_count": 45,
   "metadata": {},
   "outputs": [
    {
     "data": {
      "text/html": [
       "\n",
       "<div id=\"altair-viz-ce78c35bddcb419d83a57595a8088689\"></div>\n",
       "<script type=\"text/javascript\">\n",
       "  (function(spec, embedOpt){\n",
       "    let outputDiv = document.currentScript.previousElementSibling;\n",
       "    if (outputDiv.id !== \"altair-viz-ce78c35bddcb419d83a57595a8088689\") {\n",
       "      outputDiv = document.getElementById(\"altair-viz-ce78c35bddcb419d83a57595a8088689\");\n",
       "    }\n",
       "    const paths = {\n",
       "      \"vega\": \"https://cdn.jsdelivr.net/npm//vega@5?noext\",\n",
       "      \"vega-lib\": \"https://cdn.jsdelivr.net/npm//vega-lib?noext\",\n",
       "      \"vega-lite\": \"https://cdn.jsdelivr.net/npm//vega-lite@4.8.1?noext\",\n",
       "      \"vega-embed\": \"https://cdn.jsdelivr.net/npm//vega-embed@6?noext\",\n",
       "    };\n",
       "\n",
       "    function loadScript(lib) {\n",
       "      return new Promise(function(resolve, reject) {\n",
       "        var s = document.createElement('script');\n",
       "        s.src = paths[lib];\n",
       "        s.async = true;\n",
       "        s.onload = () => resolve(paths[lib]);\n",
       "        s.onerror = () => reject(`Error loading script: ${paths[lib]}`);\n",
       "        document.getElementsByTagName(\"head\")[0].appendChild(s);\n",
       "      });\n",
       "    }\n",
       "\n",
       "    function showError(err) {\n",
       "      outputDiv.innerHTML = `<div class=\"error\" style=\"color:red;\">${err}</div>`;\n",
       "      throw err;\n",
       "    }\n",
       "\n",
       "    function displayChart(vegaEmbed) {\n",
       "      vegaEmbed(outputDiv, spec, embedOpt)\n",
       "        .catch(err => showError(`Javascript Error: ${err.message}<br>This usually means there's a typo in your chart specification. See the javascript console for the full traceback.`));\n",
       "    }\n",
       "\n",
       "    if(typeof define === \"function\" && define.amd) {\n",
       "      requirejs.config({paths});\n",
       "      require([\"vega-embed\"], displayChart, err => showError(`Error loading script: ${err.message}`));\n",
       "    } else if (typeof vegaEmbed === \"function\") {\n",
       "      displayChart(vegaEmbed);\n",
       "    } else {\n",
       "      loadScript(\"vega\")\n",
       "        .then(() => loadScript(\"vega-lite\"))\n",
       "        .then(() => loadScript(\"vega-embed\"))\n",
       "        .catch(showError)\n",
       "        .then(() => displayChart(vegaEmbed));\n",
       "    }\n",
       "  })({\"config\": {\"view\": {\"continuousWidth\": 400, \"continuousHeight\": 300}}, \"data\": {\"name\": \"data-362d1a3aede62850ce7cd49b1d5f5d1d\"}, \"mark\": \"bar\", \"encoding\": {\"x\": {\"type\": \"quantitative\", \"bin\": true, \"field\": \"tip\"}, \"y\": {\"type\": \"quantitative\", \"aggregate\": \"count\"}}, \"$schema\": \"https://vega.github.io/schema/vega-lite/v4.8.1.json\", \"datasets\": {\"data-362d1a3aede62850ce7cd49b1d5f5d1d\": [{\"total_bill\": 16.99, \"tip\": 1.01, \"sex\": \"Female\", \"smoker\": \"No\", \"day\": \"Sun\", \"time\": \"Dinner\", \"size\": 2}, {\"total_bill\": 10.34, \"tip\": 1.66, \"sex\": \"Male\", \"smoker\": \"No\", \"day\": \"Sun\", \"time\": \"Dinner\", \"size\": 3}, {\"total_bill\": 21.01, \"tip\": 3.5, \"sex\": \"Male\", \"smoker\": \"No\", \"day\": \"Sun\", \"time\": \"Dinner\", \"size\": 3}, {\"total_bill\": 23.68, \"tip\": 3.31, \"sex\": \"Male\", \"smoker\": \"No\", \"day\": \"Sun\", \"time\": \"Dinner\", \"size\": 2}, {\"total_bill\": 24.59, \"tip\": 3.61, \"sex\": \"Female\", \"smoker\": \"No\", \"day\": \"Sun\", \"time\": \"Dinner\", \"size\": 4}, {\"total_bill\": 25.29, \"tip\": 4.71, \"sex\": \"Male\", \"smoker\": \"No\", \"day\": \"Sun\", \"time\": \"Dinner\", \"size\": 4}, {\"total_bill\": 8.77, \"tip\": 2.0, \"sex\": \"Male\", \"smoker\": \"No\", \"day\": \"Sun\", \"time\": \"Dinner\", \"size\": 2}, {\"total_bill\": 26.88, \"tip\": 3.12, \"sex\": \"Male\", \"smoker\": \"No\", \"day\": \"Sun\", \"time\": \"Dinner\", \"size\": 4}, {\"total_bill\": 15.04, \"tip\": 1.96, \"sex\": \"Male\", \"smoker\": \"No\", \"day\": \"Sun\", \"time\": \"Dinner\", \"size\": 2}, {\"total_bill\": 14.78, \"tip\": 3.23, \"sex\": \"Male\", \"smoker\": \"No\", \"day\": \"Sun\", \"time\": \"Dinner\", \"size\": 2}, {\"total_bill\": 10.27, \"tip\": 1.71, \"sex\": \"Male\", \"smoker\": \"No\", \"day\": \"Sun\", \"time\": \"Dinner\", \"size\": 2}, {\"total_bill\": 35.26, \"tip\": 5.0, \"sex\": \"Female\", \"smoker\": \"No\", \"day\": \"Sun\", \"time\": \"Dinner\", \"size\": 4}, {\"total_bill\": 15.42, \"tip\": 1.57, \"sex\": \"Male\", \"smoker\": \"No\", \"day\": \"Sun\", \"time\": \"Dinner\", \"size\": 2}, {\"total_bill\": 18.43, \"tip\": 3.0, \"sex\": \"Male\", \"smoker\": \"No\", \"day\": \"Sun\", \"time\": \"Dinner\", \"size\": 4}, {\"total_bill\": 14.83, \"tip\": 3.02, \"sex\": \"Female\", \"smoker\": \"No\", \"day\": \"Sun\", \"time\": \"Dinner\", \"size\": 2}, {\"total_bill\": 21.58, \"tip\": 3.92, \"sex\": \"Male\", \"smoker\": \"No\", \"day\": \"Sun\", \"time\": \"Dinner\", \"size\": 2}, {\"total_bill\": 10.33, \"tip\": 1.67, \"sex\": \"Female\", \"smoker\": \"No\", \"day\": \"Sun\", \"time\": \"Dinner\", \"size\": 3}, {\"total_bill\": 16.29, \"tip\": 3.71, \"sex\": \"Male\", \"smoker\": \"No\", \"day\": \"Sun\", \"time\": \"Dinner\", \"size\": 3}, {\"total_bill\": 16.97, \"tip\": 3.5, \"sex\": \"Female\", \"smoker\": \"No\", \"day\": \"Sun\", \"time\": \"Dinner\", \"size\": 3}, {\"total_bill\": 20.65, \"tip\": 3.35, \"sex\": \"Male\", \"smoker\": \"No\", \"day\": \"Sat\", \"time\": \"Dinner\", \"size\": 3}, {\"total_bill\": 17.92, \"tip\": 4.08, \"sex\": \"Male\", \"smoker\": \"No\", \"day\": \"Sat\", \"time\": \"Dinner\", \"size\": 2}, {\"total_bill\": 20.29, \"tip\": 2.75, \"sex\": \"Female\", \"smoker\": \"No\", \"day\": \"Sat\", \"time\": \"Dinner\", \"size\": 2}, {\"total_bill\": 15.77, \"tip\": 2.23, \"sex\": \"Female\", \"smoker\": \"No\", \"day\": \"Sat\", \"time\": \"Dinner\", \"size\": 2}, {\"total_bill\": 39.42, \"tip\": 7.58, \"sex\": \"Male\", \"smoker\": \"No\", \"day\": \"Sat\", \"time\": \"Dinner\", \"size\": 4}, {\"total_bill\": 19.82, \"tip\": 3.18, \"sex\": \"Male\", \"smoker\": \"No\", \"day\": \"Sat\", \"time\": \"Dinner\", \"size\": 2}, {\"total_bill\": 17.81, \"tip\": 2.34, \"sex\": \"Male\", \"smoker\": \"No\", \"day\": \"Sat\", \"time\": \"Dinner\", \"size\": 4}, {\"total_bill\": 13.37, \"tip\": 2.0, \"sex\": \"Male\", \"smoker\": \"No\", \"day\": \"Sat\", \"time\": \"Dinner\", \"size\": 2}, {\"total_bill\": 12.69, \"tip\": 2.0, \"sex\": \"Male\", \"smoker\": \"No\", \"day\": \"Sat\", \"time\": \"Dinner\", \"size\": 2}, {\"total_bill\": 21.7, \"tip\": 4.3, \"sex\": \"Male\", \"smoker\": \"No\", \"day\": \"Sat\", \"time\": \"Dinner\", \"size\": 2}, {\"total_bill\": 19.65, \"tip\": 3.0, \"sex\": \"Female\", \"smoker\": \"No\", \"day\": \"Sat\", \"time\": \"Dinner\", \"size\": 2}, {\"total_bill\": 9.55, \"tip\": 1.45, \"sex\": \"Male\", \"smoker\": \"No\", \"day\": \"Sat\", \"time\": \"Dinner\", \"size\": 2}, {\"total_bill\": 18.35, \"tip\": 2.5, \"sex\": \"Male\", \"smoker\": \"No\", \"day\": \"Sat\", \"time\": \"Dinner\", \"size\": 4}, {\"total_bill\": 15.06, \"tip\": 3.0, \"sex\": \"Female\", \"smoker\": \"No\", \"day\": \"Sat\", \"time\": \"Dinner\", \"size\": 2}, {\"total_bill\": 20.69, \"tip\": 2.45, \"sex\": \"Female\", \"smoker\": \"No\", \"day\": \"Sat\", \"time\": \"Dinner\", \"size\": 4}, {\"total_bill\": 17.78, \"tip\": 3.27, \"sex\": \"Male\", \"smoker\": \"No\", \"day\": \"Sat\", \"time\": \"Dinner\", \"size\": 2}, {\"total_bill\": 24.06, \"tip\": 3.6, \"sex\": \"Male\", \"smoker\": \"No\", \"day\": \"Sat\", \"time\": \"Dinner\", \"size\": 3}, {\"total_bill\": 16.31, \"tip\": 2.0, \"sex\": \"Male\", \"smoker\": \"No\", \"day\": \"Sat\", \"time\": \"Dinner\", \"size\": 3}, {\"total_bill\": 16.93, \"tip\": 3.07, \"sex\": \"Female\", \"smoker\": \"No\", \"day\": \"Sat\", \"time\": \"Dinner\", \"size\": 3}, {\"total_bill\": 18.69, \"tip\": 2.31, \"sex\": \"Male\", \"smoker\": \"No\", \"day\": \"Sat\", \"time\": \"Dinner\", \"size\": 3}, {\"total_bill\": 31.27, \"tip\": 5.0, \"sex\": \"Male\", \"smoker\": \"No\", \"day\": \"Sat\", \"time\": \"Dinner\", \"size\": 3}, {\"total_bill\": 16.04, \"tip\": 2.24, \"sex\": \"Male\", \"smoker\": \"No\", \"day\": \"Sat\", \"time\": \"Dinner\", \"size\": 3}, {\"total_bill\": 17.46, \"tip\": 2.54, \"sex\": \"Male\", \"smoker\": \"No\", \"day\": \"Sun\", \"time\": \"Dinner\", \"size\": 2}, {\"total_bill\": 13.94, \"tip\": 3.06, \"sex\": \"Male\", \"smoker\": \"No\", \"day\": \"Sun\", \"time\": \"Dinner\", \"size\": 2}, {\"total_bill\": 9.68, \"tip\": 1.32, \"sex\": \"Male\", \"smoker\": \"No\", \"day\": \"Sun\", \"time\": \"Dinner\", \"size\": 2}, {\"total_bill\": 30.4, \"tip\": 5.6, \"sex\": \"Male\", \"smoker\": \"No\", \"day\": \"Sun\", \"time\": \"Dinner\", \"size\": 4}, {\"total_bill\": 18.29, \"tip\": 3.0, \"sex\": \"Male\", \"smoker\": \"No\", \"day\": \"Sun\", \"time\": \"Dinner\", \"size\": 2}, {\"total_bill\": 22.23, \"tip\": 5.0, \"sex\": \"Male\", \"smoker\": \"No\", \"day\": \"Sun\", \"time\": \"Dinner\", \"size\": 2}, {\"total_bill\": 32.4, \"tip\": 6.0, \"sex\": \"Male\", \"smoker\": \"No\", \"day\": \"Sun\", \"time\": \"Dinner\", \"size\": 4}, {\"total_bill\": 28.55, \"tip\": 2.05, \"sex\": \"Male\", \"smoker\": \"No\", \"day\": \"Sun\", \"time\": \"Dinner\", \"size\": 3}, {\"total_bill\": 18.04, \"tip\": 3.0, \"sex\": \"Male\", \"smoker\": \"No\", \"day\": \"Sun\", \"time\": \"Dinner\", \"size\": 2}, {\"total_bill\": 12.54, \"tip\": 2.5, \"sex\": \"Male\", \"smoker\": \"No\", \"day\": \"Sun\", \"time\": \"Dinner\", \"size\": 2}, {\"total_bill\": 10.29, \"tip\": 2.6, \"sex\": \"Female\", \"smoker\": \"No\", \"day\": \"Sun\", \"time\": \"Dinner\", \"size\": 2}, {\"total_bill\": 34.81, \"tip\": 5.2, \"sex\": \"Female\", \"smoker\": \"No\", \"day\": \"Sun\", \"time\": \"Dinner\", \"size\": 4}, {\"total_bill\": 9.94, \"tip\": 1.56, \"sex\": \"Male\", \"smoker\": \"No\", \"day\": \"Sun\", \"time\": \"Dinner\", \"size\": 2}, {\"total_bill\": 25.56, \"tip\": 4.34, \"sex\": \"Male\", \"smoker\": \"No\", \"day\": \"Sun\", \"time\": \"Dinner\", \"size\": 4}, {\"total_bill\": 19.49, \"tip\": 3.51, \"sex\": \"Male\", \"smoker\": \"No\", \"day\": \"Sun\", \"time\": \"Dinner\", \"size\": 2}, {\"total_bill\": 38.01, \"tip\": 3.0, \"sex\": \"Male\", \"smoker\": \"Yes\", \"day\": \"Sat\", \"time\": \"Dinner\", \"size\": 4}, {\"total_bill\": 26.41, \"tip\": 1.5, \"sex\": \"Female\", \"smoker\": \"No\", \"day\": \"Sat\", \"time\": \"Dinner\", \"size\": 2}, {\"total_bill\": 11.24, \"tip\": 1.76, \"sex\": \"Male\", \"smoker\": \"Yes\", \"day\": \"Sat\", \"time\": \"Dinner\", \"size\": 2}, {\"total_bill\": 48.27, \"tip\": 6.73, \"sex\": \"Male\", \"smoker\": \"No\", \"day\": \"Sat\", \"time\": \"Dinner\", \"size\": 4}, {\"total_bill\": 20.29, \"tip\": 3.21, \"sex\": \"Male\", \"smoker\": \"Yes\", \"day\": \"Sat\", \"time\": \"Dinner\", \"size\": 2}, {\"total_bill\": 13.81, \"tip\": 2.0, \"sex\": \"Male\", \"smoker\": \"Yes\", \"day\": \"Sat\", \"time\": \"Dinner\", \"size\": 2}, {\"total_bill\": 11.02, \"tip\": 1.98, \"sex\": \"Male\", \"smoker\": \"Yes\", \"day\": \"Sat\", \"time\": \"Dinner\", \"size\": 2}, {\"total_bill\": 18.29, \"tip\": 3.76, \"sex\": \"Male\", \"smoker\": \"Yes\", \"day\": \"Sat\", \"time\": \"Dinner\", \"size\": 4}, {\"total_bill\": 17.59, \"tip\": 2.64, \"sex\": \"Male\", \"smoker\": \"No\", \"day\": \"Sat\", \"time\": \"Dinner\", \"size\": 3}, {\"total_bill\": 20.08, \"tip\": 3.15, \"sex\": \"Male\", \"smoker\": \"No\", \"day\": \"Sat\", \"time\": \"Dinner\", \"size\": 3}, {\"total_bill\": 16.45, \"tip\": 2.47, \"sex\": \"Female\", \"smoker\": \"No\", \"day\": \"Sat\", \"time\": \"Dinner\", \"size\": 2}, {\"total_bill\": 3.07, \"tip\": 1.0, \"sex\": \"Female\", \"smoker\": \"Yes\", \"day\": \"Sat\", \"time\": \"Dinner\", \"size\": 1}, {\"total_bill\": 20.23, \"tip\": 2.01, \"sex\": \"Male\", \"smoker\": \"No\", \"day\": \"Sat\", \"time\": \"Dinner\", \"size\": 2}, {\"total_bill\": 15.01, \"tip\": 2.09, \"sex\": \"Male\", \"smoker\": \"Yes\", \"day\": \"Sat\", \"time\": \"Dinner\", \"size\": 2}, {\"total_bill\": 12.02, \"tip\": 1.97, \"sex\": \"Male\", \"smoker\": \"No\", \"day\": \"Sat\", \"time\": \"Dinner\", \"size\": 2}, {\"total_bill\": 17.07, \"tip\": 3.0, \"sex\": \"Female\", \"smoker\": \"No\", \"day\": \"Sat\", \"time\": \"Dinner\", \"size\": 3}, {\"total_bill\": 26.86, \"tip\": 3.14, \"sex\": \"Female\", \"smoker\": \"Yes\", \"day\": \"Sat\", \"time\": \"Dinner\", \"size\": 2}, {\"total_bill\": 25.28, \"tip\": 5.0, \"sex\": \"Female\", \"smoker\": \"Yes\", \"day\": \"Sat\", \"time\": \"Dinner\", \"size\": 2}, {\"total_bill\": 14.73, \"tip\": 2.2, \"sex\": \"Female\", \"smoker\": \"No\", \"day\": \"Sat\", \"time\": \"Dinner\", \"size\": 2}, {\"total_bill\": 10.51, \"tip\": 1.25, \"sex\": \"Male\", \"smoker\": \"No\", \"day\": \"Sat\", \"time\": \"Dinner\", \"size\": 2}, {\"total_bill\": 17.92, \"tip\": 3.08, \"sex\": \"Male\", \"smoker\": \"Yes\", \"day\": \"Sat\", \"time\": \"Dinner\", \"size\": 2}, {\"total_bill\": 27.2, \"tip\": 4.0, \"sex\": \"Male\", \"smoker\": \"No\", \"day\": \"Thur\", \"time\": \"Lunch\", \"size\": 4}, {\"total_bill\": 22.76, \"tip\": 3.0, \"sex\": \"Male\", \"smoker\": \"No\", \"day\": \"Thur\", \"time\": \"Lunch\", \"size\": 2}, {\"total_bill\": 17.29, \"tip\": 2.71, \"sex\": \"Male\", \"smoker\": \"No\", \"day\": \"Thur\", \"time\": \"Lunch\", \"size\": 2}, {\"total_bill\": 19.44, \"tip\": 3.0, \"sex\": \"Male\", \"smoker\": \"Yes\", \"day\": \"Thur\", \"time\": \"Lunch\", \"size\": 2}, {\"total_bill\": 16.66, \"tip\": 3.4, \"sex\": \"Male\", \"smoker\": \"No\", \"day\": \"Thur\", \"time\": \"Lunch\", \"size\": 2}, {\"total_bill\": 10.07, \"tip\": 1.83, \"sex\": \"Female\", \"smoker\": \"No\", \"day\": \"Thur\", \"time\": \"Lunch\", \"size\": 1}, {\"total_bill\": 32.68, \"tip\": 5.0, \"sex\": \"Male\", \"smoker\": \"Yes\", \"day\": \"Thur\", \"time\": \"Lunch\", \"size\": 2}, {\"total_bill\": 15.98, \"tip\": 2.03, \"sex\": \"Male\", \"smoker\": \"No\", \"day\": \"Thur\", \"time\": \"Lunch\", \"size\": 2}, {\"total_bill\": 34.83, \"tip\": 5.17, \"sex\": \"Female\", \"smoker\": \"No\", \"day\": \"Thur\", \"time\": \"Lunch\", \"size\": 4}, {\"total_bill\": 13.03, \"tip\": 2.0, \"sex\": \"Male\", \"smoker\": \"No\", \"day\": \"Thur\", \"time\": \"Lunch\", \"size\": 2}, {\"total_bill\": 18.28, \"tip\": 4.0, \"sex\": \"Male\", \"smoker\": \"No\", \"day\": \"Thur\", \"time\": \"Lunch\", \"size\": 2}, {\"total_bill\": 24.71, \"tip\": 5.85, \"sex\": \"Male\", \"smoker\": \"No\", \"day\": \"Thur\", \"time\": \"Lunch\", \"size\": 2}, {\"total_bill\": 21.16, \"tip\": 3.0, \"sex\": \"Male\", \"smoker\": \"No\", \"day\": \"Thur\", \"time\": \"Lunch\", \"size\": 2}, {\"total_bill\": 28.97, \"tip\": 3.0, \"sex\": \"Male\", \"smoker\": \"Yes\", \"day\": \"Fri\", \"time\": \"Dinner\", \"size\": 2}, {\"total_bill\": 22.49, \"tip\": 3.5, \"sex\": \"Male\", \"smoker\": \"No\", \"day\": \"Fri\", \"time\": \"Dinner\", \"size\": 2}, {\"total_bill\": 5.75, \"tip\": 1.0, \"sex\": \"Female\", \"smoker\": \"Yes\", \"day\": \"Fri\", \"time\": \"Dinner\", \"size\": 2}, {\"total_bill\": 16.32, \"tip\": 4.3, \"sex\": \"Female\", \"smoker\": \"Yes\", \"day\": \"Fri\", \"time\": \"Dinner\", \"size\": 2}, {\"total_bill\": 22.75, \"tip\": 3.25, \"sex\": \"Female\", \"smoker\": \"No\", \"day\": \"Fri\", \"time\": \"Dinner\", \"size\": 2}, {\"total_bill\": 40.17, \"tip\": 4.73, \"sex\": \"Male\", \"smoker\": \"Yes\", \"day\": \"Fri\", \"time\": \"Dinner\", \"size\": 4}, {\"total_bill\": 27.28, \"tip\": 4.0, \"sex\": \"Male\", \"smoker\": \"Yes\", \"day\": \"Fri\", \"time\": \"Dinner\", \"size\": 2}, {\"total_bill\": 12.03, \"tip\": 1.5, \"sex\": \"Male\", \"smoker\": \"Yes\", \"day\": \"Fri\", \"time\": \"Dinner\", \"size\": 2}, {\"total_bill\": 21.01, \"tip\": 3.0, \"sex\": \"Male\", \"smoker\": \"Yes\", \"day\": \"Fri\", \"time\": \"Dinner\", \"size\": 2}, {\"total_bill\": 12.46, \"tip\": 1.5, \"sex\": \"Male\", \"smoker\": \"No\", \"day\": \"Fri\", \"time\": \"Dinner\", \"size\": 2}, {\"total_bill\": 11.35, \"tip\": 2.5, \"sex\": \"Female\", \"smoker\": \"Yes\", \"day\": \"Fri\", \"time\": \"Dinner\", \"size\": 2}, {\"total_bill\": 15.38, \"tip\": 3.0, \"sex\": \"Female\", \"smoker\": \"Yes\", \"day\": \"Fri\", \"time\": \"Dinner\", \"size\": 2}, {\"total_bill\": 44.3, \"tip\": 2.5, \"sex\": \"Female\", \"smoker\": \"Yes\", \"day\": \"Sat\", \"time\": \"Dinner\", \"size\": 3}, {\"total_bill\": 22.42, \"tip\": 3.48, \"sex\": \"Female\", \"smoker\": \"Yes\", \"day\": \"Sat\", \"time\": \"Dinner\", \"size\": 2}, {\"total_bill\": 20.92, \"tip\": 4.08, \"sex\": \"Female\", \"smoker\": \"No\", \"day\": \"Sat\", \"time\": \"Dinner\", \"size\": 2}, {\"total_bill\": 15.36, \"tip\": 1.64, \"sex\": \"Male\", \"smoker\": \"Yes\", \"day\": \"Sat\", \"time\": \"Dinner\", \"size\": 2}, {\"total_bill\": 20.49, \"tip\": 4.06, \"sex\": \"Male\", \"smoker\": \"Yes\", \"day\": \"Sat\", \"time\": \"Dinner\", \"size\": 2}, {\"total_bill\": 25.21, \"tip\": 4.29, \"sex\": \"Male\", \"smoker\": \"Yes\", \"day\": \"Sat\", \"time\": \"Dinner\", \"size\": 2}, {\"total_bill\": 18.24, \"tip\": 3.76, \"sex\": \"Male\", \"smoker\": \"No\", \"day\": \"Sat\", \"time\": \"Dinner\", \"size\": 2}, {\"total_bill\": 14.31, \"tip\": 4.0, \"sex\": \"Female\", \"smoker\": \"Yes\", \"day\": \"Sat\", \"time\": \"Dinner\", \"size\": 2}, {\"total_bill\": 14.0, \"tip\": 3.0, \"sex\": \"Male\", \"smoker\": \"No\", \"day\": \"Sat\", \"time\": \"Dinner\", \"size\": 2}, {\"total_bill\": 7.25, \"tip\": 1.0, \"sex\": \"Female\", \"smoker\": \"No\", \"day\": \"Sat\", \"time\": \"Dinner\", \"size\": 1}, {\"total_bill\": 38.07, \"tip\": 4.0, \"sex\": \"Male\", \"smoker\": \"No\", \"day\": \"Sun\", \"time\": \"Dinner\", \"size\": 3}, {\"total_bill\": 23.95, \"tip\": 2.55, \"sex\": \"Male\", \"smoker\": \"No\", \"day\": \"Sun\", \"time\": \"Dinner\", \"size\": 2}, {\"total_bill\": 25.71, \"tip\": 4.0, \"sex\": \"Female\", \"smoker\": \"No\", \"day\": \"Sun\", \"time\": \"Dinner\", \"size\": 3}, {\"total_bill\": 17.31, \"tip\": 3.5, \"sex\": \"Female\", \"smoker\": \"No\", \"day\": \"Sun\", \"time\": \"Dinner\", \"size\": 2}, {\"total_bill\": 29.93, \"tip\": 5.07, \"sex\": \"Male\", \"smoker\": \"No\", \"day\": \"Sun\", \"time\": \"Dinner\", \"size\": 4}, {\"total_bill\": 10.65, \"tip\": 1.5, \"sex\": \"Female\", \"smoker\": \"No\", \"day\": \"Thur\", \"time\": \"Lunch\", \"size\": 2}, {\"total_bill\": 12.43, \"tip\": 1.8, \"sex\": \"Female\", \"smoker\": \"No\", \"day\": \"Thur\", \"time\": \"Lunch\", \"size\": 2}, {\"total_bill\": 24.08, \"tip\": 2.92, \"sex\": \"Female\", \"smoker\": \"No\", \"day\": \"Thur\", \"time\": \"Lunch\", \"size\": 4}, {\"total_bill\": 11.69, \"tip\": 2.31, \"sex\": \"Male\", \"smoker\": \"No\", \"day\": \"Thur\", \"time\": \"Lunch\", \"size\": 2}, {\"total_bill\": 13.42, \"tip\": 1.68, \"sex\": \"Female\", \"smoker\": \"No\", \"day\": \"Thur\", \"time\": \"Lunch\", \"size\": 2}, {\"total_bill\": 14.26, \"tip\": 2.5, \"sex\": \"Male\", \"smoker\": \"No\", \"day\": \"Thur\", \"time\": \"Lunch\", \"size\": 2}, {\"total_bill\": 15.95, \"tip\": 2.0, \"sex\": \"Male\", \"smoker\": \"No\", \"day\": \"Thur\", \"time\": \"Lunch\", \"size\": 2}, {\"total_bill\": 12.48, \"tip\": 2.52, \"sex\": \"Female\", \"smoker\": \"No\", \"day\": \"Thur\", \"time\": \"Lunch\", \"size\": 2}, {\"total_bill\": 29.8, \"tip\": 4.2, \"sex\": \"Female\", \"smoker\": \"No\", \"day\": \"Thur\", \"time\": \"Lunch\", \"size\": 6}, {\"total_bill\": 8.52, \"tip\": 1.48, \"sex\": \"Male\", \"smoker\": \"No\", \"day\": \"Thur\", \"time\": \"Lunch\", \"size\": 2}, {\"total_bill\": 14.52, \"tip\": 2.0, \"sex\": \"Female\", \"smoker\": \"No\", \"day\": \"Thur\", \"time\": \"Lunch\", \"size\": 2}, {\"total_bill\": 11.38, \"tip\": 2.0, \"sex\": \"Female\", \"smoker\": \"No\", \"day\": \"Thur\", \"time\": \"Lunch\", \"size\": 2}, {\"total_bill\": 22.82, \"tip\": 2.18, \"sex\": \"Male\", \"smoker\": \"No\", \"day\": \"Thur\", \"time\": \"Lunch\", \"size\": 3}, {\"total_bill\": 19.08, \"tip\": 1.5, \"sex\": \"Male\", \"smoker\": \"No\", \"day\": \"Thur\", \"time\": \"Lunch\", \"size\": 2}, {\"total_bill\": 20.27, \"tip\": 2.83, \"sex\": \"Female\", \"smoker\": \"No\", \"day\": \"Thur\", \"time\": \"Lunch\", \"size\": 2}, {\"total_bill\": 11.17, \"tip\": 1.5, \"sex\": \"Female\", \"smoker\": \"No\", \"day\": \"Thur\", \"time\": \"Lunch\", \"size\": 2}, {\"total_bill\": 12.26, \"tip\": 2.0, \"sex\": \"Female\", \"smoker\": \"No\", \"day\": \"Thur\", \"time\": \"Lunch\", \"size\": 2}, {\"total_bill\": 18.26, \"tip\": 3.25, \"sex\": \"Female\", \"smoker\": \"No\", \"day\": \"Thur\", \"time\": \"Lunch\", \"size\": 2}, {\"total_bill\": 8.51, \"tip\": 1.25, \"sex\": \"Female\", \"smoker\": \"No\", \"day\": \"Thur\", \"time\": \"Lunch\", \"size\": 2}, {\"total_bill\": 10.33, \"tip\": 2.0, \"sex\": \"Female\", \"smoker\": \"No\", \"day\": \"Thur\", \"time\": \"Lunch\", \"size\": 2}, {\"total_bill\": 14.15, \"tip\": 2.0, \"sex\": \"Female\", \"smoker\": \"No\", \"day\": \"Thur\", \"time\": \"Lunch\", \"size\": 2}, {\"total_bill\": 16.0, \"tip\": 2.0, \"sex\": \"Male\", \"smoker\": \"Yes\", \"day\": \"Thur\", \"time\": \"Lunch\", \"size\": 2}, {\"total_bill\": 13.16, \"tip\": 2.75, \"sex\": \"Female\", \"smoker\": \"No\", \"day\": \"Thur\", \"time\": \"Lunch\", \"size\": 2}, {\"total_bill\": 17.47, \"tip\": 3.5, \"sex\": \"Female\", \"smoker\": \"No\", \"day\": \"Thur\", \"time\": \"Lunch\", \"size\": 2}, {\"total_bill\": 34.3, \"tip\": 6.7, \"sex\": \"Male\", \"smoker\": \"No\", \"day\": \"Thur\", \"time\": \"Lunch\", \"size\": 6}, {\"total_bill\": 41.19, \"tip\": 5.0, \"sex\": \"Male\", \"smoker\": \"No\", \"day\": \"Thur\", \"time\": \"Lunch\", \"size\": 5}, {\"total_bill\": 27.05, \"tip\": 5.0, \"sex\": \"Female\", \"smoker\": \"No\", \"day\": \"Thur\", \"time\": \"Lunch\", \"size\": 6}, {\"total_bill\": 16.43, \"tip\": 2.3, \"sex\": \"Female\", \"smoker\": \"No\", \"day\": \"Thur\", \"time\": \"Lunch\", \"size\": 2}, {\"total_bill\": 8.35, \"tip\": 1.5, \"sex\": \"Female\", \"smoker\": \"No\", \"day\": \"Thur\", \"time\": \"Lunch\", \"size\": 2}, {\"total_bill\": 18.64, \"tip\": 1.36, \"sex\": \"Female\", \"smoker\": \"No\", \"day\": \"Thur\", \"time\": \"Lunch\", \"size\": 3}, {\"total_bill\": 11.87, \"tip\": 1.63, \"sex\": \"Female\", \"smoker\": \"No\", \"day\": \"Thur\", \"time\": \"Lunch\", \"size\": 2}, {\"total_bill\": 9.78, \"tip\": 1.73, \"sex\": \"Male\", \"smoker\": \"No\", \"day\": \"Thur\", \"time\": \"Lunch\", \"size\": 2}, {\"total_bill\": 7.51, \"tip\": 2.0, \"sex\": \"Male\", \"smoker\": \"No\", \"day\": \"Thur\", \"time\": \"Lunch\", \"size\": 2}, {\"total_bill\": 14.07, \"tip\": 2.5, \"sex\": \"Male\", \"smoker\": \"No\", \"day\": \"Sun\", \"time\": \"Dinner\", \"size\": 2}, {\"total_bill\": 13.13, \"tip\": 2.0, \"sex\": \"Male\", \"smoker\": \"No\", \"day\": \"Sun\", \"time\": \"Dinner\", \"size\": 2}, {\"total_bill\": 17.26, \"tip\": 2.74, \"sex\": \"Male\", \"smoker\": \"No\", \"day\": \"Sun\", \"time\": \"Dinner\", \"size\": 3}, {\"total_bill\": 24.55, \"tip\": 2.0, \"sex\": \"Male\", \"smoker\": \"No\", \"day\": \"Sun\", \"time\": \"Dinner\", \"size\": 4}, {\"total_bill\": 19.77, \"tip\": 2.0, \"sex\": \"Male\", \"smoker\": \"No\", \"day\": \"Sun\", \"time\": \"Dinner\", \"size\": 4}, {\"total_bill\": 29.85, \"tip\": 5.14, \"sex\": \"Female\", \"smoker\": \"No\", \"day\": \"Sun\", \"time\": \"Dinner\", \"size\": 5}, {\"total_bill\": 48.17, \"tip\": 5.0, \"sex\": \"Male\", \"smoker\": \"No\", \"day\": \"Sun\", \"time\": \"Dinner\", \"size\": 6}, {\"total_bill\": 25.0, \"tip\": 3.75, \"sex\": \"Female\", \"smoker\": \"No\", \"day\": \"Sun\", \"time\": \"Dinner\", \"size\": 4}, {\"total_bill\": 13.39, \"tip\": 2.61, \"sex\": \"Female\", \"smoker\": \"No\", \"day\": \"Sun\", \"time\": \"Dinner\", \"size\": 2}, {\"total_bill\": 16.49, \"tip\": 2.0, \"sex\": \"Male\", \"smoker\": \"No\", \"day\": \"Sun\", \"time\": \"Dinner\", \"size\": 4}, {\"total_bill\": 21.5, \"tip\": 3.5, \"sex\": \"Male\", \"smoker\": \"No\", \"day\": \"Sun\", \"time\": \"Dinner\", \"size\": 4}, {\"total_bill\": 12.66, \"tip\": 2.5, \"sex\": \"Male\", \"smoker\": \"No\", \"day\": \"Sun\", \"time\": \"Dinner\", \"size\": 2}, {\"total_bill\": 16.21, \"tip\": 2.0, \"sex\": \"Female\", \"smoker\": \"No\", \"day\": \"Sun\", \"time\": \"Dinner\", \"size\": 3}, {\"total_bill\": 13.81, \"tip\": 2.0, \"sex\": \"Male\", \"smoker\": \"No\", \"day\": \"Sun\", \"time\": \"Dinner\", \"size\": 2}, {\"total_bill\": 17.51, \"tip\": 3.0, \"sex\": \"Female\", \"smoker\": \"Yes\", \"day\": \"Sun\", \"time\": \"Dinner\", \"size\": 2}, {\"total_bill\": 24.52, \"tip\": 3.48, \"sex\": \"Male\", \"smoker\": \"No\", \"day\": \"Sun\", \"time\": \"Dinner\", \"size\": 3}, {\"total_bill\": 20.76, \"tip\": 2.24, \"sex\": \"Male\", \"smoker\": \"No\", \"day\": \"Sun\", \"time\": \"Dinner\", \"size\": 2}, {\"total_bill\": 31.71, \"tip\": 4.5, \"sex\": \"Male\", \"smoker\": \"No\", \"day\": \"Sun\", \"time\": \"Dinner\", \"size\": 4}, {\"total_bill\": 10.59, \"tip\": 1.61, \"sex\": \"Female\", \"smoker\": \"Yes\", \"day\": \"Sat\", \"time\": \"Dinner\", \"size\": 2}, {\"total_bill\": 10.63, \"tip\": 2.0, \"sex\": \"Female\", \"smoker\": \"Yes\", \"day\": \"Sat\", \"time\": \"Dinner\", \"size\": 2}, {\"total_bill\": 50.81, \"tip\": 10.0, \"sex\": \"Male\", \"smoker\": \"Yes\", \"day\": \"Sat\", \"time\": \"Dinner\", \"size\": 3}, {\"total_bill\": 15.81, \"tip\": 3.16, \"sex\": \"Male\", \"smoker\": \"Yes\", \"day\": \"Sat\", \"time\": \"Dinner\", \"size\": 2}, {\"total_bill\": 7.25, \"tip\": 5.15, \"sex\": \"Male\", \"smoker\": \"Yes\", \"day\": \"Sun\", \"time\": \"Dinner\", \"size\": 2}, {\"total_bill\": 31.85, \"tip\": 3.18, \"sex\": \"Male\", \"smoker\": \"Yes\", \"day\": \"Sun\", \"time\": \"Dinner\", \"size\": 2}, {\"total_bill\": 16.82, \"tip\": 4.0, \"sex\": \"Male\", \"smoker\": \"Yes\", \"day\": \"Sun\", \"time\": \"Dinner\", \"size\": 2}, {\"total_bill\": 32.9, \"tip\": 3.11, \"sex\": \"Male\", \"smoker\": \"Yes\", \"day\": \"Sun\", \"time\": \"Dinner\", \"size\": 2}, {\"total_bill\": 17.89, \"tip\": 2.0, \"sex\": \"Male\", \"smoker\": \"Yes\", \"day\": \"Sun\", \"time\": \"Dinner\", \"size\": 2}, {\"total_bill\": 14.48, \"tip\": 2.0, \"sex\": \"Male\", \"smoker\": \"Yes\", \"day\": \"Sun\", \"time\": \"Dinner\", \"size\": 2}, {\"total_bill\": 9.6, \"tip\": 4.0, \"sex\": \"Female\", \"smoker\": \"Yes\", \"day\": \"Sun\", \"time\": \"Dinner\", \"size\": 2}, {\"total_bill\": 34.63, \"tip\": 3.55, \"sex\": \"Male\", \"smoker\": \"Yes\", \"day\": \"Sun\", \"time\": \"Dinner\", \"size\": 2}, {\"total_bill\": 34.65, \"tip\": 3.68, \"sex\": \"Male\", \"smoker\": \"Yes\", \"day\": \"Sun\", \"time\": \"Dinner\", \"size\": 4}, {\"total_bill\": 23.33, \"tip\": 5.65, \"sex\": \"Male\", \"smoker\": \"Yes\", \"day\": \"Sun\", \"time\": \"Dinner\", \"size\": 2}, {\"total_bill\": 45.35, \"tip\": 3.5, \"sex\": \"Male\", \"smoker\": \"Yes\", \"day\": \"Sun\", \"time\": \"Dinner\", \"size\": 3}, {\"total_bill\": 23.17, \"tip\": 6.5, \"sex\": \"Male\", \"smoker\": \"Yes\", \"day\": \"Sun\", \"time\": \"Dinner\", \"size\": 4}, {\"total_bill\": 40.55, \"tip\": 3.0, \"sex\": \"Male\", \"smoker\": \"Yes\", \"day\": \"Sun\", \"time\": \"Dinner\", \"size\": 2}, {\"total_bill\": 20.69, \"tip\": 5.0, \"sex\": \"Male\", \"smoker\": \"No\", \"day\": \"Sun\", \"time\": \"Dinner\", \"size\": 5}, {\"total_bill\": 20.9, \"tip\": 3.5, \"sex\": \"Female\", \"smoker\": \"Yes\", \"day\": \"Sun\", \"time\": \"Dinner\", \"size\": 3}, {\"total_bill\": 30.46, \"tip\": 2.0, \"sex\": \"Male\", \"smoker\": \"Yes\", \"day\": \"Sun\", \"time\": \"Dinner\", \"size\": 5}, {\"total_bill\": 18.15, \"tip\": 3.5, \"sex\": \"Female\", \"smoker\": \"Yes\", \"day\": \"Sun\", \"time\": \"Dinner\", \"size\": 3}, {\"total_bill\": 23.1, \"tip\": 4.0, \"sex\": \"Male\", \"smoker\": \"Yes\", \"day\": \"Sun\", \"time\": \"Dinner\", \"size\": 3}, {\"total_bill\": 15.69, \"tip\": 1.5, \"sex\": \"Male\", \"smoker\": \"Yes\", \"day\": \"Sun\", \"time\": \"Dinner\", \"size\": 2}, {\"total_bill\": 19.81, \"tip\": 4.19, \"sex\": \"Female\", \"smoker\": \"Yes\", \"day\": \"Thur\", \"time\": \"Lunch\", \"size\": 2}, {\"total_bill\": 28.44, \"tip\": 2.56, \"sex\": \"Male\", \"smoker\": \"Yes\", \"day\": \"Thur\", \"time\": \"Lunch\", \"size\": 2}, {\"total_bill\": 15.48, \"tip\": 2.02, \"sex\": \"Male\", \"smoker\": \"Yes\", \"day\": \"Thur\", \"time\": \"Lunch\", \"size\": 2}, {\"total_bill\": 16.58, \"tip\": 4.0, \"sex\": \"Male\", \"smoker\": \"Yes\", \"day\": \"Thur\", \"time\": \"Lunch\", \"size\": 2}, {\"total_bill\": 7.56, \"tip\": 1.44, \"sex\": \"Male\", \"smoker\": \"No\", \"day\": \"Thur\", \"time\": \"Lunch\", \"size\": 2}, {\"total_bill\": 10.34, \"tip\": 2.0, \"sex\": \"Male\", \"smoker\": \"Yes\", \"day\": \"Thur\", \"time\": \"Lunch\", \"size\": 2}, {\"total_bill\": 43.11, \"tip\": 5.0, \"sex\": \"Female\", \"smoker\": \"Yes\", \"day\": \"Thur\", \"time\": \"Lunch\", \"size\": 4}, {\"total_bill\": 13.0, \"tip\": 2.0, \"sex\": \"Female\", \"smoker\": \"Yes\", \"day\": \"Thur\", \"time\": \"Lunch\", \"size\": 2}, {\"total_bill\": 13.51, \"tip\": 2.0, \"sex\": \"Male\", \"smoker\": \"Yes\", \"day\": \"Thur\", \"time\": \"Lunch\", \"size\": 2}, {\"total_bill\": 18.71, \"tip\": 4.0, \"sex\": \"Male\", \"smoker\": \"Yes\", \"day\": \"Thur\", \"time\": \"Lunch\", \"size\": 3}, {\"total_bill\": 12.74, \"tip\": 2.01, \"sex\": \"Female\", \"smoker\": \"Yes\", \"day\": \"Thur\", \"time\": \"Lunch\", \"size\": 2}, {\"total_bill\": 13.0, \"tip\": 2.0, \"sex\": \"Female\", \"smoker\": \"Yes\", \"day\": \"Thur\", \"time\": \"Lunch\", \"size\": 2}, {\"total_bill\": 16.4, \"tip\": 2.5, \"sex\": \"Female\", \"smoker\": \"Yes\", \"day\": \"Thur\", \"time\": \"Lunch\", \"size\": 2}, {\"total_bill\": 20.53, \"tip\": 4.0, \"sex\": \"Male\", \"smoker\": \"Yes\", \"day\": \"Thur\", \"time\": \"Lunch\", \"size\": 4}, {\"total_bill\": 16.47, \"tip\": 3.23, \"sex\": \"Female\", \"smoker\": \"Yes\", \"day\": \"Thur\", \"time\": \"Lunch\", \"size\": 3}, {\"total_bill\": 26.59, \"tip\": 3.41, \"sex\": \"Male\", \"smoker\": \"Yes\", \"day\": \"Sat\", \"time\": \"Dinner\", \"size\": 3}, {\"total_bill\": 38.73, \"tip\": 3.0, \"sex\": \"Male\", \"smoker\": \"Yes\", \"day\": \"Sat\", \"time\": \"Dinner\", \"size\": 4}, {\"total_bill\": 24.27, \"tip\": 2.03, \"sex\": \"Male\", \"smoker\": \"Yes\", \"day\": \"Sat\", \"time\": \"Dinner\", \"size\": 2}, {\"total_bill\": 12.76, \"tip\": 2.23, \"sex\": \"Female\", \"smoker\": \"Yes\", \"day\": \"Sat\", \"time\": \"Dinner\", \"size\": 2}, {\"total_bill\": 30.06, \"tip\": 2.0, \"sex\": \"Male\", \"smoker\": \"Yes\", \"day\": \"Sat\", \"time\": \"Dinner\", \"size\": 3}, {\"total_bill\": 25.89, \"tip\": 5.16, \"sex\": \"Male\", \"smoker\": \"Yes\", \"day\": \"Sat\", \"time\": \"Dinner\", \"size\": 4}, {\"total_bill\": 48.33, \"tip\": 9.0, \"sex\": \"Male\", \"smoker\": \"No\", \"day\": \"Sat\", \"time\": \"Dinner\", \"size\": 4}, {\"total_bill\": 13.27, \"tip\": 2.5, \"sex\": \"Female\", \"smoker\": \"Yes\", \"day\": \"Sat\", \"time\": \"Dinner\", \"size\": 2}, {\"total_bill\": 28.17, \"tip\": 6.5, \"sex\": \"Female\", \"smoker\": \"Yes\", \"day\": \"Sat\", \"time\": \"Dinner\", \"size\": 3}, {\"total_bill\": 12.9, \"tip\": 1.1, \"sex\": \"Female\", \"smoker\": \"Yes\", \"day\": \"Sat\", \"time\": \"Dinner\", \"size\": 2}, {\"total_bill\": 28.15, \"tip\": 3.0, \"sex\": \"Male\", \"smoker\": \"Yes\", \"day\": \"Sat\", \"time\": \"Dinner\", \"size\": 5}, {\"total_bill\": 11.59, \"tip\": 1.5, \"sex\": \"Male\", \"smoker\": \"Yes\", \"day\": \"Sat\", \"time\": \"Dinner\", \"size\": 2}, {\"total_bill\": 7.74, \"tip\": 1.44, \"sex\": \"Male\", \"smoker\": \"Yes\", \"day\": \"Sat\", \"time\": \"Dinner\", \"size\": 2}, {\"total_bill\": 30.14, \"tip\": 3.09, \"sex\": \"Female\", \"smoker\": \"Yes\", \"day\": \"Sat\", \"time\": \"Dinner\", \"size\": 4}, {\"total_bill\": 12.16, \"tip\": 2.2, \"sex\": \"Male\", \"smoker\": \"Yes\", \"day\": \"Fri\", \"time\": \"Lunch\", \"size\": 2}, {\"total_bill\": 13.42, \"tip\": 3.48, \"sex\": \"Female\", \"smoker\": \"Yes\", \"day\": \"Fri\", \"time\": \"Lunch\", \"size\": 2}, {\"total_bill\": 8.58, \"tip\": 1.92, \"sex\": \"Male\", \"smoker\": \"Yes\", \"day\": \"Fri\", \"time\": \"Lunch\", \"size\": 1}, {\"total_bill\": 15.98, \"tip\": 3.0, \"sex\": \"Female\", \"smoker\": \"No\", \"day\": \"Fri\", \"time\": \"Lunch\", \"size\": 3}, {\"total_bill\": 13.42, \"tip\": 1.58, \"sex\": \"Male\", \"smoker\": \"Yes\", \"day\": \"Fri\", \"time\": \"Lunch\", \"size\": 2}, {\"total_bill\": 16.27, \"tip\": 2.5, \"sex\": \"Female\", \"smoker\": \"Yes\", \"day\": \"Fri\", \"time\": \"Lunch\", \"size\": 2}, {\"total_bill\": 10.09, \"tip\": 2.0, \"sex\": \"Female\", \"smoker\": \"Yes\", \"day\": \"Fri\", \"time\": \"Lunch\", \"size\": 2}, {\"total_bill\": 20.45, \"tip\": 3.0, \"sex\": \"Male\", \"smoker\": \"No\", \"day\": \"Sat\", \"time\": \"Dinner\", \"size\": 4}, {\"total_bill\": 13.28, \"tip\": 2.72, \"sex\": \"Male\", \"smoker\": \"No\", \"day\": \"Sat\", \"time\": \"Dinner\", \"size\": 2}, {\"total_bill\": 22.12, \"tip\": 2.88, \"sex\": \"Female\", \"smoker\": \"Yes\", \"day\": \"Sat\", \"time\": \"Dinner\", \"size\": 2}, {\"total_bill\": 24.01, \"tip\": 2.0, \"sex\": \"Male\", \"smoker\": \"Yes\", \"day\": \"Sat\", \"time\": \"Dinner\", \"size\": 4}, {\"total_bill\": 15.69, \"tip\": 3.0, \"sex\": \"Male\", \"smoker\": \"Yes\", \"day\": \"Sat\", \"time\": \"Dinner\", \"size\": 3}, {\"total_bill\": 11.61, \"tip\": 3.39, \"sex\": \"Male\", \"smoker\": \"No\", \"day\": \"Sat\", \"time\": \"Dinner\", \"size\": 2}, {\"total_bill\": 10.77, \"tip\": 1.47, \"sex\": \"Male\", \"smoker\": \"No\", \"day\": \"Sat\", \"time\": \"Dinner\", \"size\": 2}, {\"total_bill\": 15.53, \"tip\": 3.0, \"sex\": \"Male\", \"smoker\": \"Yes\", \"day\": \"Sat\", \"time\": \"Dinner\", \"size\": 2}, {\"total_bill\": 10.07, \"tip\": 1.25, \"sex\": \"Male\", \"smoker\": \"No\", \"day\": \"Sat\", \"time\": \"Dinner\", \"size\": 2}, {\"total_bill\": 12.6, \"tip\": 1.0, \"sex\": \"Male\", \"smoker\": \"Yes\", \"day\": \"Sat\", \"time\": \"Dinner\", \"size\": 2}, {\"total_bill\": 32.83, \"tip\": 1.17, \"sex\": \"Male\", \"smoker\": \"Yes\", \"day\": \"Sat\", \"time\": \"Dinner\", \"size\": 2}, {\"total_bill\": 35.83, \"tip\": 4.67, \"sex\": \"Female\", \"smoker\": \"No\", \"day\": \"Sat\", \"time\": \"Dinner\", \"size\": 3}, {\"total_bill\": 29.03, \"tip\": 5.92, \"sex\": \"Male\", \"smoker\": \"No\", \"day\": \"Sat\", \"time\": \"Dinner\", \"size\": 3}, {\"total_bill\": 27.18, \"tip\": 2.0, \"sex\": \"Female\", \"smoker\": \"Yes\", \"day\": \"Sat\", \"time\": \"Dinner\", \"size\": 2}, {\"total_bill\": 22.67, \"tip\": 2.0, \"sex\": \"Male\", \"smoker\": \"Yes\", \"day\": \"Sat\", \"time\": \"Dinner\", \"size\": 2}, {\"total_bill\": 17.82, \"tip\": 1.75, \"sex\": \"Male\", \"smoker\": \"No\", \"day\": \"Sat\", \"time\": \"Dinner\", \"size\": 2}, {\"total_bill\": 18.78, \"tip\": 3.0, \"sex\": \"Female\", \"smoker\": \"No\", \"day\": \"Thur\", \"time\": \"Dinner\", \"size\": 2}]}}, {\"mode\": \"vega-lite\"});\n",
       "</script>"
      ],
      "text/plain": [
       "alt.Chart(...)"
      ]
     },
     "execution_count": 45,
     "metadata": {},
     "output_type": "execute_result"
    }
   ],
   "source": [
    "# Histogram (Altair)\n",
    "alt.Chart(tips).mark_bar().encode(\n",
    "    x=alt.X(\"tip:Q\", bin=True),\n",
    "    y=alt.Y(\"count()\"))"
   ]
  },
  {
   "cell_type": "markdown",
   "metadata": {},
   "source": [
    "### Centrum- en spreidingsmaten"
   ]
  },
  {
   "cell_type": "code",
   "execution_count": 46,
   "metadata": {},
   "outputs": [
    {
     "name": "stdout",
     "output_type": "stream",
     "text": [
      "Gemiddelde:         2.99827868852459\n",
      "Standaardafwijking: 1.3836381890011822\n",
      "Variantie:          1.914454638062471\n",
      "Scheefheid:         1.4654510370979401\n",
      "Kurtosis:           3.648375873352852\n",
      "Minimum: 1.0\n",
      "Mediaan: 2.9\n",
      "Maximum: 10.0\n",
      "Percentielen [0.0, 0.25, 0.5, 0.75, 1.0] \n",
      " 0.00     1.0000\n",
      "0.25     2.0000\n",
      "0.50     2.9000\n",
      "0.75     3.5625\n",
      "1.00    10.0000\n",
      "Name: tip, dtype: float64\n",
      "Interkwartielafstand: 1.5625\n"
     ]
    }
   ],
   "source": [
    "# Centrum- en spreidingsmaten\n",
    "# Gemiddelde, standaardafwijking & vrienden\n",
    "print(\"Gemiddelde:        \", tips[\"tip\"].mean())\n",
    "print(\"Standaardafwijking:\", tips[\"tip\"].std()) # Let op: n-1 in de noemer!\n",
    "print(\"Variantie:         \", tips[\"tip\"].var()) # Let op: n-1 in de noemer!\n",
    "print(\"Scheefheid:        \", tips[\"tip\"].skew())\n",
    "print(\"Kurtosis:          \", tips[\"tip\"].kurtosis())\n",
    "\n",
    "# Mediaan & co\n",
    "print(\"Minimum:\", tips[\"tip\"].min())\n",
    "print(\"Mediaan:\", tips[\"tip\"].median())\n",
    "print(\"Maximum:\", tips[\"tip\"].max())\n",
    "percentielen = [0.0, 0.25, 0.5, 0.75, 1.0]\n",
    "print(\"Percentielen\", percentielen, \"\\n\", tips[\"tip\"].quantile(percentielen))\n",
    "print(\"Interkwartielafstand:\", tips[\"tip\"].quantile(.75) - tips[\"tip\"].quantile(.25))"
   ]
  },
  {
   "cell_type": "code",
   "execution_count": 47,
   "metadata": {},
   "outputs": [
    {
     "data": {
      "text/plain": [
       "count    244.000000\n",
       "mean       2.998279\n",
       "std        1.383638\n",
       "min        1.000000\n",
       "25%        2.000000\n",
       "50%        2.900000\n",
       "75%        3.562500\n",
       "max       10.000000\n",
       "Name: tip, dtype: float64"
      ]
     },
     "execution_count": 47,
     "metadata": {},
     "output_type": "execute_result"
    }
   ],
   "source": [
    "# Enkele beschrijvende maten:\n",
    "tips[\"tip\"].describe()"
   ]
  },
  {
   "cell_type": "markdown",
   "metadata": {},
   "source": [
    "## Formule voor standaardafwijking\n",
    "\n",
    "Waarom gebruiken we $n-1$ in de noemer van de formule voor de standaardafwijking van een steekproef en niet $n$? Deze eerste geeft een betere (\"unbiased\") schatting voor wat de standaardafwijking in de populatie zal zijn, op basis van onze steekproef. We kunnen dit wiskundig bewijzen, maar dat valt buiten het bereik van deze cursus. We zullen het echter empirisch onderzoeken.\n",
    "\n",
    "We gaan eerst de functies voor variantie van de populatie en steekproef definiëren:"
   ]
  },
  {
   "cell_type": "code",
   "execution_count": 48,
   "metadata": {},
   "outputs": [
    {
     "data": {
      "text/plain": [
       "5.760000000000001"
      ]
     },
     "execution_count": 48,
     "metadata": {},
     "output_type": "execute_result"
    },
    {
     "data": {
      "text/plain": [
       "6.3999999999999995"
      ]
     },
     "execution_count": 48,
     "metadata": {},
     "output_type": "execute_result"
    },
    {
     "data": {
      "text/plain": [
       "2.4000000000000004"
      ]
     },
     "execution_count": 48,
     "metadata": {},
     "output_type": "execute_result"
    },
    {
     "data": {
      "text/plain": [
       "2.5298221281347035"
      ]
     },
     "execution_count": 48,
     "metadata": {},
     "output_type": "execute_result"
    }
   ],
   "source": [
    "# Variantie van de populatie\n",
    "def pop_var(x):\n",
    "    n = len(x)\n",
    "    mean = sum(x) / n\n",
    "    return 1/n * sum((x - mean) ** 2)\n",
    "\n",
    "# Standaardafwijking van de populatie\n",
    "def pop_sd(x):\n",
    "    return np.sqrt(pop_var(x))\n",
    "\n",
    "# Variantie van een steekproef\n",
    "def sample_var(x):\n",
    "    n = len(x)\n",
    "    mean = sum(x) / n\n",
    "    return 1/(n-1) * sum((x - mean) ** 2)\n",
    "\n",
    "# Standaardafwijking van een steekproef\n",
    "def sample_sd(x):\n",
    "    return np.sqrt(sample_var(x))\n",
    "\n",
    "# Als we de variantie berekenen op beide manieren zien we een verschil:\n",
    "a = np.array([4, 8, 6, 5, 3, 2, 8, 9, 2, 5])\n",
    "\n",
    "pop_var(a)\n",
    "sample_var(a)\n",
    "\n",
    "pop_sd(a)\n",
    "sample_sd(a)"
   ]
  },
  {
   "cell_type": "markdown",
   "metadata": {},
   "source": [
    "Welke is nu de beste formule voor de standaardafwijking van een steekproef? Laat ons veronderstellen dat onze populatie bestaat uit alle getallen van 0 t/m 100. We berekenen eerst het gemiddelde en standaardafwijking van deze populatie."
   ]
  },
  {
   "cell_type": "code",
   "execution_count": 49,
   "metadata": {},
   "outputs": [
    {
     "name": "stdout",
     "output_type": "stream",
     "text": [
      "Gemiddelde: 50.0\n",
      "Variantie : 850.0\n",
      "Stdev     : 29.154759474226502\n"
     ]
    }
   ],
   "source": [
    "population = np.array(range(0, 101))\n",
    "\n",
    "population_mean = sum(population) / len(population)\n",
    "print(f'Gemiddelde: {population_mean}')\n",
    "\n",
    "population_variance = pop_var(population)\n",
    "print(f'Variantie : {population_variance}')\n",
    "\n",
    "population_stdev = pop_sd(population)\n",
    "print(f'Stdev     : {population_stdev}')"
   ]
  },
  {
   "cell_type": "markdown",
   "metadata": {},
   "source": [
    "Nu het eigenlijke experiment: we nemen herhaaldelijk een aselecte steekproef uit deze populatie en kijken naar het resultaat van beide formules voor de variantie. De formule die over een groot aantal iteraties het kortst bij de werkelijke variantie van de populatie komt, zullen we verkiezen."
   ]
  },
  {
   "cell_type": "code",
   "execution_count": 50,
   "metadata": {},
   "outputs": [
    {
     "name": "stdout",
     "output_type": "stream",
     "text": [
      "Gemiddelde resultaat met formule populatie: 27.929146073473163\n",
      "Gemiddelde resultaat met formule steekproef: 28.90941271071824\n"
     ]
    }
   ],
   "source": [
    "sample_size = 15            # steekproefgrootte\n",
    "num_samples = 5000          # aantal keer dat we een steekproef gaan nemen\n",
    "\n",
    "# We gaan het gemiddelde berekenen van het resultaat met elke formule\n",
    "# Daarvoor houden we de som bij van deze resultaten en delen achteraf door het\n",
    "# aantal steekproeven\n",
    "sum_pop = 0\n",
    "sum_smp = 0\n",
    "\n",
    "for _ in range(num_samples):\n",
    "    sample = np.random.choice(population, size=sample_size)\n",
    "    sum_pop = sum_pop + pop_sd(sample)\n",
    "    sum_smp = sum_smp + sample_sd(sample)\n",
    "\n",
    "print(f\"Gemiddelde resultaat met formule populatie: {sum_pop/num_samples}\")\n",
    "print(f\"Gemiddelde resultaat met formule steekproef: {sum_smp/num_samples}\")\n"
   ]
  },
  {
   "cell_type": "markdown",
   "metadata": {},
   "source": [
    "We zien dat de formule met $n$ als noemer de werkelijke waarde van de standaardafwijking voor de populatie onderschat. De formule met $n-1$ als noemer geeft consistent een betere schatting. Daarom zullen we ook telkens deze formule gebruiken.\n",
    "\n",
    "Merk op dat we de formule voor variantie en standaardafwijking niet zelf moeten implementeren. Hier hebben we dat gedaan om te tonen hoe deze formules werken. In numpy zitten al functies die doen wat we willen:"
   ]
  },
  {
   "cell_type": "code",
   "execution_count": 51,
   "metadata": {},
   "outputs": [
    {
     "data": {
      "text/plain": [
       "2.0"
      ]
     },
     "execution_count": 51,
     "metadata": {},
     "output_type": "execute_result"
    },
    {
     "data": {
      "text/plain": [
       "2.0"
      ]
     },
     "execution_count": 51,
     "metadata": {},
     "output_type": "execute_result"
    },
    {
     "data": {
      "text/plain": [
       "2.5"
      ]
     },
     "execution_count": 51,
     "metadata": {},
     "output_type": "execute_result"
    },
    {
     "data": {
      "text/plain": [
       "2.5"
      ]
     },
     "execution_count": 51,
     "metadata": {},
     "output_type": "execute_result"
    },
    {
     "data": {
      "text/plain": [
       "1.4142135623730951"
      ]
     },
     "execution_count": 51,
     "metadata": {},
     "output_type": "execute_result"
    },
    {
     "data": {
      "text/plain": [
       "1.5811388300841898"
      ]
     },
     "execution_count": 51,
     "metadata": {},
     "output_type": "execute_result"
    }
   ],
   "source": [
    "a = np.array([1,2,3,4,5])\n",
    "\n",
    "np.var(a)         # Variantie van de populatie met Numpy\n",
    "pop_var(a)        # Ter vergelijking onze eigen formule\n",
    "\n",
    "np.var(a, ddof=1) # Variantie van een steekproef met Numpy\n",
    "sample_var(a)     # Onze eigen formule\n",
    "\n",
    "np.std(a)         # Standaardafwijking van de populatie\n",
    "np.std(a, ddof=1) # Standaardafwijking van een steekproef"
   ]
  }
 ],
 "metadata": {
  "kernelspec": {
   "display_name": "Python 3.9.1 64-bit",
   "metadata": {
    "interpreter": {
     "hash": "767d51c1340bd893661ea55ea3124f6de3c7a262a8b4abca0554b478b1e2ff90"
    }
   },
   "name": "python3"
  },
  "language_info": {
   "codemirror_mode": {
    "name": "ipython",
    "version": 3
   },
   "file_extension": ".py",
   "mimetype": "text/x-python",
   "name": "python",
   "nbconvert_exporter": "python",
   "pygments_lexer": "ipython3",
   "version": "3.10.0"
  },
  "orig_nbformat": 2
 },
 "nbformat": 4,
 "nbformat_minor": 2
}
